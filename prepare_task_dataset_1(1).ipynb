{
 "cells": [
  {
   "cell_type": "markdown",
   "id": "2287d9df-a1b8-4fc7-8373-01ab1721225d",
   "metadata": {},
   "source": [
    "# Prepare Datasets for Benchmarking Tasks\n",
    "\n",
    "> author: Shizhenkun   \n",
    "> email: zhenkun.shi@tib.cas.cn   \n",
    "> date: 2022-10-05  \n",
    "\n",
    "\n",
    "## Dataset1. Enzyme None-enzyme Dataset\n",
    "The enzyme dataset is consists of two parts: <u>a training set</u> and <u>a testing set</u>.   \n",
    "The training set is from snapshot Feb-2018 and ***excludes*** those <u>deleted items</u> and <u>sequences changed items</u> in snapshot Feb-2022.    \n",
    "The training set is consists of ***469,134*** records, of which ***222,567*** are enzymes, and ***246,567*** are none-enzymes.   \n",
    "The testing set is from snapshot Feb-2022 and excludes these items that appeared in snapshot Feb-2018.   \n",
    "The testing set is consists of ***10,614*** records, of which ***5111*** are enzymes, and ***5503*** are none-enzymes.   \n",
    "Unlike previous works,  we did not filter any sequences in terms of length and homology to make the data more inclusive. We make a label for each sequence, 1 for enzyme and 0 for none-enzyme.   \n",
    "\n",
    "## Dataset2. Enzyme Function Quantity Dataset\n",
    "The enzyme quantity dataset only contains enzyme data, contain ***222,567*** records. The function quantity ranges from 1 to 8.\n",
    "\n",
    "## Dataset 3: EC Dataset\n",
    "\n",
    "The EC dataset consists of 227,678 enzyme records, 222,567 are training-set, and the rest 5111 are testing-set, covering 6,031 EC numbers. Up to Feb 2022, ***cmopared with [ExplorEnz](https://www.enzyme-database.org/stats.php) CURRENT EC = 6674***, there still exist 643 EC numbers that the model can not handle in the benchmarking. Thus, we exclude the sequences with these 267 EC numbers in the evaluation process. But, this problem can be resolved in the production scenario because we use the entire data from Swiss-Prot. Now the EC coverage is 6,031 and can be automatically extended, for the training is real-time based on the publication of Swiss-Prot every 8 weeks. "
   ]
  },
  {
   "cell_type": "markdown",
   "id": "6c6db9dd-5c89-423e-8131-b2e5b4c01618",
   "metadata": {},
   "source": [
    "## 1. Import packages"
   ]
  },
  {
   "cell_type": "code",
   "execution_count": 1,
   "id": "8fd276ba-aec4-4edf-a2d1-682a15233476",
   "metadata": {
    "tags": []
   },
   "outputs": [
    {
     "name": "stdout",
     "output_type": "stream",
     "text": [
      "INFO: Pandarallel will run on 52 workers.\n",
      "INFO: Pandarallel will use Memory file system to transfer data between the main process and workers.\n"
     ]
    }
   ],
   "source": [
    "import numpy as np\n",
    "import pandas as pd\n",
    "import sys,os\n",
    "from tqdm import tqdm\n",
    "import config as cfg\n",
    "from functools import reduce\n",
    "os.environ[\"TF_CPP_MIN_LOG_LEVEL\"] = \"2\"\n",
    "from tools import filetool as ftool\n",
    "from tools import exact_ec_from_uniprot as exactec\n",
    "from tools import funclib\n",
    "from tools import minitools as mtool\n",
    "from tools import embdding_onehot as onehotebd\n",
    "from pandarallel import pandarallel\n",
    "pandarallel.initialize(progress_bar=False)\n",
    "\n",
    "from sklearn.preprocessing import MultiLabelBinarizer\n",
    "from keras.models import Model\n",
    "from keras.optimizers import Adam\n",
    "from keras.layers import Input, Dense\n",
    "from keras.layers import GRU, Bidirectional\n",
    "from tools import Attention\n",
    "\n",
    "%load_ext autoreload\n",
    "%autoreload 2\n",
    "\n"
   ]
  },
  {
   "cell_type": "markdown",
   "id": "901557a4-c496-4608-84e2-3306f6a322e3",
   "metadata": {},
   "source": [
    "## 2. Download rawdata from unisprot\n",
    "\n",
    "> IF first time run pls uncomment the cell below"
   ]
  },
  {
   "cell_type": "code",
   "execution_count": 2,
   "id": "8fe2ccc2",
   "metadata": {},
   "outputs": [
    {
     "name": "stdout",
     "output_type": "stream",
     "text": [
      "wget -q https://ftp.uniprot.org/pub/databases/uniprot/current_release/knowledgebase/complete/uniprot_sprot.dat.gz -O /home/dengrui/DMLF/data/uniprot/uniprot_sprot_leatest_20221118.dat.gz\n"
     ]
    }
   ],
   "source": [
    "# load data20221118\n",
    "ftool.wget(download_url=cfg.URL_DATA_20221118, save_file=cfg.FILE_DATA_20221118)"
   ]
  },
  {
   "cell_type": "markdown",
   "id": "c10cb9c0-94bc-4525-9795-1b818a977c69",
   "metadata": {},
   "source": [
    "## 3. Extract records from rawdata"
   ]
  },
  {
   "cell_type": "code",
   "execution_count": 3,
   "id": "6d6cd285",
   "metadata": {},
   "outputs": [
    {
     "name": "stderr",
     "output_type": "stream",
     "text": [
      "tar: This does not look like a tar archive\n",
      "tar: Skipping to next header\n",
      "tar: Exiting with failure status due to previous errors\n"
     ]
    },
    {
     "data": {
      "text/plain": [
       "[512, 0, 0]"
      ]
     },
     "execution_count": 3,
     "metadata": {},
     "output_type": "execute_result"
    }
   ],
   "source": [
    "cmd_array = [\n",
    "    # last data\n",
    "    f'tar -zxvf {cfg.FILE_DATA_20221118} -C {cfg.DIR_UNIPROT}',\n",
    "    f'mv {cfg.DIR_UNIPROT}uniprot_sprot_leatest_20221118.dat.gz {cfg.DIR_UNIPROT}uniprot_sprot_leatest_20221118.data.gz', \n",
    "    f'rm -f {cfg.DIR_UNIPROT}uniprot_sprot.fasta.gz {cfg.DIR_UNIPROT}uniprot_sprot_varsplic.fasta.gz {cfg.DIR_UNIPROT}uniprot_sprot.xml.gz'\n",
    "]\n",
    "\n",
    "[os.system(item) for item in cmd_array]"
   ]
  },
  {
   "cell_type": "code",
   "execution_count": 4,
   "id": "f01b7a5f",
   "metadata": {},
   "outputs": [
    {
     "name": "stdout",
     "output_type": "stream",
     "text": [
      "finished use time 313.882 s\n"
     ]
    }
   ],
   "source": [
    "# #lasten data\n",
    "exactec.run_exact_task(infile=f'{cfg.DIR_UNIPROT}uniprot_sprot_leatest_20221118.data.gz', outfile=f'{cfg.DIR_UNIPROT}uniprot_sprot_leatest_20221118.tsv')\n"
   ]
  },
  {
   "cell_type": "markdown",
   "id": "b3339787-1f45-426c-8163-e2015a746088",
   "metadata": {},
   "source": [
    "## 4. Load records & Drop Duplicates"
   ]
  },
  {
   "cell_type": "code",
   "execution_count": 5,
   "id": "06b09799-fb74-4967-b764-10e6e6de375c",
   "metadata": {
    "tags": []
   },
   "outputs": [],
   "source": [
    "#加载数据并转换时间格式\n",
    "uniprot_sprot_leatest_20221118 = pd.read_csv(f'{cfg.DIR_UNIPROT}uniprot_sprot_leatest_20221118.tsv', sep='\\t',header=0) #读入文件\n",
    "uniprot_sprot_leatest_20221118 = mtool.convert_DF_dateTime(inputdf = uniprot_sprot_leatest_20221118)\n",
    "\n",
    "#Drop Duplicates\n",
    "uniprot_sprot_leatest_20221118.drop_duplicates(subset=['seq'], keep='first', inplace=True)\n",
    "uniprot_sprot_leatest_20221118.reset_index(drop=True, inplace=True)\n"
   ]
  },
  {
   "cell_type": "code",
   "execution_count": 6,
   "id": "4333ae6d",
   "metadata": {},
   "outputs": [
    {
     "data": {
      "text/html": [
       "<div>\n",
       "<style scoped>\n",
       "    .dataframe tbody tr th:only-of-type {\n",
       "        vertical-align: middle;\n",
       "    }\n",
       "\n",
       "    .dataframe tbody tr th {\n",
       "        vertical-align: top;\n",
       "    }\n",
       "\n",
       "    .dataframe thead th {\n",
       "        text-align: right;\n",
       "    }\n",
       "</style>\n",
       "<table border=\"1\" class=\"dataframe\">\n",
       "  <thead>\n",
       "    <tr style=\"text-align: right;\">\n",
       "      <th></th>\n",
       "      <th>id</th>\n",
       "      <th>name</th>\n",
       "      <th>isenzyme</th>\n",
       "      <th>isMultiFunctional</th>\n",
       "      <th>functionCounts</th>\n",
       "      <th>ec_number</th>\n",
       "      <th>ec_specific_level</th>\n",
       "      <th>date_integraged</th>\n",
       "      <th>date_sequence_update</th>\n",
       "      <th>date_annotation_update</th>\n",
       "      <th>seq</th>\n",
       "      <th>seqlength</th>\n",
       "    </tr>\n",
       "  </thead>\n",
       "  <tbody>\n",
       "    <tr>\n",
       "      <th>0</th>\n",
       "      <td>P03742</td>\n",
       "      <td>FIB35_BPT4</td>\n",
       "      <td>False</td>\n",
       "      <td>False</td>\n",
       "      <td>0</td>\n",
       "      <td>-</td>\n",
       "      <td>0</td>\n",
       "      <td>1986-07-21</td>\n",
       "      <td>2001-12-19</td>\n",
       "      <td>2020-08-12</td>\n",
       "      <td>MEKFMAEFGQGYVQTPFLSESNSVRYKISIAGSCPLSTAGPSYVKF...</td>\n",
       "      <td>372</td>\n",
       "    </tr>\n",
       "    <tr>\n",
       "      <th>1</th>\n",
       "      <td>P00648</td>\n",
       "      <td>RNBR_BACAM</td>\n",
       "      <td>True</td>\n",
       "      <td>False</td>\n",
       "      <td>1</td>\n",
       "      <td>3.1.27.-</td>\n",
       "      <td>3</td>\n",
       "      <td>1986-07-21</td>\n",
       "      <td>1989-07-01</td>\n",
       "      <td>2022-05-25</td>\n",
       "      <td>MMKMEGIALKKRLSWISVCLLVLVSAAGMLFSTAAKTETSSHKAHT...</td>\n",
       "      <td>157</td>\n",
       "    </tr>\n",
       "    <tr>\n",
       "      <th>2</th>\n",
       "      <td>P00155</td>\n",
       "      <td>CYF_PEA</td>\n",
       "      <td>False</td>\n",
       "      <td>False</td>\n",
       "      <td>0</td>\n",
       "      <td>-</td>\n",
       "      <td>0</td>\n",
       "      <td>1986-07-21</td>\n",
       "      <td>1989-07-01</td>\n",
       "      <td>2022-10-12</td>\n",
       "      <td>MQTRNAFSWIKKEITRSISVLLMIYIITRAPISNAYPIFAQQGYEN...</td>\n",
       "      <td>320</td>\n",
       "    </tr>\n",
       "  </tbody>\n",
       "</table>\n",
       "</div>"
      ],
      "text/plain": [
       "       id        name  isenzyme  isMultiFunctional  functionCounts ec_number  \\\n",
       "0  P03742  FIB35_BPT4     False              False               0         -   \n",
       "1  P00648  RNBR_BACAM      True              False               1  3.1.27.-   \n",
       "2  P00155     CYF_PEA     False              False               0         -   \n",
       "\n",
       "   ec_specific_level date_integraged date_sequence_update  \\\n",
       "0                  0      1986-07-21           2001-12-19   \n",
       "1                  3      1986-07-21           1989-07-01   \n",
       "2                  0      1986-07-21           1989-07-01   \n",
       "\n",
       "  date_annotation_update                                                seq  \\\n",
       "0             2020-08-12  MEKFMAEFGQGYVQTPFLSESNSVRYKISIAGSCPLSTAGPSYVKF...   \n",
       "1             2022-05-25  MMKMEGIALKKRLSWISVCLLVLVSAAGMLFSTAAKTETSSHKAHT...   \n",
       "2             2022-10-12  MQTRNAFSWIKKEITRSISVLLMIYIITRAPISNAYPIFAQQGYEN...   \n",
       "\n",
       "   seqlength  \n",
       "0        372  \n",
       "1        157  \n",
       "2        320  "
      ]
     },
     "execution_count": 6,
     "metadata": {},
     "output_type": "execute_result"
    }
   ],
   "source": [
    "uniprot_sprot_leatest_20221118.head(3)"
   ]
  },
  {
   "cell_type": "markdown",
   "id": "4b0f9da8-aad5-40aa-bb31-3fef682bd971",
   "metadata": {},
   "source": [
    "## 5. Preprocessing\n",
    "### 5.1 format EC"
   ]
  },
  {
   "cell_type": "code",
   "execution_count": 7,
   "id": "1f90d9b3-f19d-4767-8d78-d54605b49971",
   "metadata": {},
   "outputs": [
    {
     "name": "stdout",
     "output_type": "stream",
     "text": [
      "uniprot_sprot_leatest_20221118 finished\n"
     ]
    }
   ],
   "source": [
    "uniprot_sprot_leatest_20221118['ec_number'] = uniprot_sprot_leatest_20221118.ec_number.parallel_apply(lambda x: mtool.format_ec(x))\n",
    "uniprot_sprot_leatest_20221118['ec_number'] = uniprot_sprot_leatest_20221118.ec_number.parallel_apply(lambda x: mtool.specific_ecs(x))\n",
    "uniprot_sprot_leatest_20221118['functionCounts'] = uniprot_sprot_leatest_20221118.ec_number.parallel_apply(lambda x: 0 if x=='-'  else len(x.split(',')))\n",
    "\n",
    "print('uniprot_sprot_leatest_20221118 finished')"
   ]
  },
  {
   "cell_type": "code",
   "execution_count": 8,
   "id": "00459386",
   "metadata": {},
   "outputs": [],
   "source": [
    "uniprot_sprot_leatest_20221118.to_feather(cfg.DIR_UNIPROT + '/uniprot_sprot_leatest_20221118.feather')"
   ]
  },
  {
   "cell_type": "markdown",
   "id": "39035c66-814a-43cc-84dc-38a6cecc56fb",
   "metadata": {},
   "source": [
    "### 5.2 Split Tain Test"
   ]
  },
  {
   "cell_type": "markdown",
   "id": "2457a4e7-5b0c-4194-a595-36bbcb14a9b2",
   "metadata": {},
   "source": [
    "### 5.3 Remove changed seqence in test set"
   ]
  },
  {
   "cell_type": "markdown",
   "id": "5ac86e68-e449-4b64-8bc4-f415301f675b",
   "metadata": {},
   "source": [
    "### 5.4 Trim string"
   ]
  },
  {
   "cell_type": "code",
   "execution_count": 9,
   "id": "f4ede799-40d1-43f3-81be-c5fbbb70e7dc",
   "metadata": {},
   "outputs": [],
   "source": [
    "with pd.option_context('mode.chained_assignment', None):\n",
    "    uniprot_sprot_leatest_20221118.ec_number = uniprot_sprot_leatest_20221118.ec_number.parallel_apply(lambda x : str(x).strip()) #ec trim\n",
    "    uniprot_sprot_leatest_20221118.seq = uniprot_sprot_leatest_20221118.seq.parallel_apply(lambda x : str(x).strip()) #seq trim"
   ]
  },
  {
   "cell_type": "code",
   "execution_count": 10,
   "id": "684355fc",
   "metadata": {},
   "outputs": [
    {
     "data": {
      "text/html": [
       "<div>\n",
       "<style scoped>\n",
       "    .dataframe tbody tr th:only-of-type {\n",
       "        vertical-align: middle;\n",
       "    }\n",
       "\n",
       "    .dataframe tbody tr th {\n",
       "        vertical-align: top;\n",
       "    }\n",
       "\n",
       "    .dataframe thead th {\n",
       "        text-align: right;\n",
       "    }\n",
       "</style>\n",
       "<table border=\"1\" class=\"dataframe\">\n",
       "  <thead>\n",
       "    <tr style=\"text-align: right;\">\n",
       "      <th></th>\n",
       "      <th>id</th>\n",
       "      <th>name</th>\n",
       "      <th>isenzyme</th>\n",
       "      <th>isMultiFunctional</th>\n",
       "      <th>functionCounts</th>\n",
       "      <th>ec_number</th>\n",
       "      <th>ec_specific_level</th>\n",
       "      <th>date_integraged</th>\n",
       "      <th>date_sequence_update</th>\n",
       "      <th>date_annotation_update</th>\n",
       "      <th>seq</th>\n",
       "      <th>seqlength</th>\n",
       "    </tr>\n",
       "  </thead>\n",
       "  <tbody>\n",
       "    <tr>\n",
       "      <th>0</th>\n",
       "      <td>P03742</td>\n",
       "      <td>FIB35_BPT4</td>\n",
       "      <td>False</td>\n",
       "      <td>False</td>\n",
       "      <td>0</td>\n",
       "      <td>-</td>\n",
       "      <td>0</td>\n",
       "      <td>1986-07-21</td>\n",
       "      <td>2001-12-19</td>\n",
       "      <td>2020-08-12</td>\n",
       "      <td>MEKFMAEFGQGYVQTPFLSESNSVRYKISIAGSCPLSTAGPSYVKF...</td>\n",
       "      <td>372</td>\n",
       "    </tr>\n",
       "    <tr>\n",
       "      <th>1</th>\n",
       "      <td>P00648</td>\n",
       "      <td>RNBR_BACAM</td>\n",
       "      <td>True</td>\n",
       "      <td>False</td>\n",
       "      <td>1</td>\n",
       "      <td>3.1.27.-</td>\n",
       "      <td>3</td>\n",
       "      <td>1986-07-21</td>\n",
       "      <td>1989-07-01</td>\n",
       "      <td>2022-05-25</td>\n",
       "      <td>MMKMEGIALKKRLSWISVCLLVLVSAAGMLFSTAAKTETSSHKAHT...</td>\n",
       "      <td>157</td>\n",
       "    </tr>\n",
       "    <tr>\n",
       "      <th>2</th>\n",
       "      <td>P00155</td>\n",
       "      <td>CYF_PEA</td>\n",
       "      <td>False</td>\n",
       "      <td>False</td>\n",
       "      <td>0</td>\n",
       "      <td>-</td>\n",
       "      <td>0</td>\n",
       "      <td>1986-07-21</td>\n",
       "      <td>1989-07-01</td>\n",
       "      <td>2022-10-12</td>\n",
       "      <td>MQTRNAFSWIKKEITRSISVLLMIYIITRAPISNAYPIFAQQGYEN...</td>\n",
       "      <td>320</td>\n",
       "    </tr>\n",
       "    <tr>\n",
       "      <th>3</th>\n",
       "      <td>P01630</td>\n",
       "      <td>KV2A6_MOUSE</td>\n",
       "      <td>False</td>\n",
       "      <td>False</td>\n",
       "      <td>0</td>\n",
       "      <td>-</td>\n",
       "      <td>0</td>\n",
       "      <td>1986-07-21</td>\n",
       "      <td>1986-07-21</td>\n",
       "      <td>2022-05-25</td>\n",
       "      <td>DIVMTQTAPSALVTPGESVSISCRSSKSLLHSNGNTYLYWFLQRPG...</td>\n",
       "      <td>113</td>\n",
       "    </tr>\n",
       "    <tr>\n",
       "      <th>4</th>\n",
       "      <td>P01629</td>\n",
       "      <td>KV2A4_MOUSE</td>\n",
       "      <td>False</td>\n",
       "      <td>False</td>\n",
       "      <td>0</td>\n",
       "      <td>-</td>\n",
       "      <td>0</td>\n",
       "      <td>1986-07-21</td>\n",
       "      <td>1986-07-21</td>\n",
       "      <td>2022-10-12</td>\n",
       "      <td>DIVMTQAAFSNPVTLGTSASFSCRSSKSLQQSKGITYLYWYLQKPG...</td>\n",
       "      <td>112</td>\n",
       "    </tr>\n",
       "    <tr>\n",
       "      <th>...</th>\n",
       "      <td>...</td>\n",
       "      <td>...</td>\n",
       "      <td>...</td>\n",
       "      <td>...</td>\n",
       "      <td>...</td>\n",
       "      <td>...</td>\n",
       "      <td>...</td>\n",
       "      <td>...</td>\n",
       "      <td>...</td>\n",
       "      <td>...</td>\n",
       "      <td>...</td>\n",
       "      <td>...</td>\n",
       "    </tr>\n",
       "    <tr>\n",
       "      <th>480276</th>\n",
       "      <td>Q7XWV4</td>\n",
       "      <td>SRT1_ORYSJ</td>\n",
       "      <td>True</td>\n",
       "      <td>False</td>\n",
       "      <td>1</td>\n",
       "      <td>2.3.1.286</td>\n",
       "      <td>4</td>\n",
       "      <td>2022-10-12</td>\n",
       "      <td>2004-03-01</td>\n",
       "      <td>2022-10-12</td>\n",
       "      <td>MSLGYAEKLSYREDVGNVGMPEIFDSPELLHKKIEELAVMVRESKH...</td>\n",
       "      <td>483</td>\n",
       "    </tr>\n",
       "    <tr>\n",
       "      <th>480277</th>\n",
       "      <td>O31201</td>\n",
       "      <td>HUTG_PSEPU</td>\n",
       "      <td>True</td>\n",
       "      <td>False</td>\n",
       "      <td>1</td>\n",
       "      <td>3.5.1.68</td>\n",
       "      <td>4</td>\n",
       "      <td>2022-10-12</td>\n",
       "      <td>1998-01-01</td>\n",
       "      <td>2022-10-12</td>\n",
       "      <td>MDKVLSFHQGRLPLLISMPHAGLRLSDAVRDGLVEEARSLPDTDWH...</td>\n",
       "      <td>267</td>\n",
       "    </tr>\n",
       "    <tr>\n",
       "      <th>480278</th>\n",
       "      <td>Q9HU92</td>\n",
       "      <td>HUTG_PSEAE</td>\n",
       "      <td>True</td>\n",
       "      <td>False</td>\n",
       "      <td>1</td>\n",
       "      <td>3.5.1.68</td>\n",
       "      <td>4</td>\n",
       "      <td>2022-10-12</td>\n",
       "      <td>2001-03-01</td>\n",
       "      <td>2022-10-12</td>\n",
       "      <td>MDEVLSFKRGRVPLLISMPHPGTRLTPAVDAGLVEEARALTDTDWH...</td>\n",
       "      <td>266</td>\n",
       "    </tr>\n",
       "    <tr>\n",
       "      <th>480279</th>\n",
       "      <td>P0DW99</td>\n",
       "      <td>FABH_CUTAC</td>\n",
       "      <td>True</td>\n",
       "      <td>True</td>\n",
       "      <td>2</td>\n",
       "      <td>2.3.1.300,2.3.1.180</td>\n",
       "      <td>4</td>\n",
       "      <td>2022-10-12</td>\n",
       "      <td>2022-10-12</td>\n",
       "      <td>2022-10-12</td>\n",
       "      <td>MTAIKTRPVHGYSKFLSTGSARGSRVVTNKEMCTLIDSTPEWIEQR...</td>\n",
       "      <td>332</td>\n",
       "    </tr>\n",
       "    <tr>\n",
       "      <th>480280</th>\n",
       "      <td>A0A455ZJC3</td>\n",
       "      <td>GOT_CANSA</td>\n",
       "      <td>True</td>\n",
       "      <td>False</td>\n",
       "      <td>1</td>\n",
       "      <td>2.5.1.102</td>\n",
       "      <td>4</td>\n",
       "      <td>2022-10-12</td>\n",
       "      <td>2019-06-05</td>\n",
       "      <td>2022-10-12</td>\n",
       "      <td>MGLSLVCTFSFQTNYHTLLNPHNKNPKNSLLSYQHPKTPIIKSSYD...</td>\n",
       "      <td>398</td>\n",
       "    </tr>\n",
       "  </tbody>\n",
       "</table>\n",
       "<p>480281 rows × 12 columns</p>\n",
       "</div>"
      ],
      "text/plain": [
       "                id         name  isenzyme  isMultiFunctional  functionCounts  \\\n",
       "0           P03742   FIB35_BPT4     False              False               0   \n",
       "1           P00648   RNBR_BACAM      True              False               1   \n",
       "2           P00155      CYF_PEA     False              False               0   \n",
       "3           P01630  KV2A6_MOUSE     False              False               0   \n",
       "4           P01629  KV2A4_MOUSE     False              False               0   \n",
       "...            ...          ...       ...                ...             ...   \n",
       "480276      Q7XWV4   SRT1_ORYSJ      True              False               1   \n",
       "480277      O31201   HUTG_PSEPU      True              False               1   \n",
       "480278      Q9HU92   HUTG_PSEAE      True              False               1   \n",
       "480279      P0DW99   FABH_CUTAC      True               True               2   \n",
       "480280  A0A455ZJC3    GOT_CANSA      True              False               1   \n",
       "\n",
       "                  ec_number  ec_specific_level date_integraged  \\\n",
       "0                         -                  0      1986-07-21   \n",
       "1                  3.1.27.-                  3      1986-07-21   \n",
       "2                         -                  0      1986-07-21   \n",
       "3                         -                  0      1986-07-21   \n",
       "4                         -                  0      1986-07-21   \n",
       "...                     ...                ...             ...   \n",
       "480276            2.3.1.286                  4      2022-10-12   \n",
       "480277             3.5.1.68                  4      2022-10-12   \n",
       "480278             3.5.1.68                  4      2022-10-12   \n",
       "480279  2.3.1.300,2.3.1.180                  4      2022-10-12   \n",
       "480280            2.5.1.102                  4      2022-10-12   \n",
       "\n",
       "       date_sequence_update date_annotation_update  \\\n",
       "0                2001-12-19             2020-08-12   \n",
       "1                1989-07-01             2022-05-25   \n",
       "2                1989-07-01             2022-10-12   \n",
       "3                1986-07-21             2022-05-25   \n",
       "4                1986-07-21             2022-10-12   \n",
       "...                     ...                    ...   \n",
       "480276           2004-03-01             2022-10-12   \n",
       "480277           1998-01-01             2022-10-12   \n",
       "480278           2001-03-01             2022-10-12   \n",
       "480279           2022-10-12             2022-10-12   \n",
       "480280           2019-06-05             2022-10-12   \n",
       "\n",
       "                                                      seq  seqlength  \n",
       "0       MEKFMAEFGQGYVQTPFLSESNSVRYKISIAGSCPLSTAGPSYVKF...        372  \n",
       "1       MMKMEGIALKKRLSWISVCLLVLVSAAGMLFSTAAKTETSSHKAHT...        157  \n",
       "2       MQTRNAFSWIKKEITRSISVLLMIYIITRAPISNAYPIFAQQGYEN...        320  \n",
       "3       DIVMTQTAPSALVTPGESVSISCRSSKSLLHSNGNTYLYWFLQRPG...        113  \n",
       "4       DIVMTQAAFSNPVTLGTSASFSCRSSKSLQQSKGITYLYWYLQKPG...        112  \n",
       "...                                                   ...        ...  \n",
       "480276  MSLGYAEKLSYREDVGNVGMPEIFDSPELLHKKIEELAVMVRESKH...        483  \n",
       "480277  MDKVLSFHQGRLPLLISMPHAGLRLSDAVRDGLVEEARSLPDTDWH...        267  \n",
       "480278  MDEVLSFKRGRVPLLISMPHPGTRLTPAVDAGLVEEARALTDTDWH...        266  \n",
       "480279  MTAIKTRPVHGYSKFLSTGSARGSRVVTNKEMCTLIDSTPEWIEQR...        332  \n",
       "480280  MGLSLVCTFSFQTNYHTLLNPHNKNPKNSLLSYQHPKTPIIKSSYD...        398  \n",
       "\n",
       "[480281 rows x 12 columns]"
      ]
     },
     "execution_count": 10,
     "metadata": {},
     "output_type": "execute_result"
    }
   ],
   "source": [
    "uniprot_sprot_leatest_20221118"
   ]
  },
  {
   "cell_type": "markdown",
   "id": "a6bfd483-8e73-4981-a10c-f28cb3b4a2da",
   "metadata": {},
   "source": [
    "### 5.5 Save train test"
   ]
  },
  {
   "cell_type": "code",
   "execution_count": 11,
   "id": "450d4a30-e4b2-4743-94c3-518eda3833af",
   "metadata": {},
   "outputs": [],
   "source": [
    "uniprot_sprot_leatest_20221118.to_feather(cfg.DATADIR + 'datasets/uniprot_sprot_leatest_20221118.feather')"
   ]
  },
  {
   "cell_type": "markdown",
   "id": "cc38ac17-51d7-4025-8d79-88e972e45f91",
   "metadata": {},
   "source": [
    "## 6. Build benchmarking datasets\n",
    "### 6.1 Task 1 isEnzyme"
   ]
  },
  {
   "cell_type": "code",
   "execution_count": 12,
   "id": "dda07bb2",
   "metadata": {},
   "outputs": [
    {
     "name": "stdout",
     "output_type": "stream",
     "text": [
      "Write finished\n"
     ]
    }
   ],
   "source": [
    "train_leatest = pd.read_feather(cfg.DIR_DATASETS + 'uniprot_sprot_leatest_20221118.feather')\n",
    "task1_train_leatest_20221118 = train_leatest[['id','seq','isenzyme']]\n",
    "task1_train_leatest_20221118.to_feather(cfg.FILE_TASK1_TRAIN_LEATEST)\n",
    "funclib.table2fasta(table=task1_train_leatest_20221118[['id', 'seq']], file_out=cfg.FILE_TASK1_TRAIN_LEATEST_FASTA)\n"
   ]
  },
  {
   "cell_type": "markdown",
   "id": "57df6c39-3f5b-4253-9578-1a206439b05e",
   "metadata": {},
   "source": [
    "### 6.2 Task2 Function Counts"
   ]
  },
  {
   "cell_type": "code",
   "execution_count": 13,
   "id": "d7a4222b-0bc4-47a5-9434-85b9249c0436",
   "metadata": {},
   "outputs": [
    {
     "name": "stdout",
     "output_type": "stream",
     "text": [
      "Write finished\n"
     ]
    }
   ],
   "source": [
    "task2_train_leatest_20221118 = train_leatest[train_leatest.functionCounts >0]\n",
    "task2_train_leatest_20221118.reset_index(drop=True, inplace=True)\n",
    "task2_train_leatest_20221118 = task2_train_leatest_20221118[['id','seq','functionCounts']]\n",
    "task2_train_leatest_20221118.to_feather(cfg.FILE_TASK2_TRAIN_LEATEST)\n",
    "funclib.table2fasta(table=task2_train_leatest_20221118[['id', 'seq']], file_out=cfg.FILE_TASK2_TRAIN_LEATEST_FASTA)\n"
   ]
  },
  {
   "cell_type": "markdown",
   "id": "6b2bd772-ccb4-412f-88df-8028cb94a1f8",
   "metadata": {},
   "source": [
    "### 6.3 Task3 EC Number"
   ]
  },
  {
   "cell_type": "code",
   "execution_count": 14,
   "id": "12195f21",
   "metadata": {},
   "outputs": [
    {
     "name": "stdout",
     "output_type": "stream",
     "text": [
      "Write finished\n"
     ]
    }
   ],
   "source": [
    "task3_train_leatest_20221118 = train_leatest[train_leatest.functionCounts >0]\n",
    "task3_train_leatest_20221118.reset_index(drop=True, inplace=True)\n",
    "task3_train_leatest_20221118 = task3_train_leatest_20221118[['id','seq','ec_number']]\n",
    "task3_train_leatest_20221118.to_feather(cfg.FILE_TASK3_TRAIN_LEATEST)\n",
    "funclib.table2fasta(table=task3_train_leatest_20221118[['id', 'seq']], file_out=cfg.FILE_TASK3_TRAIN_LEATEST_FASTA)"
   ]
  },
  {
   "cell_type": "markdown",
   "id": "270b40f5",
   "metadata": {},
   "source": [
    "## 7 Make Feature Bank"
   ]
  },
  {
   "cell_type": "markdown",
   "id": "b308e065-d78e-4c12-9240-a37defcc1ed3",
   "metadata": {},
   "source": [
    "### 7.1 ESM embedding "
   ]
  },
  {
   "cell_type": "code",
   "execution_count": 15,
   "id": "39e0f49e",
   "metadata": {},
   "outputs": [],
   "source": [
    "# loading sprot data\n",
    "uniprot_sprot_leatest_20221118 = pd.read_feather(cfg.DIR_UNIPROT + '/uniprot_sprot_leatest_20221118.feather')\n",
    "\n",
    "# merge\n",
    "uniprot_sprot_leatest_20221118 = uniprot_sprot_leatest_20221118.sort_values(by=['id', 'date_annotation_update'], ascending=False)\n",
    "uniprot_sprot_leatest_20221118 = uniprot_sprot_leatest_20221118[['id', 'seq']].drop_duplicates(subset='id', keep='first')\n",
    "uniprot_sprot_leatest_20221118.reset_index(drop=True, inplace=True)\n",
    "\n",
    "\n",
    "# loading exsisting features\n",
    "if ftool.isfileExists(cfg.FILE_FEATURE_ESM0):\n",
    "    feature_esm0 = pd.read_feather(cfg.FILE_FEATURE_ESM0)\n",
    "    feature_esm32 = pd.read_feather(cfg.FILE_FEATURE_ESM32)\n",
    "    feature_esm33 = pd.read_feather(cfg.FILE_FEATURE_ESM33)\n",
    "    feature_unirep = pd.read_feather(cfg.FILE_FEATURE_UNIREP)\n",
    "    feature_onehot = pd.read_feather(cfg.FILE_FEATURE_ONEHOT)\n",
    "    #caculate embedding list\n",
    "    needesm = uniprot_sprot_leatest_20221118[~uniprot_sprot_leatest_20221118.id.isin(list(set(feature_esm33.id)))]\n",
    "    needunirep = uniprot_sprot_leatest_20221118[~uniprot_sprot_leatest_20221118.id.isin(list(set(feature_unirep.id)))]\n",
    "    needonehot = uniprot_sprot_leatest_20221118[~uniprot_sprot_leatest_20221118.id.isin(list(set(feature_onehot.id)))]\n",
    "else:\n",
    "    needesm = uniprot_sprot_leatest_20221118\n",
    "    needunirep = uniprot_sprot_leatest_20221118\n",
    "    needonehot = uniprot_sprot_leatest_20221118\n",
    "\n"
   ]
  },
  {
   "cell_type": "code",
   "execution_count": 16,
   "id": "94e93daf",
   "metadata": {},
   "outputs": [
    {
     "name": "stderr",
     "output_type": "stream",
     "text": [
      "/home/dengrui/anaconda3/envs/python37/lib/python3.7/site-packages/apex/pyprof/__init__.py:5: FutureWarning: pyprof will be removed by the end of June, 2022\n",
      "  warnings.warn(\"pyprof will be removed by the end of June, 2022\", FutureWarning)\n"
     ]
    }
   ],
   "source": [
    "# !pip install fair-esm\n",
    "from tools import embedding_esm as esmebd\n",
    "if len(needesm)>0:\n",
    "    tr_rep0, tr_rep32, tr_rep33 = esmebd.get_rep_multi_sequence(sequences=needesm, model='esm1b_t33_650M_UR50S',seqthres=1022)\n",
    "\n",
    "    #merge existing\n",
    "    feature_esm0 = pd.concat([feature_esm0, tr_rep0], axis=0).reset_index(drop=True)\n",
    "    feature_esm32 = pd.concat([feature_esm32, tr_rep32], axis=0).reset_index(drop=True)\n",
    "    feature_esm33 = pd.concat([feature_esm33, tr_rep33], axis=0).reset_index(drop=True)\n",
    "\n",
    "\n",
    "    #save\n",
    "    feature_esm0.to_feather(cfg.FILE_FEATURE_ESM0)\n",
    "    feature_esm32.to_feather(cfg.FILE_FEATURE_ESM32)\n",
    "    feature_esm33.to_feather(cfg.FILE_FEATURE_ESM33)"
   ]
  },
  {
   "cell_type": "markdown",
   "id": "ff8ae784",
   "metadata": {},
   "source": [
    "### 7.2 Unirep"
   ]
  },
  {
   "cell_type": "code",
   "execution_count": 17,
   "id": "4da892ba",
   "metadata": {},
   "outputs": [],
   "source": [
    "if len(needunirep) > 0:\n",
    "    from tools import embedding_unirep as unirep\n",
    "    tr_unirep = unirep.getunirep(needunirep, 40)\n",
    "\n",
    "    feature_unirep = pd.concat([feature_unirep, tr_unirep],axis=0).reset_index(drop=True)\n",
    "    feature_unirep.to_feather(cfg.FILE_FEATURE_UNIREP)\n"
   ]
  },
  {
   "cell_type": "markdown",
   "id": "f132a870",
   "metadata": {},
   "source": [
    "### 7.3 one-hot"
   ]
  },
  {
   "cell_type": "code",
   "execution_count": 18,
   "id": "4b644781",
   "metadata": {},
   "outputs": [],
   "source": [
    "if len(needonehot) > 0:\n",
    "    tr_unirep = onehotebd.get_onehot(sequences=needonehot, padding=True, padding_window=1500)\n",
    "    feature_onehot = pd.concat([feature_onehot, tr_unirep],axis=0).reset_index(drop=True)\n",
    "    feature_onehot.to_feather(cfg.FILE_FEATURE_ONEHOT)"
   ]
  },
  {
   "cell_type": "markdown",
   "id": "c95346f3",
   "metadata": {},
   "source": [
    "# 8 Train Model"
   ]
  },
  {
   "cell_type": "code",
   "execution_count": 21,
   "id": "2261e24a",
   "metadata": {},
   "outputs": [],
   "source": [
    "# embedding feather\n",
    "feature_esm0 = pd.read_feather(cfg.FILE_FEATURE_ESM0)\n",
    "feature_esm32 = pd.read_feather(cfg.FILE_FEATURE_ESM32)\n",
    "feature_esm33 = pd.read_feather(cfg.FILE_FEATURE_ESM33)\n",
    "feature_unirep = pd.read_feather(cfg.FILE_FEATURE_UNIREP)\n",
    "feature_onehot = pd.read_feather(cfg.FILE_FEATURE_ONEHOT)"
   ]
  },
  {
   "cell_type": "code",
   "execution_count": 22,
   "id": "6d677b38",
   "metadata": {},
   "outputs": [
    {
     "name": "stdout",
     "output_type": "stream",
     "text": [
      "task1_train: ,task2_train: ,task3_train:  (480281, 3) (232874, 3) (232874, 3)\n"
     ]
    }
   ],
   "source": [
    "# train data \n",
    "task1_train = pd.read_feather(cfg.FILE_TASK1_TRAIN_LEATEST)\n",
    "task2_train = pd.read_feather(cfg.FILE_TASK2_TRAIN_LEATEST)\n",
    "task3_train = pd.read_feather(cfg.FILE_TASK3_TRAIN_LEATEST)\n",
    "print('task1_train: ,task2_train: ,task3_train: ',task1_train.shape,task2_train.shape,task3_train.shape)"
   ]
  },
  {
   "cell_type": "markdown",
   "id": "cdb2c3ca",
   "metadata": {},
   "source": [
    "# 8.1 task1 "
   ]
  },
  {
   "cell_type": "code",
   "execution_count": 3,
   "id": "cd914424",
   "metadata": {},
   "outputs": [
    {
     "ename": "NameError",
     "evalue": "name 'task1_train' is not defined",
     "output_type": "error",
     "traceback": [
      "\u001b[0;31m---------------------------------------------------------------------------\u001b[0m",
      "\u001b[0;31mNameError\u001b[0m                                 Traceback (most recent call last)",
      "Cell \u001b[0;32mIn[3], line 2\u001b[0m\n\u001b[1;32m      1\u001b[0m \u001b[39m# embedding方式可更改\u001b[39;00m\n\u001b[0;32m----> 2\u001b[0m task1_train \u001b[39m=\u001b[39m task1_train\u001b[39m.\u001b[39mmerge(feature_onehot,on\u001b[39m=\u001b[39m\u001b[39m'\u001b[39m\u001b[39mid\u001b[39m\u001b[39m'\u001b[39m,how\u001b[39m=\u001b[39m\u001b[39m'\u001b[39m\u001b[39mleft\u001b[39m\u001b[39m'\u001b[39m)\n\u001b[1;32m      3\u001b[0m \u001b[39m# feature\u001b[39;00m\n\u001b[1;32m      4\u001b[0m task1_feature \u001b[39m=\u001b[39m task1_train\u001b[39m.\u001b[39miloc[:, \u001b[39m3\u001b[39m:]\n",
      "\u001b[0;31mNameError\u001b[0m: name 'task1_train' is not defined"
     ]
    }
   ],
   "source": [
    "# embedding方式可更改\n",
    "task1_train = task1_train.merge(feature_onehot,on='id',how='left')\n",
    "# feature\n",
    "task1_feature = task1_train.iloc[:, 3:]\n",
    "task1_feature = np.array(task1_feature)\n",
    "task1_feature =np.reshape(task1_feature,(task1_feature.shape[0],1,task1_feature.shape[1]))\n"
   ]
  },
  {
   "cell_type": "code",
   "execution_count": 24,
   "id": "08659980",
   "metadata": {},
   "outputs": [],
   "source": [
    "# 标签处理\n",
    "ecs= (set(task1_train.isenzyme))\n",
    "def get_label(ecnum_str):\n",
    "    label_init = np.zeros(len(label_dict),  dtype=int)\n",
    "    label_init[label_dict.get(ecnum_str)] = 1\n",
    "    return list(label_init)\n",
    "\n",
    "label_dict = dict(zip(set(ecs), range(len(ecs))))\n",
    "label_init = np.zeros(len(label_dict),  dtype=int)\n",
    "train_label = task1_train.isenzyme.apply(lambda x: get_label(ecnum_str=x))\n",
    "\n",
    "train_label=[item for item in train_label]\n",
    "y_train = np.array(train_label)\n"
   ]
  },
  {
   "cell_type": "code",
   "execution_count": 28,
   "id": "fd16fd55",
   "metadata": {},
   "outputs": [
    {
     "name": "stdout",
     "output_type": "stream",
     "text": [
      "WARNING:tensorflow:AutoGraph could not transform <function Model.make_train_function.<locals>.train_function at 0x7fb740122cb0> and will run it as-is.\n",
      "Please report this to the TensorFlow team. When filing the bug, set the verbosity to 10 (on Linux, `export AUTOGRAPH_VERBOSITY=10`) and attach the full output.\n",
      "Cause: 'arguments' object has no attribute 'posonlyargs'\n",
      "To silence this warning, decorate the function with @tf.autograph.experimental.do_not_convert\n",
      "WARNING: AutoGraph could not transform <function Model.make_train_function.<locals>.train_function at 0x7fb740122cb0> and will run it as-is.\n",
      "Please report this to the TensorFlow team. When filing the bug, set the verbosity to 10 (on Linux, `export AUTOGRAPH_VERBOSITY=10`) and attach the full output.\n",
      "Cause: 'arguments' object has no attribute 'posonlyargs'\n",
      "To silence this warning, decorate the function with @tf.autograph.experimental.do_not_convert\n",
      "939/939 [==============================] - 35s 33ms/step - loss: 0.6418 - accuracy: 0.6245\n"
     ]
    }
   ],
   "source": [
    "# 模型设置 训练 保存\n",
    "inputs = Input(shape=(1,task1_feature.shape[2]), name=\"input\")\n",
    "gru = Bidirectional(GRU(512, dropout=0.2, return_sequences=True), name=\"bi-gru\")(inputs)\n",
    "attention = Attention(32)(gru)\n",
    "num_class = len(ecs)\n",
    "output = Dense(num_class, activation='sigmoid', name=\"dense\")(attention)\n",
    "model = Model(inputs, output)\n",
    "\n",
    "model.compile(loss='binary_crossentropy',\n",
    "              optimizer=Adam(),\n",
    "              metrics=['accuracy'])\n",
    "history = model.fit(task1_feature, y_train, batch_size=512, epochs= 400)\n",
    "model.save(cfg.MODELDIR+'task1_onehot.h5')\n"
   ]
  },
  {
   "cell_type": "markdown",
   "id": "9fa4034e",
   "metadata": {},
   "source": [
    "# 8.2 task2"
   ]
  },
  {
   "cell_type": "code",
   "execution_count": 29,
   "id": "c8220a44",
   "metadata": {},
   "outputs": [],
   "source": [
    "# embedding方式可更改\n",
    "task2_train = task2_train.merge(feature_onehot,on='id',how='left')\n",
    "# feature\n",
    "task2_feature = task2_train.iloc[:, 3:]\n",
    "task2_feature = np.array(task2_feature)\n",
    "task2_feature =np.reshape(task2_feature,(task2_feature.shape[0],1,task2_feature.shape[1]))"
   ]
  },
  {
   "cell_type": "code",
   "execution_count": 32,
   "id": "07ab2e2b",
   "metadata": {},
   "outputs": [],
   "source": [
    "# 标签处理\n",
    "ecs= (set(task2_train.functionCounts))\n",
    "def get_label(ecnum_str):\n",
    "    label_init = np.zeros(len(label_dict),  dtype=int)\n",
    "    label_init[label_dict.get(ecnum_str)] = 1\n",
    "    return list(label_init)\n",
    "\n",
    "label_dict = dict(zip(set(ecs), range(len(ecs))))\n",
    "label_init = np.zeros(len(label_dict),  dtype=int)\n",
    "train_label = task2_train.functionCounts.apply(lambda x: get_label(ecnum_str=x))\n",
    "\n",
    "train_label=[item for item in train_label]\n",
    "y_train = np.array(train_label)\n"
   ]
  },
  {
   "cell_type": "code",
   "execution_count": 33,
   "id": "25d747a5-bac8-4a20-943c-86d7ba7129cc",
   "metadata": {},
   "outputs": [
    {
     "name": "stdout",
     "output_type": "stream",
     "text": [
      "WARNING:tensorflow:AutoGraph could not transform <function Model.make_train_function.<locals>.train_function at 0x7fb9c283cd40> and will run it as-is.\n",
      "Please report this to the TensorFlow team. When filing the bug, set the verbosity to 10 (on Linux, `export AUTOGRAPH_VERBOSITY=10`) and attach the full output.\n",
      "Cause: 'arguments' object has no attribute 'posonlyargs'\n",
      "To silence this warning, decorate the function with @tf.autograph.experimental.do_not_convert\n",
      "WARNING: AutoGraph could not transform <function Model.make_train_function.<locals>.train_function at 0x7fb9c283cd40> and will run it as-is.\n",
      "Please report this to the TensorFlow team. When filing the bug, set the verbosity to 10 (on Linux, `export AUTOGRAPH_VERBOSITY=10`) and attach the full output.\n",
      "Cause: 'arguments' object has no attribute 'posonlyargs'\n",
      "To silence this warning, decorate the function with @tf.autograph.experimental.do_not_convert\n",
      "455/455 [==============================] - 18s 31ms/step - loss: 0.0797 - accuracy: 0.9224\n"
     ]
    }
   ],
   "source": [
    "# 模型设置 训练 保存\n",
    "inputs = Input(shape=(1,task2_feature.shape[2]), name=\"input\")\n",
    "gru = Bidirectional(GRU(512, dropout=0.2, return_sequences=True), name=\"bi-gru\")(inputs)\n",
    "attention = Attention(32)(gru)\n",
    "num_class = len(ecs)\n",
    "output = Dense(num_class, activation='sigmoid', name=\"dense\")(attention)\n",
    "model = Model(inputs, output)\n",
    "\n",
    "model.compile(loss='binary_crossentropy',\n",
    "              optimizer=Adam(),\n",
    "              metrics=['accuracy'])\n",
    "history = model.fit(task2_feature, y_train, batch_size=512, epochs= 1)\n",
    "model.save(cfg.MODELDIR+'task2_onehot.h5')"
   ]
  },
  {
   "cell_type": "markdown",
   "id": "09761a3a-172f-4f02-8396-902f8e1a08bb",
   "metadata": {},
   "source": [
    "# 8.3 task3"
   ]
  },
  {
   "cell_type": "code",
   "execution_count": 40,
   "id": "bba748ce-10a1-45e0-a9e4-523d0b733f71",
   "metadata": {},
   "outputs": [],
   "source": [
    "# embedding方式可更改\n",
    "task3_train = task3_train.merge(feature_onehot,on='id',how='left')\n",
    "# feature\n",
    "task3_feature = task3_train.iloc[:, 3:]\n",
    "task3_feature = np.array(task3_feature)\n",
    "task3_feature =np.reshape(task3_feature,(task3_feature.shape[0],1,task3_feature.shape[1]))"
   ]
  },
  {
   "cell_type": "code",
   "execution_count": 42,
   "id": "ef7391e1-b61f-432a-af24-0c3b1b63f5b7",
   "metadata": {},
   "outputs": [],
   "source": [
    "# 标签处理\n",
    "ecs= (set(task3_train.ec_number))\n",
    "eclist = []\n",
    "for item in ecs:\n",
    "    eclist = eclist + item.split(',')\n",
    "def get_label(ecnum_str):\n",
    "    label_init = np.zeros(len(label_dict),  dtype=int)\n",
    "    ec_array=ecnum_str.split(',')\n",
    "    for item in ec_array:\n",
    "        if label_dict.get(item) != None:\n",
    "            label_init[label_dict.get(item)] = 1\n",
    "    return list(label_init)\n",
    "  \n",
    "label_dict = dict(zip(set(eclist), range(len(eclist))))\n",
    "label_init = np.zeros(len(label_dict),  dtype=int)\n",
    "train_label = task3_train.ec_number.apply(lambda x: get_label(ecnum_str=x))\n",
    "\n",
    "train_label = [item for item in train_label]\n",
    "y_train = np.array(train_label)"
   ]
  },
  {
   "cell_type": "code",
   "execution_count": 54,
   "id": "b99832e8-2a03-44f9-8b8b-025e8c5e66b8",
   "metadata": {},
   "outputs": [
    {
     "name": "stdout",
     "output_type": "stream",
     "text": [
      "WARNING:tensorflow:AutoGraph could not transform <function Model.make_train_function.<locals>.train_function at 0x7fb7401227a0> and will run it as-is.\n",
      "Please report this to the TensorFlow team. When filing the bug, set the verbosity to 10 (on Linux, `export AUTOGRAPH_VERBOSITY=10`) and attach the full output.\n",
      "Cause: 'arguments' object has no attribute 'posonlyargs'\n",
      "To silence this warning, decorate the function with @tf.autograph.experimental.do_not_convert\n",
      "WARNING: AutoGraph could not transform <function Model.make_train_function.<locals>.train_function at 0x7fb7401227a0> and will run it as-is.\n",
      "Please report this to the TensorFlow team. When filing the bug, set the verbosity to 10 (on Linux, `export AUTOGRAPH_VERBOSITY=10`) and attach the full output.\n",
      "Cause: 'arguments' object has no attribute 'posonlyargs'\n",
      "To silence this warning, decorate the function with @tf.autograph.experimental.do_not_convert\n",
      "59/59 [==============================] - 31s 463ms/step - loss: 0.1306 - accuracy: 0.0030\n"
     ]
    }
   ],
   "source": [
    "# 模型设置 训练 保存\n",
    "inputs = Input(shape=(1,task3_feature.shape[2]), name=\"input\")\n",
    "gru = Bidirectional(GRU(512, dropout=0.2, return_sequences=True), name=\"bi-gru\")(inputs)\n",
    "attention = Attention(32)(gru)\n",
    "num_class = len(label_dict)\n",
    "output = Dense(num_class, activation='sigmoid', name=\"dense\")(attention)\n",
    "model = Model(inputs, output)\n",
    "\n",
    "model.compile(loss='binary_crossentropy',\n",
    "              optimizer=Adam(),\n",
    "              metrics=['accuracy'])\n",
    "history = model.fit(task3_feature, y_train, batch_size=3948, epochs= 400)\n",
    "model.save(cfg.MODELDIR+'task3_onehot.h5')"
   ]
  }
 ],
 "metadata": {
  "kernelspec": {
   "display_name": "DMLF",
   "language": "python",
   "name": "python3"
  },
  "language_info": {
   "codemirror_mode": {
    "name": "ipython",
    "version": 3
   },
   "file_extension": ".py",
   "mimetype": "text/x-python",
   "name": "python",
   "nbconvert_exporter": "python",
   "pygments_lexer": "ipython3",
   "version": "3.8.15"
  },
  "toc-autonumbering": false,
  "toc-showmarkdowntxt": false,
  "toc-showtags": false,
  "vscode": {
   "interpreter": {
    "hash": "6b0f740237ba4768c544d9b9677983e49b45ca1230fda464ede0b93eba99c7d2"
   }
  },
  "widgets": {
   "application/vnd.jupyter.widget-state+json": {
    "state": {},
    "version_major": 2,
    "version_minor": 0
   }
  }
 },
 "nbformat": 4,
 "nbformat_minor": 5
}
