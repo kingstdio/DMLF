{
 "cells": [
  {
   "cell_type": "markdown",
   "id": "9307705e-50b0-4bae-b67c-ae8d62eb1737",
   "metadata": {},
   "source": [
    "# Task1. Baseline Methods\n",
    "\n",
    "> author: Shizhenkun   \n",
    "> email: zhenkun.shi@tib.cas.cn   \n",
    "> date: 2021-10-20  "
   ]
  },
  {
   "cell_type": "markdown",
   "id": "cb15383d-9838-48f5-9cf9-b369418a7e6b",
   "metadata": {},
   "source": [
    "## 1. Import packages"
   ]
  },
  {
   "cell_type": "code",
   "execution_count": 3,
   "id": "71bdaefa-a752-4ee3-851a-aed07d6b3363",
   "metadata": {},
   "outputs": [
    {
     "name": "stdout",
     "output_type": "stream",
     "text": [
      "INFO: Pandarallel will run on 80 workers.\n",
      "INFO: Pandarallel will use Memory file system to transfer data between the main process and workers.\n",
      "The autoreload extension is already loaded. To reload it, use:\n",
      "  %reload_ext autoreload\n"
     ]
    }
   ],
   "source": [
    "import numpy as np\n",
    "import pandas as pd\n",
    "import time\n",
    "import datetime\n",
    "import sys\n",
    "import os\n",
    "from tqdm import tqdm\n",
    "from functools import reduce\n",
    "\n",
    "sys.path.append(\"../tools/\")\n",
    "import funclib\n",
    "\n",
    "sys.path.append(\"../\")\n",
    "import benchmark_train as btrain\n",
    "import benchmark_test as btest\n",
    "import config as cfg\n",
    "import benchmark_evaluation as eva\n",
    "\n",
    "from sklearn.model_selection import train_test_split\n",
    "from xgboost import XGBClassifier\n",
    "\n",
    "from pandarallel import pandarallel #  import pandaralle\n",
    "pandarallel.initialize() # init\n",
    "\n",
    "%load_ext autoreload\n",
    "%autoreload 2"
   ]
  },
  {
   "cell_type": "markdown",
   "id": "04b3f7db-f81d-481e-b0c5-278c60fe87f0",
   "metadata": {},
   "source": [
    "## 2. Load Data"
   ]
  },
  {
   "cell_type": "code",
   "execution_count": 2,
   "id": "8482e6a8-6523-4ed6-8784-d245538cf0b1",
   "metadata": {},
   "outputs": [
    {
     "name": "stdout",
     "output_type": "stream",
     "text": [
      "test size: 7101\n"
     ]
    }
   ],
   "source": [
    "test = pd.read_feather(cfg.DATADIR+'task1/test.feather')\n",
    "print('test size: {0}'.format(len(test)))"
   ]
  },
  {
   "cell_type": "markdown",
   "id": "5625d510-2da8-47f7-b082-7bd39ce5137a",
   "metadata": {},
   "source": [
    "## 3.Make fasta"
   ]
  },
  {
   "cell_type": "code",
   "execution_count": 9,
   "id": "4b090ea7-77b4-40a3-ba7c-78fa1dfb6ec3",
   "metadata": {},
   "outputs": [
    {
     "name": "stdout",
     "output_type": "stream",
     "text": [
      "Write finished\n"
     ]
    }
   ],
   "source": [
    "funclib.table2fasta(table=test, file_out='../data/test.fasta')"
   ]
  },
  {
   "cell_type": "markdown",
   "id": "da7733ac-5080-4879-9d05-56cd657cfbd8",
   "metadata": {},
   "source": [
    "## 4. ECPred\n",
    "\n",
    "<span style=\"color:red\" >Please be patient, this method takes a long time to predict</span>"
   ]
  },
  {
   "cell_type": "code",
   "execution_count": 3,
   "id": "058a7ff1-45ee-4db8-871d-e25b3d81c6d7",
   "metadata": {
    "collapsed": true,
    "jupyter": {
     "outputs_hidden": true
    },
    "tags": []
   },
   "outputs": [
    {
     "name": "stdout",
     "output_type": "stream",
     "text": [
      "Hit:1 http://cn.archive.ubuntu.com/ubuntu focal InRelease\n",
      "Hit:2 http://cn.archive.ubuntu.com/ubuntu focal-updates InRelease\n",
      "Hit:3 http://cn.archive.ubuntu.com/ubuntu focal-backports InRelease\n",
      "Hit:4 http://cn.archive.ubuntu.com/ubuntu focal-security InRelease\n",
      "Reading package lists... Done\n",
      "Reading package lists... Done\n",
      "Building dependency tree       \n",
      "Reading state information... Done\n",
      "default-jre is already the newest version (2:1.11-72).\n",
      "0 upgraded, 0 newly installed, 0 to remove and 44 not upgraded.\n",
      "Reading package lists... Done\n",
      "Building dependency tree       \n",
      "Reading state information... Done\n",
      "default-jdk is already the newest version (2:1.11-72).\n",
      "0 upgraded, 0 newly installed, 0 to remove and 44 not upgraded.\n"
     ]
    }
   ],
   "source": [
    "!sudo apt-get update -y\n",
    "!sudo apt-get install default-jre -y\n",
    "!sudo apt-get install default-jdk -y"
   ]
  },
  {
   "cell_type": "code",
   "execution_count": null,
   "id": "6f0e293f-9651-4c7a-95b1-921dda74adda",
   "metadata": {},
   "outputs": [
    {
     "name": "stdout",
     "output_type": "stream",
     "text": [
      "Main classes of input proteins are being predicted ...\n"
     ]
    }
   ],
   "source": [
    "!java -jar ../baselines/ECPred/ECPred.jar weighted ../data/test.fasta ../baselines/ECPred/ ../results/ecpred.txt"
   ]
  },
  {
   "cell_type": "markdown",
   "id": "2934039b-ddac-45cd-b361-5ae8d218753a",
   "metadata": {},
   "source": [
    "## 5. DeepEC"
   ]
  },
  {
   "cell_type": "code",
   "execution_count": null,
   "id": "6f9c3112-081b-4b2f-8fcd-95cad5b74d61",
   "metadata": {},
   "outputs": [],
   "source": [
    "! conda env create -f ../baselines/deepec/environment.yml\n",
    "! conda activate deepec"
   ]
  },
  {
   "cell_type": "code",
   "execution_count": null,
   "id": "e07e3f89-5292-4e63-ad6b-290a786ee043",
   "metadata": {},
   "outputs": [],
   "source": [
    "! python ../baselines/deepec/deepec.py -i ../data/test.fasta -o ../results/deepec/"
   ]
  },
  {
   "cell_type": "markdown",
   "id": "ac05fbbe-ca3b-4b71-87e7-d5f81d8cd675",
   "metadata": {},
   "source": [
    "## 6. CatFam"
   ]
  },
  {
   "cell_type": "code",
   "execution_count": 1,
   "id": "4e11cfc0-8e51-490c-8b6e-538df2c053db",
   "metadata": {
    "collapsed": true,
    "jupyter": {
     "outputs_hidden": true
    },
    "tags": []
   },
   "outputs": [
    {
     "name": "stdout",
     "output_type": "stream",
     "text": [
      "Reading package lists... Done\n",
      "Building dependency tree       \n",
      "Reading state information... Done\n",
      "The following additional packages will be installed:\n",
      "  libmbedcrypto3 libmbedtls12 libmbedx509-0 ncbi-blast+ ncbi-data\n",
      "The following NEW packages will be installed:\n",
      "  libmbedcrypto3 libmbedtls12 libmbedx509-0 ncbi-blast+ ncbi-blast+-legacy\n",
      "  ncbi-data\n",
      "0 upgraded, 6 newly installed, 0 to remove and 44 not upgraded.\n",
      "Need to get 14.9 MB of archives.\n",
      "After this operation, 75.0 MB of additional disk space will be used.\n",
      "Get:1 http://cn.archive.ubuntu.com/ubuntu focal/universe amd64 libmbedcrypto3 amd64 2.16.4-1ubuntu2 [150 kB]\n",
      "Get:2 http://cn.archive.ubuntu.com/ubuntu focal/universe amd64 libmbedx509-0 amd64 2.16.4-1ubuntu2 [42.3 kB]\n",
      "Get:3 http://cn.archive.ubuntu.com/ubuntu focal/universe amd64 libmbedtls12 amd64 2.16.4-1ubuntu2 [71.8 kB]\n",
      "Get:4 http://cn.archive.ubuntu.com/ubuntu focal/universe amd64 ncbi-data all 6.1.20170106+dfsg1-8 [3,518 kB]\n",
      "Get:5 http://cn.archive.ubuntu.com/ubuntu focal/universe amd64 ncbi-blast+ amd64 2.9.0-2 [11.1 MB]\n",
      "Get:6 http://cn.archive.ubuntu.com/ubuntu focal/universe amd64 ncbi-blast+-legacy all 2.9.0-2 [5,064 B]\n",
      "Fetched 14.9 MB in 5s (3,160 kB/s)             \n",
      "Selecting previously unselected package libmbedcrypto3:amd64.\n",
      "(Reading database ... 216316 files and directories currently installed.)\n",
      "Preparing to unpack .../0-libmbedcrypto3_2.16.4-1ubuntu2_amd64.deb ...\n",
      "Unpacking libmbedcrypto3:amd64 (2.16.4-1ubuntu2) ...\n",
      "Selecting previously unselected package libmbedx509-0:amd64.\n",
      "Preparing to unpack .../1-libmbedx509-0_2.16.4-1ubuntu2_amd64.deb ...\n",
      "Unpacking libmbedx509-0:amd64 (2.16.4-1ubuntu2) ...\n",
      "Selecting previously unselected package libmbedtls12:amd64.\n",
      "Preparing to unpack .../2-libmbedtls12_2.16.4-1ubuntu2_amd64.deb ...\n",
      "Unpacking libmbedtls12:amd64 (2.16.4-1ubuntu2) ...\n",
      "Selecting previously unselected package ncbi-data.\n",
      "Preparing to unpack .../3-ncbi-data_6.1.20170106+dfsg1-8_all.deb ...\n",
      "Unpacking ncbi-data (6.1.20170106+dfsg1-8) ...\n",
      "Selecting previously unselected package ncbi-blast+.\n",
      "Preparing to unpack .../4-ncbi-blast+_2.9.0-2_amd64.deb ...\n",
      "Unpacking ncbi-blast+ (2.9.0-2) ...\n",
      "Selecting previously unselected package ncbi-blast+-legacy.\n",
      "Preparing to unpack .../5-ncbi-blast+-legacy_2.9.0-2_all.deb ...\n",
      "Unpacking ncbi-blast+-legacy (2.9.0-2) ...\n",
      "Setting up ncbi-data (6.1.20170106+dfsg1-8) ...\n",
      "Setting up libmbedcrypto3:amd64 (2.16.4-1ubuntu2) ...\n",
      "Setting up libmbedx509-0:amd64 (2.16.4-1ubuntu2) ...\n",
      "Setting up libmbedtls12:amd64 (2.16.4-1ubuntu2) ...\n",
      "Setting up ncbi-blast+ (2.9.0-2) ...\n",
      "Setting up ncbi-blast+-legacy (2.9.0-2) ...\n",
      "Processing triggers for libc-bin (2.31-0ubuntu9.2) ...\n",
      "Processing triggers for man-db (2.9.1-1) ...\n",
      "Processing triggers for hicolor-icon-theme (0.17-2) ...\n"
     ]
    }
   ],
   "source": [
    "!sudo apt-get install ncbi-blast+-legacy -y"
   ]
  },
  {
   "cell_type": "code",
   "execution_count": 21,
   "id": "af231781-8cf8-43f4-9ec9-4f1c8d577ff0",
   "metadata": {},
   "outputs": [],
   "source": [
    "! ../baselines/catfam/source/catsearch.pl -d ../baselines/catfam/CatFamDB/CatFam_v2.0/CatFam4D99R -i ../data/test.fasta -o ../results/catfam.txt"
   ]
  },
  {
   "cell_type": "code",
   "execution_count": null,
   "id": "fd0de0c4",
   "metadata": {},
   "outputs": [],
   "source": [
    "! java -Xmx50G -jar ../baselines/priam/PRIAM_search.jar -p /home/shizhenkun/codebase/DMLF/baselines/priam/PRIAM_JAN18 -i /home/shizhenkun/codebase/DMLF/data/gu_bang.fasta -o /home/shizhenkun/codebase/DMLF/results/case_gubang/priam/ --bp /home/shizhenkun/downloads/blast-2.2.13/bin --np 78"
   ]
  },
  {
   "cell_type": "markdown",
   "id": "05ec97bb-f0c4-41c6-9158-ed9ed0e95806",
   "metadata": {},
   "source": [
    "## 7. PRIAM"
   ]
  },
  {
   "cell_type": "code",
   "execution_count": 26,
   "id": "26bcceda-472e-474c-a37f-c20d56ded403",
   "metadata": {
    "collapsed": true,
    "jupyter": {
     "outputs_hidden": true
    },
    "tags": []
   },
   "outputs": [
    {
     "name": "stdout",
     "output_type": "stream",
     "text": [
      "\n",
      "\n",
      "PRIAM did not find the profiles library (Normal if it is the first time you use PRIAM with this release).\n",
      "So it would now create it. Please do not interupt it during this process else it would results into a corrupted database and any further analysis would be faulty.\n",
      "If for any reason you really need to interupt PRIAM before it ends, or if your computer crash during this process, please delete ../baselines/priam/PRIAM_JAN18/PROFILES/LIBRARY, and all files it contains, to force PRIAM to recreate the library next time it would be launched\n",
      "\n",
      "Executing makeprofiledb -in /home/shizhenkun/codebase/DMLF/tools/../baselines/priam/PRIAM_JAN18/PROFILES/LIBRARY/profiles.list -index T -out PROFILE_EZ -title PRIAM_profiles_database \n",
      "\n",
      "Profiles database sucessfully created.\n",
      "If you want to interupt PRIAM, it can now be done with no risk\n",
      "\n",
      "### PRIAM Profiles search ###\n",
      "7101 sequences found in your query file\n",
      "Query file splitted into 2 pieces\n",
      "Executing 'rpsblast -num_threads 78 -outfmt 5 -evalue 1.0 -query ../results/priam//PRIAM_20211102154953/TMP/DATA/query_part1.fas -db ../baselines/priam/PRIAM_JAN18/PROFILES/LIBRARY/PROFILE_EZ -out /home/shizhenkun/codebase/DMLF/tools/../results/priam/PRIAM_20211102154953/TMP/RAW_RESULTS/query_part1.res -num_alignments 10000 -num_descriptions 10000'.\n",
      "This RPS-BLAST job took 4mn 21s \n",
      "RPS-Blast jobs now running from 4mn 21s \n",
      "Estimated time to complete all 1 remaining RPS-BLAST jobs: 4mn 21s \n",
      "Executing 'rpsblast -num_threads 78 -outfmt 5 -evalue 1.0 -query ../results/priam//PRIAM_20211102154953/TMP/DATA/query_part2.fas -db ../baselines/priam/PRIAM_JAN18/PROFILES/LIBRARY/PROFILE_EZ -out /home/shizhenkun/codebase/DMLF/tools/../results/priam/PRIAM_20211102154953/TMP/RAW_RESULTS/query_part2.res -num_alignments 10000 -num_descriptions 10000'.\n",
      "This RPS-BLAST job took 1mn 52s \n",
      "Time used to search all sequences against profiles of PRIAM: 6mn 13s \n",
      "\n",
      "### Individual sequence annotation ###\n",
      "Exception in thread \"main\" java.lang.reflect.InvocationTargetException\n",
      "\tat java.base/jdk.internal.reflect.NativeMethodAccessorImpl.invoke0(Native Method)\n",
      "\tat java.base/jdk.internal.reflect.NativeMethodAccessorImpl.invoke(NativeMethodAccessorImpl.java:62)\n",
      "\tat java.base/jdk.internal.reflect.DelegatingMethodAccessorImpl.invoke(DelegatingMethodAccessorImpl.java:43)\n",
      "\tat java.base/java.lang.reflect.Method.invoke(Method.java:566)\n",
      "\tat org.eclipse.jdt.internal.jarinjarloader.JarRsrcLoader.main(JarRsrcLoader.java:58)\n",
      "Caused by: java.lang.NoClassDefFoundError: weka/core/Utils\n",
      "\tat priam.common.DistributionEstimator.<init>(DistributionEstimator.java:188)\n",
      "\tat priam.common.ProfInfos.setPositivesHitsDistrib(ProfInfos.java:229)\n",
      "\tat priam.common.AnnotationRulesXMLHandler2.startElement(AnnotationRulesXMLHandler2.java:133)\n",
      "\tat java.xml/com.sun.org.apache.xerces.internal.parsers.AbstractSAXParser.startElement(AbstractSAXParser.java:510)\n",
      "\tat java.xml/com.sun.org.apache.xerces.internal.parsers.AbstractXMLDocumentParser.emptyElement(AbstractXMLDocumentParser.java:183)\n",
      "\tat java.xml/com.sun.org.apache.xerces.internal.impl.XMLDocumentFragmentScannerImpl.scanStartElement(XMLDocumentFragmentScannerImpl.java:1377)\n",
      "\tat java.xml/com.sun.org.apache.xerces.internal.impl.XMLDocumentFragmentScannerImpl$FragmentContentDriver.next(XMLDocumentFragmentScannerImpl.java:2710)\n",
      "\tat java.xml/com.sun.org.apache.xerces.internal.impl.XMLDocumentScannerImpl.next(XMLDocumentScannerImpl.java:605)\n",
      "\tat java.xml/com.sun.org.apache.xerces.internal.impl.XMLDocumentFragmentScannerImpl.scanDocument(XMLDocumentFragmentScannerImpl.java:534)\n",
      "\tat java.xml/com.sun.org.apache.xerces.internal.parsers.XML11Configuration.parse(XML11Configuration.java:888)\n",
      "\tat java.xml/com.sun.org.apache.xerces.internal.parsers.XML11Configuration.parse(XML11Configuration.java:824)\n",
      "\tat java.xml/com.sun.org.apache.xerces.internal.parsers.XMLParser.parse(XMLParser.java:141)\n",
      "\tat java.xml/com.sun.org.apache.xerces.internal.parsers.AbstractSAXParser.parse(AbstractSAXParser.java:1216)\n",
      "\tat java.xml/com.sun.org.apache.xerces.internal.jaxp.SAXParserImpl$JAXPSAXParser.parse(SAXParserImpl.java:635)\n",
      "\tat java.xml/com.sun.org.apache.xerces.internal.jaxp.SAXParserImpl.parse(SAXParserImpl.java:324)\n",
      "\tat java.xml/javax.xml.parsers.SAXParser.parse(SAXParser.java:330)\n",
      "\tat priam.modules.Annotate.readAnnotationRulesXML(Annotate.java:65)\n",
      "\tat priam.modules.Annotate.AnnotateSequences(Annotate.java:110)\n",
      "\tat priam.search.Main.main_standard(Main.java:51)\n",
      "\tat priam.search.Main.main(Main.java:16)\n",
      "\t... 5 more\n",
      "Caused by: java.lang.ClassNotFoundException: weka.core.Utils\n",
      "\tat java.base/java.net.URLClassLoader.findClass(URLClassLoader.java:471)\n",
      "\tat java.base/java.lang.ClassLoader.loadClass(ClassLoader.java:589)\n",
      "\tat java.base/java.lang.ClassLoader.loadClass(ClassLoader.java:522)\n",
      "\t... 25 more\n"
     ]
    }
   ],
   "source": [
    "! java -Xmx50G -jar ../baselines/priam/PRIAM_search.jar -p /home/shizhenkun/codebase/DMLF/baselines/priam/PRIAM_JAN18 -i /home/shizhenkun/codebase/DMLF/data/test.fasta -o /home/shizhenkun/codebase/DMLF/results/priam/ --bp /home/shizhenkun/downloads/blast-2.2.13/bin --np 78"
   ]
  },
  {
   "cell_type": "code",
   "execution_count": null,
   "id": "4ede3ee2-f746-4911-9f22-90ef6a6567b7",
   "metadata": {},
   "outputs": [],
   "source": []
  },
  {
   "cell_type": "code",
   "execution_count": null,
   "id": "9dc190cc-cbc0-4cbb-8fdb-6e2da8d20edc",
   "metadata": {},
   "outputs": [],
   "source": []
  }
 ],
 "metadata": {
  "kernelspec": {
   "display_name": "py38",
   "language": "python",
   "name": "py38"
  },
  "language_info": {
   "codemirror_mode": {
    "name": "ipython",
    "version": 3
   },
   "file_extension": ".py",
   "mimetype": "text/x-python",
   "name": "python",
   "nbconvert_exporter": "python",
   "pygments_lexer": "ipython3",
   "version": "3.7.10 | packaged by conda-forge | (default, Feb 19 2021, 16:07:37) \n[GCC 9.3.0]"
  },
  "vscode": {
   "interpreter": {
    "hash": "5f0598356972e9a098a4a3756f1f561f75f6bcc730be3bc51870d213558f68c7"
   }
  },
  "widgets": {
   "application/vnd.jupyter.widget-state+json": {
    "state": {},
    "version_major": 2,
    "version_minor": 0
   }
  }
 },
 "nbformat": 4,
 "nbformat_minor": 5
}
