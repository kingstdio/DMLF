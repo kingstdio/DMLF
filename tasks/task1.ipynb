{
 "cells": [
  {
   "cell_type": "markdown",
   "metadata": {
    "tags": []
   },
   "source": [
    "# Task1. Enzyme or Non-enzyme Annotation\n",
    "\n",
    "> author: Shizhenkun   \n",
    "> email: zhenkun.shi@tib.cas.cn   \n",
    "> date: 2021-10-20  "
   ]
  },
  {
   "cell_type": "markdown",
   "metadata": {},
   "source": [
    "## 1. Import packages"
   ]
  },
  {
   "cell_type": "code",
   "execution_count": 1,
   "metadata": {
    "tags": []
   },
   "outputs": [
    {
     "name": "stdout",
     "output_type": "stream",
     "text": [
      "INFO: Pandarallel will run on 52 workers.\n",
      "INFO: Pandarallel will use Memory file system to transfer data between the main process and workers.\n"
     ]
    }
   ],
   "source": [
    "import numpy as np\n",
    "import pandas as pd\n",
    "import time\n",
    "import datetime\n",
    "import sys\n",
    "import os\n",
    "from tqdm import tqdm\n",
    "from functools import reduce\n",
    "import joblib\n",
    "\n",
    "sys.path.append(\"../tools/\")\n",
    "import funclib\n",
    "\n",
    "sys.path.append(\"../\")\n",
    "import benchmark_train as btrain\n",
    "import benchmark_test as btest\n",
    "import config as cfg\n",
    "import benchmark_evaluation as eva\n",
    "\n",
    "from sklearn.model_selection import train_test_split\n",
    "from xgboost import XGBClassifier\n",
    "\n",
    "from pandarallel import pandarallel #  import pandaralle\n",
    "pandarallel.initialize() # init\n",
    "\n",
    "%load_ext autoreload\n",
    "%autoreload 2"
   ]
  },
  {
   "cell_type": "markdown",
   "metadata": {},
   "source": [
    "## 2.  Load data"
   ]
  },
  {
   "cell_type": "code",
   "execution_count": 2,
   "metadata": {},
   "outputs": [
    {
     "name": "stdout",
     "output_type": "stream",
     "text": [
      "train size: 469134\n",
      "test size: 7101\n"
     ]
    }
   ],
   "source": [
    "#read train test data\n",
    "train = pd.read_feather(cfg.DATADIR+'task1/train.feather')\n",
    "test = pd.read_feather(cfg.DATADIR+'task1/test.feather')\n",
    "print('train size: {0}\\ntest size: {1}'.format(len(train), len(test)))"
   ]
  },
  {
   "cell_type": "code",
   "execution_count": 5,
   "metadata": {},
   "outputs": [
    {
     "data": {
      "text/html": [
       "<div>\n",
       "<style scoped>\n",
       "    .dataframe tbody tr th:only-of-type {\n",
       "        vertical-align: middle;\n",
       "    }\n",
       "\n",
       "    .dataframe tbody tr th {\n",
       "        vertical-align: top;\n",
       "    }\n",
       "\n",
       "    .dataframe thead th {\n",
       "        text-align: right;\n",
       "    }\n",
       "</style>\n",
       "<table border=\"1\" class=\"dataframe\">\n",
       "  <thead>\n",
       "    <tr style=\"text-align: right;\">\n",
       "      <th></th>\n",
       "      <th>id</th>\n",
       "      <th>seq</th>\n",
       "      <th>isenzyme</th>\n",
       "    </tr>\n",
       "  </thead>\n",
       "  <tbody>\n",
       "    <tr>\n",
       "      <th>124</th>\n",
       "      <td>P00958</td>\n",
       "      <td>MSFLISFDKSKKHPAHLQLANNLKIALALEYASKNLKPEVDNDNAA...</td>\n",
       "      <td>True</td>\n",
       "    </tr>\n",
       "    <tr>\n",
       "      <th>175</th>\n",
       "      <td>P00812</td>\n",
       "      <td>METGPHYNYYKNRELSIVLAPFSGGQGKLGVEKGPKYMLKHGLQTS...</td>\n",
       "      <td>True</td>\n",
       "    </tr>\n",
       "    <tr>\n",
       "      <th>248</th>\n",
       "      <td>P00959</td>\n",
       "      <td>MTQVAKKILVTCALPYANGSIHLGHMLEHIQADVWVRYQRMRGHEV...</td>\n",
       "      <td>True</td>\n",
       "    </tr>\n",
       "    <tr>\n",
       "      <th>249</th>\n",
       "      <td>P00348</td>\n",
       "      <td>MAFATRQLVRSLSSSSTAAASAKKILVKHVTVIGGGLMGAGIAQVA...</td>\n",
       "      <td>True</td>\n",
       "    </tr>\n",
       "    <tr>\n",
       "      <th>250</th>\n",
       "      <td>P00469</td>\n",
       "      <td>MLEQPYLDLAKKVLDEGHFKPDRTHTGTYSIFGHQMRFDLSKGFPL...</td>\n",
       "      <td>True</td>\n",
       "    </tr>\n",
       "    <tr>\n",
       "      <th>...</th>\n",
       "      <td>...</td>\n",
       "      <td>...</td>\n",
       "      <td>...</td>\n",
       "    </tr>\n",
       "    <tr>\n",
       "      <th>469123</th>\n",
       "      <td>Q8I6K2</td>\n",
       "      <td>MSNTAVLNDLVALYDRPTEPMFRVKAKKSFKVPKEYVTDRFKNVAV...</td>\n",
       "      <td>True</td>\n",
       "    </tr>\n",
       "    <tr>\n",
       "      <th>469127</th>\n",
       "      <td>O81103</td>\n",
       "      <td>MATAPSPTTMGTYSSLISTNSFSTFLPNKSQLSLSGKSKHYVARRS...</td>\n",
       "      <td>True</td>\n",
       "    </tr>\n",
       "    <tr>\n",
       "      <th>469129</th>\n",
       "      <td>Q21221</td>\n",
       "      <td>MSSGAPSGSSMSSTPGSPPPRAGGPNSVSFKDLCCLFCCPPFPSSI...</td>\n",
       "      <td>True</td>\n",
       "    </tr>\n",
       "    <tr>\n",
       "      <th>469130</th>\n",
       "      <td>Q6QJ72</td>\n",
       "      <td>MSRLLLPKLFSISRTQVPAASLFNNLYRRHKRFVHWTSKMSTDSVR...</td>\n",
       "      <td>True</td>\n",
       "    </tr>\n",
       "    <tr>\n",
       "      <th>469133</th>\n",
       "      <td>D9XDR8</td>\n",
       "      <td>MAKMSTTHEEIALAGPDGIPAVDLRDLIDAQLYMPFPFERNPHASE...</td>\n",
       "      <td>True</td>\n",
       "    </tr>\n",
       "  </tbody>\n",
       "</table>\n",
       "<p>222567 rows × 3 columns</p>\n",
       "</div>"
      ],
      "text/plain": [
       "            id                                                seq  isenzyme\n",
       "124     P00958  MSFLISFDKSKKHPAHLQLANNLKIALALEYASKNLKPEVDNDNAA...      True\n",
       "175     P00812  METGPHYNYYKNRELSIVLAPFSGGQGKLGVEKGPKYMLKHGLQTS...      True\n",
       "248     P00959  MTQVAKKILVTCALPYANGSIHLGHMLEHIQADVWVRYQRMRGHEV...      True\n",
       "249     P00348  MAFATRQLVRSLSSSSTAAASAKKILVKHVTVIGGGLMGAGIAQVA...      True\n",
       "250     P00469  MLEQPYLDLAKKVLDEGHFKPDRTHTGTYSIFGHQMRFDLSKGFPL...      True\n",
       "...        ...                                                ...       ...\n",
       "469123  Q8I6K2  MSNTAVLNDLVALYDRPTEPMFRVKAKKSFKVPKEYVTDRFKNVAV...      True\n",
       "469127  O81103  MATAPSPTTMGTYSSLISTNSFSTFLPNKSQLSLSGKSKHYVARRS...      True\n",
       "469129  Q21221  MSSGAPSGSSMSSTPGSPPPRAGGPNSVSFKDLCCLFCCPPFPSSI...      True\n",
       "469130  Q6QJ72  MSRLLLPKLFSISRTQVPAASLFNNLYRRHKRFVHWTSKMSTDSVR...      True\n",
       "469133  D9XDR8  MAKMSTTHEEIALAGPDGIPAVDLRDLIDAQLYMPFPFERNPHASE...      True\n",
       "\n",
       "[222567 rows x 3 columns]"
      ]
     },
     "execution_count": 5,
     "metadata": {},
     "output_type": "execute_result"
    }
   ],
   "source": [
    "train[train.isenzyme]"
   ]
  },
  {
   "cell_type": "markdown",
   "metadata": {},
   "source": [
    "## 3. Sequence aligment"
   ]
  },
  {
   "cell_type": "code",
   "execution_count": 3,
   "metadata": {
    "tags": []
   },
   "outputs": [
    {
     "name": "stdout",
     "output_type": "stream",
     "text": [
      "Write finished\n",
      "Write finished\n",
      "diamond makedb --in /tmp/train.fasta -d /tmp/train.dmnd\n"
     ]
    },
    {
     "name": "stderr",
     "output_type": "stream",
     "text": [
      "diamond v2.0.8.146 (C) Max Planck Society for the Advancement of Science\n",
      "Documentation, support and updates available at http://www.diamondsearch.org\n",
      "\n",
      "#CPU threads: 80\n",
      "Scoring parameters: (Matrix=BLOSUM62 Lambda=0.267 K=0.041 Penalties=11/1)\n",
      "Database input file: /tmp/train.fasta\n",
      "Opening the database file...  [0.004s]\n",
      "Loading sequences...  [0.869s]\n",
      "Masking sequences...  [0.304s]\n",
      "Writing sequences...  [0.163s]\n",
      "Hashing sequences...  [0.05s]\n",
      "Loading sequences...  [0s]\n",
      "Writing trailer...  [0.003s]\n",
      "Closing the input file...  [0.001s]\n",
      "Closing the database file...  [0.038s]\n",
      "Database hash = eed65be4bf3bb33f8407f23b2e861bca\n",
      "Processed 469134 sequences, 176795800 letters.\n",
      "Total time = 1.436s\n"
     ]
    },
    {
     "name": "stdout",
     "output_type": "stream",
     "text": [
      "diamond blastp -d /tmp/train.dmnd  -q  /tmp/test.fasta -o /tmp/test_fasta_results.tsv -b5 -c1 -k 1 --quiet\n",
      " aligment finished \n",
      " query samples:7101\n",
      " results samples: 5111\n"
     ]
    }
   ],
   "source": [
    "# blast\n",
    "res_data=funclib.getblast(train,test)\n",
    "print(' aligment finished \\n query samples:{0}\\n results samples: {1}'.format(len(test), len(res_data)))\n",
    "\n",
    "res_data = res_data[['id', 'sseqid']].merge(train, left_on='sseqid', right_on='id', how='left')[['id_x', 'isenzyme']]\n",
    "res_data =res_data.rename(columns={'id_x':'id','isenzyme':'isenzyme_blast'})\n",
    "res_data = test[['id','isenzyme']].merge(res_data, on='id', how='left')"
   ]
  },
  {
   "cell_type": "code",
   "execution_count": 4,
   "metadata": {},
   "outputs": [
    {
     "name": "stdout",
     "output_type": "stream",
     "text": [
      "baslineName \t accuracy \t precision(PPV) \t NPV \t\t recall \t f1 \t\t \t confusion Matrix\n",
      "Blast \t\t0.667934 \t0.966532 \t\t0.884197 \t0.795400 \t0.872655 \t tp: 2628 fp: 91 fn: 277 tn: 2115 up: 399 un: 1591\n"
     ]
    }
   ],
   "source": [
    "print('baslineName', '\\t', 'accuracy','\\t', 'precision(PPV) \\t NPV \\t\\t', 'recall','\\t', 'f1', '\\t\\t', '\\t confusion Matrix')\n",
    "eva.caculateMetrix(groundtruth=res_data.isenzyme, predict=res_data.isenzyme_blast, baselineName='Blast', type='include_unfind')"
   ]
  },
  {
   "cell_type": "markdown",
   "metadata": {
    "tags": []
   },
   "source": [
    "## 4. Embedding Comparison\n",
    "### 4.1 one-hot + ML"
   ]
  },
  {
   "cell_type": "code",
   "execution_count": 4,
   "metadata": {},
   "outputs": [],
   "source": [
    "trainset = train.copy()\n",
    "testset = test.copy()"
   ]
  },
  {
   "cell_type": "code",
   "execution_count": 7,
   "metadata": {},
   "outputs": [],
   "source": [
    "MAX_SEQ_LENGTH = 1500 #定义序列最长的长度\n",
    "trainset.seq = trainset.seq.map(lambda x : x[0:MAX_SEQ_LENGTH].ljust(MAX_SEQ_LENGTH, 'X'))\n",
    "testset.seq = testset.seq.map(lambda x : x[0:MAX_SEQ_LENGTH].ljust(MAX_SEQ_LENGTH, 'X'))\n",
    "f_train = funclib.dna_onehot(trainset) #训练集编码\n",
    "f_test = funclib.dna_onehot(testset) #测试集编码"
   ]
  },
  {
   "cell_type": "code",
   "execution_count": 8,
   "metadata": {},
   "outputs": [
    {
     "name": "stdout",
     "output_type": "stream",
     "text": [
      "baslineName \t accuracy \t precision(PPV) \t NPV \t\t recall \t f1 \t\t \t\t confusion Matrix\n",
      "knn \t\t0.611745 \t0.666667 \t\t0.595238 \t0.331114 \t0.442467 \t tp: 1094 fp: 547 fn: 2210 tn: 3250\n",
      "lr \t\t0.672159 \t0.630412 \t\t0.718666 \t0.713983 \t0.669600 \t tp: 2359 fp: 1383 fn: 945 tn: 2414\n",
      "xg \t\t0.723278 \t0.730942 \t\t0.717991 \t0.641344 \t0.683218 \t tp: 2119 fp: 780 fn: 1185 tn: 3017\n",
      "dt \t\t0.617096 \t0.599932 \t\t0.629133 \t0.531477 \t0.563633 \t tp: 1756 fp: 1171 fn: 1548 tn: 2626\n",
      "rf \t\t0.715111 \t0.691709 \t\t0.735904 \t0.699455 \t0.695561 \t tp: 2311 fp: 1030 fn: 993 tn: 2767\n",
      "gbdt \t\t0.689621 \t0.646510 \t\t0.737974 \t0.734564 \t0.687730 \t tp: 2427 fp: 1327 fn: 877 tn: 2470\n"
     ]
    }
   ],
   "source": [
    "# 计算指标\n",
    "X_train = np.array(f_train.iloc[:,2:])\n",
    "X_test = np.array(f_test.iloc[:,2:])\n",
    "Y_train = np.array(trainset.isenzyme.astype('int'))\n",
    "Y_test = np.array(testset.isenzyme.astype('int'))\n",
    "funclib.run_baseline(X_train, Y_train, X_test, Y_test)"
   ]
  },
  {
   "cell_type": "markdown",
   "metadata": {},
   "source": [
    "### 4.2 Unirep + ML"
   ]
  },
  {
   "cell_type": "code",
   "execution_count": 8,
   "metadata": {},
   "outputs": [],
   "source": [
    "train_unirep = pd.read_feather(cfg.DATADIR + 'train_unirep.feather')\n",
    "test_unirep = pd.read_feather(cfg.DATADIR + 'test_unirep.feather')"
   ]
  },
  {
   "cell_type": "code",
   "execution_count": 9,
   "metadata": {},
   "outputs": [],
   "source": [
    "train_unirep = trainset.merge(train_unirep, on='id', how='left')\n",
    "test_unirep = testset.merge(test_unirep, on='id', how='left')"
   ]
  },
  {
   "cell_type": "code",
   "execution_count": 10,
   "metadata": {},
   "outputs": [
    {
     "name": "stdout",
     "output_type": "stream",
     "text": [
      "baslineName \t accuracy \t precision(PPV) \t NPV \t\t recall \t f1 \t\t \t\t confusion Matrix\n",
      "knn \t\t0.851852 \t0.854088 \t\t0.850038 \t0.822034 \t0.837754 \t tp: 2716 fp: 464 fn: 588 tn: 3333\n",
      "lr \t\t0.809604 \t0.933008 \t\t0.752218 \t0.636501 \t0.756747 \t tp: 2103 fp: 151 fn: 1201 tn: 3646\n",
      "xg \t\t0.861991 \t0.885790 \t\t0.844461 \t0.807506 \t0.844839 \t tp: 2668 fp: 344 fn: 636 tn: 3453\n",
      "dt \t\t0.769610 \t0.789986 \t\t0.755740 \t0.687651 \t0.735275 \t tp: 2272 fp: 604 fn: 1032 tn: 3193\n",
      "rf \t\t0.841994 \t0.909535 \t\t0.801442 \t0.733354 \t0.811997 \t tp: 2423 fp: 241 fn: 881 tn: 3556\n",
      "gbdt \t\t0.785101 \t0.894060 \t\t0.734365 \t0.610472 \t0.725540 \t tp: 2017 fp: 239 fn: 1287 tn: 3558\n"
     ]
    }
   ],
   "source": [
    "X_train =np.array(train_unirep.iloc[:,3:])\n",
    "X_test = np.array(test_unirep.iloc[:,3:])\n",
    "\n",
    "Y_train = np.array(train_unirep.isenzyme.astype('int')).flatten()\n",
    "Y_test = np.array(test_unirep.isenzyme.astype('int')).flatten()\n",
    "\n",
    "funclib.run_baseline(X_train, Y_train, X_test, Y_test)"
   ]
  },
  {
   "cell_type": "markdown",
   "metadata": {
    "tags": []
   },
   "source": [
    "### 4.3 ESM REP33 + ML"
   ]
  },
  {
   "cell_type": "code",
   "execution_count": 9,
   "metadata": {},
   "outputs": [],
   "source": [
    "train_esm_33 = pd.read_feather(cfg.DATADIR + 'train_rep33.feather')\n",
    "test_esm_33 = pd.read_feather(cfg.DATADIR + 'test_rep33.feather')\n",
    "\n",
    "train_esm = trainset.merge(train_esm_33, on='id', how='left')\n",
    "test_esm = testset.merge(test_esm_33, on='id', how='left')"
   ]
  },
  {
   "cell_type": "code",
   "execution_count": 10,
   "metadata": {},
   "outputs": [
    {
     "name": "stdout",
     "output_type": "stream",
     "text": [
      "baslineName \t accuracy \t precision(PPV) \t NPV \t\t recall \t f1 \t\t \t\t confusion Matrix\n",
      "knn \t\t0.927300 \t0.935953 \t\t0.920835 \t0.898296 \t0.916738 \t tp: 3215 fp: 220 fn: 364 tn: 4234\n",
      "lr \t\t0.908378 \t0.927005 \t\t0.895196 \t0.862252 \t0.893457 \t tp: 3086 fp: 243 fn: 493 tn: 4211\n",
      "xg \t\t0.928047 \t0.952913 \t\t0.910593 \t0.882090 \t0.916135 \t tp: 3157 fp: 156 fn: 422 tn: 4298\n",
      "dt \t\t0.833811 \t0.848664 \t\t0.823884 \t0.763062 \t0.803590 \t tp: 2731 fp: 487 fn: 848 tn: 3967\n",
      "rf \t\t0.916096 \t0.960965 \t\t0.887136 \t0.846046 \t0.899851 \t tp: 3028 fp: 123 fn: 551 tn: 4331\n",
      "gbdt \t\t0.865804 \t0.901703 \t\t0.843089 \t0.784297 \t0.838912 \t tp: 2807 fp: 306 fn: 772 tn: 4148\n"
     ]
    }
   ],
   "source": [
    "X_train = np.array(train_esm.iloc[:,4:])\n",
    "X_test = np.array(test_esm.iloc[:,4:])\n",
    "\n",
    "Y_train = np.array(train_esm.isemzyme.astype('int')).flatten()\n",
    "Y_test = np.array(test_esm.isemzyme.astype('int')).flatten()\n",
    "\n",
    "funclib.run_baseline(X_train, Y_train, X_test, Y_test)"
   ]
  },
  {
   "cell_type": "markdown",
   "metadata": {},
   "source": [
    "### 4.4 ESM REP32 + ML"
   ]
  },
  {
   "cell_type": "code",
   "execution_count": 10,
   "metadata": {
    "tags": []
   },
   "outputs": [
    {
     "name": "stdout",
     "output_type": "stream",
     "text": [
      "baslineName \t accuracy \t precision(PPV) \t NPV \t\t recall \t f1 \t\t \t\t confusion Matrix\n",
      "knn \t\t0.924799 \t0.939125 \t\t0.913352 \t0.896489 \t0.917312 \t tp: 2962 fp: 192 fn: 342 tn: 3605\n",
      "lr \t\t0.908604 \t0.927536 \t\t0.893894 \t0.871671 \t0.898736 \t tp: 2880 fp: 225 fn: 424 tn: 3572\n",
      "xg \t\t0.921420 \t0.949869 \t\t0.899975 \t0.877421 \t0.912209 \t tp: 2899 fp: 153 fn: 405 tn: 3644\n",
      "dt \t\t0.830587 \t0.855981 \t\t0.812530 \t0.764528 \t0.807674 \t tp: 2526 fp: 425 fn: 778 tn: 3372\n",
      "rf \t\t0.908604 \t0.961418 \t\t0.872633 \t0.837167 \t0.895001 \t tp: 2766 fp: 111 fn: 538 tn: 3686\n",
      "gbdt \t\t0.874947 \t0.905641 \t\t0.852777 \t0.816283 \t0.858644 \t tp: 2697 fp: 281 fn: 607 tn: 3516\n"
     ]
    }
   ],
   "source": [
    "train_esm_32 = pd.read_feather(cfg.DATADIR + 'train_rep32.feather')\n",
    "test_esm_32 = pd.read_feather(cfg.DATADIR + 'test_rep32.feather')\n",
    "\n",
    "train_esm = trainset.merge(train_esm_32, on='id', how='left')\n",
    "test_esm = testset.merge(test_esm_32, on='id', how='left')\n",
    "\n",
    "X_train = np.array(train_esm.iloc[:,4:])\n",
    "X_test = np.array(test_esm.iloc[:,4:])\n",
    "\n",
    "Y_train = np.array(train_esm.isenzyme.astype('int')).flatten()\n",
    "Y_test = np.array(test_esm.isenzyme.astype('int')).flatten()\n",
    "\n",
    "funclib.run_baseline(X_train, Y_train, X_test, Y_test)"
   ]
  },
  {
   "cell_type": "markdown",
   "metadata": {},
   "source": [
    "### 4.5 ESM REP0 + ML"
   ]
  },
  {
   "cell_type": "code",
   "execution_count": 7,
   "metadata": {},
   "outputs": [
    {
     "name": "stdout",
     "output_type": "stream",
     "text": [
      "baslineName \t accuracy \t precision(PPV) \t NPV \t\t recall \t f1 \t\t \t\t confusion Matrix\n",
      "knn \t\t0.824599 \t0.789179 \t\t0.855641 \t0.827326 \t0.807802 \t tp: 2961 fp: 791 fn: 618 tn: 3663\n",
      "lr \t\t0.757251 \t0.721031 \t\t0.787948 \t0.742386 \t0.731553 \t tp: 2657 fp: 1028 fn: 922 tn: 3426\n",
      "xg \t\t0.847504 \t0.844555 \t\t0.849686 \t0.806091 \t0.824875 \t tp: 2885 fp: 531 fn: 694 tn: 3923\n",
      "dt \t\t0.760612 \t0.739722 \t\t0.776370 \t0.713887 \t0.726575 \t tp: 2555 fp: 899 fn: 1024 tn: 3555\n",
      "rf \t\t0.853853 \t0.863623 \t\t0.847017 \t0.797988 \t0.829509 \t tp: 2856 fp: 451 fn: 723 tn: 4003\n",
      "gbdt \t\t0.820988 \t0.810020 \t\t0.829258 \t0.781503 \t0.795506 \t tp: 2797 fp: 656 fn: 782 tn: 3798\n"
     ]
    }
   ],
   "source": [
    "train_esm_0 = pd.read_feather(cfg.DATADIR + 'train_rep0.feather')\n",
    "test_esm_0 = pd.read_feather(cfg.DATADIR + 'test_rep0.feather')\n",
    "\n",
    "train_esm = trainset.merge(train_esm_0, on='id', how='left')\n",
    "test_esm = testset.merge(test_esm_0, on='id', how='left')\n",
    "\n",
    "X_train = np.array(train_esm.iloc[:,4:])\n",
    "X_test = np.array(test_esm.iloc[:,4:])\n",
    "\n",
    "Y_train = np.array(train_esm.isemzyme.astype('int')).flatten()\n",
    "Y_test = np.array(test_esm.isemzyme.astype('int')).flatten()\n",
    "\n",
    "funclib.run_baseline(X_train, Y_train, X_test, Y_test)"
   ]
  },
  {
   "cell_type": "markdown",
   "metadata": {},
   "source": [
    "## 5. Ours"
   ]
  },
  {
   "cell_type": "code",
   "execution_count": null,
   "metadata": {},
   "outputs": [],
   "source": [
    "# get blast results\n",
    "blastres=pd.DataFrame()\n",
    "blastres['id']=res.id\n",
    "blastres['isemzyme_groundtruth']=res.isemzyme\n",
    "blastres['isEmzyme_pred_blast']=res.isEmzyme_pred"
   ]
  },
  {
   "cell_type": "code",
   "execution_count": 6,
   "metadata": {},
   "outputs": [],
   "source": [
    "#res32\n",
    "train_esm_32 = pd.read_feather(cfg.DATADIR + 'train_rep32.feather')\n",
    "test_esm_32 = pd.read_feather(cfg.DATADIR + 'test_rep32.feather')\n",
    "\n",
    "train_esm = trainset.merge(train_esm_32, on='id', how='left')\n",
    "test_esm = testset.merge(test_esm_32, on='id', how='left')\n",
    "\n",
    "X_train = np.array(train_esm.iloc[:,3:])\n",
    "X_test = np.array(test_esm.iloc[:,3:])\n",
    "\n",
    "Y_train = np.array(train_esm.isenzyme.astype('int')).flatten()\n",
    "Y_test = np.array(test_esm.isenzyme.astype('int')).flatten()"
   ]
  },
  {
   "cell_type": "code",
   "execution_count": null,
   "metadata": {},
   "outputs": [],
   "source": [
    "# groundtruth, predict, predictprob = funclib.xgmain(X_train, Y_train, X_test, Y_test, type='binary')\n",
    "groundtruth, predict, predictprob = funclib.knnmain(X_train, Y_train, X_test, Y_test, type='binary')\n",
    "blastres['isEmzyme_pred_xg'] = predict\n",
    "blastres.isEmzyme_pred_xg =blastres.isEmzyme_pred_xg.astype('bool')\n",
    "blastres['isEmzyme_pred_slice']=blastres.apply(lambda x: x.isEmzyme_pred_xg if str(x.isEmzyme_pred_blast)=='nan' else x.isEmzyme_pred_blast, axis=1)\n",
    "print('baslineName', '\\t', 'accuracy','\\t', 'precision(PPV) \\t NPV \\t\\t', 'recall','\\t', 'f1', '\\t\\t', '\\t confusion Matrix')\n",
    "eva.caculateMetrix( groundtruth=blastres.isemzyme_groundtruth,  predict=blastres.isEmzyme_pred_slice, baselineName='ours', type='binary')"
   ]
  },
  {
   "cell_type": "code",
   "execution_count": 7,
   "metadata": {},
   "outputs": [
    {
     "data": {
      "text/plain": [
       "['/home/shizhenkun/codebase/DMLF/model/isenzyme.model']"
      ]
     },
     "execution_count": 7,
     "metadata": {},
     "output_type": "execute_result"
    }
   ],
   "source": [
    "groundtruth, predict, predictprob, model = funclib.knnmain(X_train, Y_train, X_test, Y_test, type='binary')\n",
    "joblib.dump(model, cfg.ISENZYME_MODEL)"
   ]
  },
  {
   "cell_type": "code",
   "execution_count": 62,
   "metadata": {},
   "outputs": [],
   "source": [
    "# 保存文件\n",
    "blastres.to_csv(cfg.FILE_SLICE_ISENZYME_RESULTS, sep='\\t', index=None)"
   ]
  }
 ],
 "metadata": {
  "kernelspec": {
   "display_name": "DMLF",
   "language": "python",
   "name": "python3"
  },
  "language_info": {
   "codemirror_mode": {
    "name": "ipython",
    "version": 3
   },
   "file_extension": ".py",
   "mimetype": "text/x-python",
   "name": "python",
   "nbconvert_exporter": "python",
   "pygments_lexer": "ipython3",
   "version": "3.8.15"
  },
  "vscode": {
   "interpreter": {
    "hash": "6b0f740237ba4768c544d9b9677983e49b45ca1230fda464ede0b93eba99c7d2"
   }
  },
  "widgets": {
   "application/vnd.jupyter.widget-state+json": {
    "state": {},
    "version_major": 2,
    "version_minor": 0
   }
  }
 },
 "nbformat": 4,
 "nbformat_minor": 4
}
