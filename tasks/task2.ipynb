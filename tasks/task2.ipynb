{
 "cells": [
  {
   "cell_type": "markdown",
   "id": "11df1ead-93b7-43ad-8370-c0389f802500",
   "metadata": {},
   "source": [
    "# Task2. Enzyme Catalytic Function Quantity Annotation\n",
    "\n",
    "> author: Shizhenkun   \n",
    "> email: zhenkun.shi@tib.cas.cn   \n",
    "> date: 2021-09-28  \n",
    "\n",
    "\n"
   ]
  },
  {
   "cell_type": "markdown",
   "id": "9eace04d-074d-4d4f-a6d2-b91fffda9994",
   "metadata": {},
   "source": [
    "## 1. Import packages"
   ]
  },
  {
   "cell_type": "code",
   "execution_count": 1,
   "id": "c843b563-ffe0-442a-90d2-47b1705f0441",
   "metadata": {
    "tags": []
   },
   "outputs": [
    {
     "name": "stdout",
     "output_type": "stream",
     "text": [
      "INFO: Pandarallel will run on 80 workers.\n",
      "INFO: Pandarallel will use Memory file system to transfer data between the main process and workers.\n"
     ]
    }
   ],
   "source": [
    "import numpy as np\n",
    "import pandas as pd\n",
    "\n",
    "\n",
    "import sys\n",
    "import os\n",
    "from tqdm import tqdm\n",
    "from functools import reduce\n",
    "\n",
    "sys.path.append(\"../tools/\")\n",
    "import funclib\n",
    "\n",
    "sys.path.append(\"../\")\n",
    "import benchmark_common as bcommon\n",
    "import benchmark_train as btrain\n",
    "import benchmark_test as btest\n",
    "import config as cfg\n",
    "import benchmark_evaluation as eva\n",
    "import joblib\n",
    "\n",
    "\n",
    "\n",
    "from sklearn import metrics\n",
    "\n",
    "from pandarallel import pandarallel # 导入pandaralle\n",
    "pandarallel.initialize() # 初始化该这个b...并行库\n",
    "\n",
    "%load_ext autoreload\n",
    "%autoreload 2"
   ]
  },
  {
   "cell_type": "markdown",
   "id": "93a6a622-6c28-4083-998a-4e018886603e",
   "metadata": {},
   "source": [
    "## 2. Load data"
   ]
  },
  {
   "cell_type": "code",
   "execution_count": 2,
   "id": "04d393be-210b-450b-8e1a-b31991e23525",
   "metadata": {},
   "outputs": [
    {
     "name": "stdout",
     "output_type": "stream",
     "text": [
      "train size: 222567\n",
      "test size: 3304\n"
     ]
    }
   ],
   "source": [
    "#read train test data\n",
    "train = pd.read_feather(cfg.DATADIR+'task2/train.feather')\n",
    "test = pd.read_feather(cfg.DATADIR+'task2/test.feather')\n",
    "print('train size: {0}\\ntest size: {1}'.format(len(train), len(test)))"
   ]
  },
  {
   "cell_type": "markdown",
   "id": "2f4af692-2fb5-472e-8694-0b9203f40ed4",
   "metadata": {},
   "source": [
    "## 3. Gather features"
   ]
  },
  {
   "cell_type": "code",
   "execution_count": 3,
   "id": "7c6edc66-b92e-41d1-a55b-578cf51d3152",
   "metadata": {},
   "outputs": [],
   "source": [
    "trainf=pd.read_feather(cfg.DATADIR+'train_rep32.feather')\n",
    "testf=pd.read_feather(cfg.DATADIR+'test_rep32.feather')\n",
    "\n",
    "train = train.merge(trainf, on='id', how='left')\n",
    "test = test.merge(testf, on='id', how='left')"
   ]
  },
  {
   "cell_type": "markdown",
   "id": "9818e474-eac9-4c39-817f-ed60e653f72f",
   "metadata": {},
   "source": [
    "## 4. Prediction\n"
   ]
  },
  {
   "cell_type": "markdown",
   "id": "6ba91cd6-f598-4909-bd36-c6f1fbe286d9",
   "metadata": {},
   "source": [
    "### 4.1 singel-to-multi"
   ]
  },
  {
   "cell_type": "code",
   "execution_count": 4,
   "id": "0ec6d288-48f0-41a8-b77b-842219474d45",
   "metadata": {},
   "outputs": [],
   "source": [
    "train_s1=train.copy()\n",
    "test_s1=test.copy()\n",
    "\n",
    "train_s1['lb'] = train_s1.functionCounts.apply(lambda x : 0 if x==1 else 1)\n",
    "test_s1['lb'] = test_s1.functionCounts.apply(lambda x : 0 if x==1 else 1)\n",
    "\n",
    "X_train = np.array(train.iloc[:,np.r_[3:1283]])\n",
    "Y_train = np.array(train_s1.lb.astype('int')).flatten()\n",
    "\n",
    "X_test = np.array(test.iloc[:,np.r_[3:1283]])\n",
    "Y_test = np.array(test_s1.lb.astype('int')).flatten()"
   ]
  },
  {
   "cell_type": "code",
   "execution_count": null,
   "id": "8df6a915-9c96-4575-a26c-9af097168acf",
   "metadata": {},
   "outputs": [
    {
     "name": "stdout",
     "output_type": "stream",
     "text": [
      "baslineName \t accuracy \t precision(PPV) \t NPV \t\t recall \t f1 \t\t \t\t confusion Matrix\n",
      "knn \t\t0.925545 \t0.517857 \t\t0.947385 \t0.345238 \t0.414286 \t tp: 87 fp: 81 fn: 165 tn: 2971\n"
     ]
    }
   ],
   "source": [
    "funclib.run_baseline(X_train, Y_train, X_test, Y_test)"
   ]
  },
  {
   "cell_type": "code",
   "execution_count": 18,
   "id": "354f3f3a-d274-45df-abbb-551a300b5dc3",
   "metadata": {},
   "outputs": [
    {
     "data": {
      "text/plain": [
       "['/home/shizhenkun/codebase/DMLF/model/single_multi.model']"
      ]
     },
     "execution_count": 18,
     "metadata": {},
     "output_type": "execute_result"
    }
   ],
   "source": [
    "groundtruth, predict, predictprob, model = funclib.xgmain(X_train, Y_train, X_test, Y_test, type='binary')\n",
    "joblib.dump(model, cfg.MODELDIR+'/single_multi.model')"
   ]
  },
  {
   "cell_type": "code",
   "execution_count": 20,
   "id": "bee0645a-b53b-46e7-9b0e-2632c06aac4e",
   "metadata": {},
   "outputs": [
    {
     "data": {
      "text/html": [
       "<div>\n",
       "<style scoped>\n",
       "    .dataframe tbody tr th:only-of-type {\n",
       "        vertical-align: middle;\n",
       "    }\n",
       "\n",
       "    .dataframe tbody tr th {\n",
       "        vertical-align: top;\n",
       "    }\n",
       "\n",
       "    .dataframe thead th {\n",
       "        text-align: right;\n",
       "    }\n",
       "</style>\n",
       "<table border=\"1\" class=\"dataframe\">\n",
       "  <thead>\n",
       "    <tr style=\"text-align: right;\">\n",
       "      <th></th>\n",
       "      <th>0</th>\n",
       "      <th>1</th>\n",
       "      <th>2</th>\n",
       "      <th>3</th>\n",
       "      <th>4</th>\n",
       "      <th>5</th>\n",
       "      <th>6</th>\n",
       "      <th>7</th>\n",
       "      <th>8</th>\n",
       "      <th>9</th>\n",
       "      <th>...</th>\n",
       "      <th>1270</th>\n",
       "      <th>1271</th>\n",
       "      <th>1272</th>\n",
       "      <th>1273</th>\n",
       "      <th>1274</th>\n",
       "      <th>1275</th>\n",
       "      <th>1276</th>\n",
       "      <th>1277</th>\n",
       "      <th>1278</th>\n",
       "      <th>1279</th>\n",
       "    </tr>\n",
       "  </thead>\n",
       "  <tbody>\n",
       "    <tr>\n",
       "      <th>0</th>\n",
       "      <td>-0.220921</td>\n",
       "      <td>4.081616</td>\n",
       "      <td>-3.814746</td>\n",
       "      <td>2.202727</td>\n",
       "      <td>-6.239662</td>\n",
       "      <td>-4.988444</td>\n",
       "      <td>-5.822192</td>\n",
       "      <td>-4.460664</td>\n",
       "      <td>-1.200592</td>\n",
       "      <td>-3.804104</td>\n",
       "      <td>...</td>\n",
       "      <td>18.058687</td>\n",
       "      <td>-1.100924</td>\n",
       "      <td>1.724075</td>\n",
       "      <td>0.143535</td>\n",
       "      <td>-6.999560</td>\n",
       "      <td>-6.251357</td>\n",
       "      <td>8.360884</td>\n",
       "      <td>-1.662625</td>\n",
       "      <td>-5.621017</td>\n",
       "      <td>1.682485</td>\n",
       "    </tr>\n",
       "    <tr>\n",
       "      <th>1</th>\n",
       "      <td>3.521839</td>\n",
       "      <td>4.318994</td>\n",
       "      <td>-1.853766</td>\n",
       "      <td>1.102569</td>\n",
       "      <td>-9.321230</td>\n",
       "      <td>-4.854475</td>\n",
       "      <td>-7.815628</td>\n",
       "      <td>-2.012899</td>\n",
       "      <td>-5.534803</td>\n",
       "      <td>-6.105119</td>\n",
       "      <td>...</td>\n",
       "      <td>8.096443</td>\n",
       "      <td>0.931363</td>\n",
       "      <td>-4.604083</td>\n",
       "      <td>0.339199</td>\n",
       "      <td>-6.082336</td>\n",
       "      <td>-3.915988</td>\n",
       "      <td>7.511534</td>\n",
       "      <td>-2.378523</td>\n",
       "      <td>-3.667611</td>\n",
       "      <td>4.634388</td>\n",
       "    </tr>\n",
       "    <tr>\n",
       "      <th>2</th>\n",
       "      <td>1.032287</td>\n",
       "      <td>-1.094576</td>\n",
       "      <td>-4.722376</td>\n",
       "      <td>4.625370</td>\n",
       "      <td>-1.973799</td>\n",
       "      <td>-1.705471</td>\n",
       "      <td>-4.638579</td>\n",
       "      <td>-6.950621</td>\n",
       "      <td>-1.872663</td>\n",
       "      <td>-3.980067</td>\n",
       "      <td>...</td>\n",
       "      <td>18.173588</td>\n",
       "      <td>-1.603059</td>\n",
       "      <td>0.301227</td>\n",
       "      <td>-2.721340</td>\n",
       "      <td>-1.693633</td>\n",
       "      <td>-4.528199</td>\n",
       "      <td>5.910798</td>\n",
       "      <td>-2.073927</td>\n",
       "      <td>-7.305595</td>\n",
       "      <td>0.270684</td>\n",
       "    </tr>\n",
       "    <tr>\n",
       "      <th>3</th>\n",
       "      <td>-2.420424</td>\n",
       "      <td>-1.460299</td>\n",
       "      <td>-2.409102</td>\n",
       "      <td>1.643003</td>\n",
       "      <td>-1.612438</td>\n",
       "      <td>-1.568280</td>\n",
       "      <td>2.726623</td>\n",
       "      <td>2.233466</td>\n",
       "      <td>-10.240229</td>\n",
       "      <td>-5.307086</td>\n",
       "      <td>...</td>\n",
       "      <td>15.082927</td>\n",
       "      <td>-0.857677</td>\n",
       "      <td>0.444023</td>\n",
       "      <td>1.980751</td>\n",
       "      <td>-1.351836</td>\n",
       "      <td>-4.664156</td>\n",
       "      <td>1.289754</td>\n",
       "      <td>-2.213044</td>\n",
       "      <td>2.253615</td>\n",
       "      <td>3.059324</td>\n",
       "    </tr>\n",
       "    <tr>\n",
       "      <th>4</th>\n",
       "      <td>-3.996948</td>\n",
       "      <td>-6.180151</td>\n",
       "      <td>-4.634508</td>\n",
       "      <td>3.155759</td>\n",
       "      <td>-10.585983</td>\n",
       "      <td>0.715175</td>\n",
       "      <td>-15.944781</td>\n",
       "      <td>-7.783895</td>\n",
       "      <td>-6.171251</td>\n",
       "      <td>-8.116997</td>\n",
       "      <td>...</td>\n",
       "      <td>24.049959</td>\n",
       "      <td>-0.592115</td>\n",
       "      <td>-8.274217</td>\n",
       "      <td>-0.269268</td>\n",
       "      <td>-7.028537</td>\n",
       "      <td>-4.726937</td>\n",
       "      <td>13.501459</td>\n",
       "      <td>-11.718015</td>\n",
       "      <td>0.038843</td>\n",
       "      <td>2.551557</td>\n",
       "    </tr>\n",
       "    <tr>\n",
       "      <th>...</th>\n",
       "      <td>...</td>\n",
       "      <td>...</td>\n",
       "      <td>...</td>\n",
       "      <td>...</td>\n",
       "      <td>...</td>\n",
       "      <td>...</td>\n",
       "      <td>...</td>\n",
       "      <td>...</td>\n",
       "      <td>...</td>\n",
       "      <td>...</td>\n",
       "      <td>...</td>\n",
       "      <td>...</td>\n",
       "      <td>...</td>\n",
       "      <td>...</td>\n",
       "      <td>...</td>\n",
       "      <td>...</td>\n",
       "      <td>...</td>\n",
       "      <td>...</td>\n",
       "      <td>...</td>\n",
       "      <td>...</td>\n",
       "      <td>...</td>\n",
       "    </tr>\n",
       "    <tr>\n",
       "      <th>222562</th>\n",
       "      <td>0.172802</td>\n",
       "      <td>2.350760</td>\n",
       "      <td>4.350393</td>\n",
       "      <td>3.693239</td>\n",
       "      <td>-5.923174</td>\n",
       "      <td>1.420440</td>\n",
       "      <td>-8.875187</td>\n",
       "      <td>4.948562</td>\n",
       "      <td>-9.260919</td>\n",
       "      <td>-9.089705</td>\n",
       "      <td>...</td>\n",
       "      <td>20.170313</td>\n",
       "      <td>-0.140875</td>\n",
       "      <td>-7.601892</td>\n",
       "      <td>0.804636</td>\n",
       "      <td>-11.607852</td>\n",
       "      <td>-6.285739</td>\n",
       "      <td>4.216749</td>\n",
       "      <td>2.142383</td>\n",
       "      <td>-14.011300</td>\n",
       "      <td>10.606584</td>\n",
       "    </tr>\n",
       "    <tr>\n",
       "      <th>222563</th>\n",
       "      <td>0.272997</td>\n",
       "      <td>2.976982</td>\n",
       "      <td>1.862016</td>\n",
       "      <td>5.408012</td>\n",
       "      <td>-5.642054</td>\n",
       "      <td>-5.404109</td>\n",
       "      <td>-11.418259</td>\n",
       "      <td>0.153906</td>\n",
       "      <td>-5.349937</td>\n",
       "      <td>-5.087845</td>\n",
       "      <td>...</td>\n",
       "      <td>17.778130</td>\n",
       "      <td>-1.399726</td>\n",
       "      <td>-7.715403</td>\n",
       "      <td>-1.014039</td>\n",
       "      <td>-9.040051</td>\n",
       "      <td>-3.262766</td>\n",
       "      <td>2.823239</td>\n",
       "      <td>2.903638</td>\n",
       "      <td>-3.791561</td>\n",
       "      <td>3.065740</td>\n",
       "    </tr>\n",
       "    <tr>\n",
       "      <th>222564</th>\n",
       "      <td>-1.024953</td>\n",
       "      <td>5.833755</td>\n",
       "      <td>1.151545</td>\n",
       "      <td>1.393820</td>\n",
       "      <td>-3.737662</td>\n",
       "      <td>0.271311</td>\n",
       "      <td>-4.385376</td>\n",
       "      <td>-0.669128</td>\n",
       "      <td>-8.530610</td>\n",
       "      <td>-3.202958</td>\n",
       "      <td>...</td>\n",
       "      <td>8.665022</td>\n",
       "      <td>-3.316796</td>\n",
       "      <td>-5.142276</td>\n",
       "      <td>6.789438</td>\n",
       "      <td>-5.080449</td>\n",
       "      <td>-4.224988</td>\n",
       "      <td>7.700522</td>\n",
       "      <td>-4.602151</td>\n",
       "      <td>-2.171469</td>\n",
       "      <td>3.767569</td>\n",
       "    </tr>\n",
       "    <tr>\n",
       "      <th>222565</th>\n",
       "      <td>-0.132955</td>\n",
       "      <td>0.242595</td>\n",
       "      <td>-2.817183</td>\n",
       "      <td>4.983530</td>\n",
       "      <td>-6.607008</td>\n",
       "      <td>-1.489796</td>\n",
       "      <td>-5.255298</td>\n",
       "      <td>-2.211435</td>\n",
       "      <td>-1.485693</td>\n",
       "      <td>-6.607338</td>\n",
       "      <td>...</td>\n",
       "      <td>11.285470</td>\n",
       "      <td>-1.765559</td>\n",
       "      <td>-4.504529</td>\n",
       "      <td>-3.887650</td>\n",
       "      <td>-9.018026</td>\n",
       "      <td>-5.810025</td>\n",
       "      <td>3.122884</td>\n",
       "      <td>3.802729</td>\n",
       "      <td>10.711333</td>\n",
       "      <td>-4.930251</td>\n",
       "    </tr>\n",
       "    <tr>\n",
       "      <th>222566</th>\n",
       "      <td>-6.034903</td>\n",
       "      <td>-1.851330</td>\n",
       "      <td>5.450785</td>\n",
       "      <td>0.843657</td>\n",
       "      <td>-9.378089</td>\n",
       "      <td>3.344649</td>\n",
       "      <td>-3.849877</td>\n",
       "      <td>-6.976120</td>\n",
       "      <td>-5.518673</td>\n",
       "      <td>-2.596099</td>\n",
       "      <td>...</td>\n",
       "      <td>20.123451</td>\n",
       "      <td>3.767841</td>\n",
       "      <td>-0.461290</td>\n",
       "      <td>-3.011745</td>\n",
       "      <td>-8.954665</td>\n",
       "      <td>-0.319207</td>\n",
       "      <td>9.908740</td>\n",
       "      <td>-3.602155</td>\n",
       "      <td>-9.027922</td>\n",
       "      <td>-1.461685</td>\n",
       "    </tr>\n",
       "  </tbody>\n",
       "</table>\n",
       "<p>222567 rows × 1280 columns</p>\n",
       "</div>"
      ],
      "text/plain": [
       "            0         1         2         3          4         5     \\\n",
       "0      -0.220921  4.081616 -3.814746  2.202727  -6.239662 -4.988444   \n",
       "1       3.521839  4.318994 -1.853766  1.102569  -9.321230 -4.854475   \n",
       "2       1.032287 -1.094576 -4.722376  4.625370  -1.973799 -1.705471   \n",
       "3      -2.420424 -1.460299 -2.409102  1.643003  -1.612438 -1.568280   \n",
       "4      -3.996948 -6.180151 -4.634508  3.155759 -10.585983  0.715175   \n",
       "...          ...       ...       ...       ...        ...       ...   \n",
       "222562  0.172802  2.350760  4.350393  3.693239  -5.923174  1.420440   \n",
       "222563  0.272997  2.976982  1.862016  5.408012  -5.642054 -5.404109   \n",
       "222564 -1.024953  5.833755  1.151545  1.393820  -3.737662  0.271311   \n",
       "222565 -0.132955  0.242595 -2.817183  4.983530  -6.607008 -1.489796   \n",
       "222566 -6.034903 -1.851330  5.450785  0.843657  -9.378089  3.344649   \n",
       "\n",
       "             6         7          8         9     ...       1270      1271  \\\n",
       "0       -5.822192 -4.460664  -1.200592 -3.804104  ...  18.058687 -1.100924   \n",
       "1       -7.815628 -2.012899  -5.534803 -6.105119  ...   8.096443  0.931363   \n",
       "2       -4.638579 -6.950621  -1.872663 -3.980067  ...  18.173588 -1.603059   \n",
       "3        2.726623  2.233466 -10.240229 -5.307086  ...  15.082927 -0.857677   \n",
       "4      -15.944781 -7.783895  -6.171251 -8.116997  ...  24.049959 -0.592115   \n",
       "...           ...       ...        ...       ...  ...        ...       ...   \n",
       "222562  -8.875187  4.948562  -9.260919 -9.089705  ...  20.170313 -0.140875   \n",
       "222563 -11.418259  0.153906  -5.349937 -5.087845  ...  17.778130 -1.399726   \n",
       "222564  -4.385376 -0.669128  -8.530610 -3.202958  ...   8.665022 -3.316796   \n",
       "222565  -5.255298 -2.211435  -1.485693 -6.607338  ...  11.285470 -1.765559   \n",
       "222566  -3.849877 -6.976120  -5.518673 -2.596099  ...  20.123451  3.767841   \n",
       "\n",
       "            1272      1273       1274      1275       1276       1277  \\\n",
       "0       1.724075  0.143535  -6.999560 -6.251357   8.360884  -1.662625   \n",
       "1      -4.604083  0.339199  -6.082336 -3.915988   7.511534  -2.378523   \n",
       "2       0.301227 -2.721340  -1.693633 -4.528199   5.910798  -2.073927   \n",
       "3       0.444023  1.980751  -1.351836 -4.664156   1.289754  -2.213044   \n",
       "4      -8.274217 -0.269268  -7.028537 -4.726937  13.501459 -11.718015   \n",
       "...          ...       ...        ...       ...        ...        ...   \n",
       "222562 -7.601892  0.804636 -11.607852 -6.285739   4.216749   2.142383   \n",
       "222563 -7.715403 -1.014039  -9.040051 -3.262766   2.823239   2.903638   \n",
       "222564 -5.142276  6.789438  -5.080449 -4.224988   7.700522  -4.602151   \n",
       "222565 -4.504529 -3.887650  -9.018026 -5.810025   3.122884   3.802729   \n",
       "222566 -0.461290 -3.011745  -8.954665 -0.319207   9.908740  -3.602155   \n",
       "\n",
       "             1278       1279  \n",
       "0       -5.621017   1.682485  \n",
       "1       -3.667611   4.634388  \n",
       "2       -7.305595   0.270684  \n",
       "3        2.253615   3.059324  \n",
       "4        0.038843   2.551557  \n",
       "...           ...        ...  \n",
       "222562 -14.011300  10.606584  \n",
       "222563  -3.791561   3.065740  \n",
       "222564  -2.171469   3.767569  \n",
       "222565  10.711333  -4.930251  \n",
       "222566  -9.027922  -1.461685  \n",
       "\n",
       "[222567 rows x 1280 columns]"
      ]
     },
     "execution_count": 20,
     "metadata": {},
     "output_type": "execute_result"
    }
   ],
   "source": [
    "pd.DataFrame(X_train)"
   ]
  },
  {
   "cell_type": "markdown",
   "id": "8ffd0ece-36f1-4962-9547-c302b5bb6aa1",
   "metadata": {},
   "source": [
    "### 4.2 2-8 functions"
   ]
  },
  {
   "cell_type": "code",
   "execution_count": 10,
   "id": "75bb9b74-0de0-427d-8cfa-fd8dd2b972ea",
   "metadata": {},
   "outputs": [],
   "source": [
    "#gather >2 data\n",
    "train_s2=train.copy()\n",
    "test_s2=test.copy()\n",
    "\n",
    "train_s2=train_s2[train_s2.functionCounts>=2]\n",
    "test_s2=test_s2[test_s2.functionCounts>=2]\n",
    "\n",
    "train_s2.reset_index(drop=True, inplace=True)\n",
    "test_s2.reset_index(drop=True, inplace=True)\n",
    "\n",
    "#define X,Y\n",
    "X_train = np.array(train_s2.iloc[:,np.r_[3:1283]])\n",
    "Y_train = np.array(train_s2.functionCounts.astype('int')-2).flatten()\n",
    "\n",
    "X_test = np.array(test_s2.iloc[:,np.r_[3:1283]])\n",
    "Y_test = np.array(test_s2.functionCounts.astype('int')-2).flatten()"
   ]
  },
  {
   "cell_type": "code",
   "execution_count": 11,
   "id": "4a53913e-0311-4ace-9e89-bbd6e54afbc8",
   "metadata": {},
   "outputs": [
    {
     "name": "stdout",
     "output_type": "stream",
     "text": [
      " baslineName \t\t accuracy \t precision-macro \t recall-macro \t f1-macro\n",
      "         knn  \t\t0.833333  \t0.678550 \t\t0.623593 \t0.646456\n",
      "          lr  \t\t0.761905  \t0.707956 \t\t0.637942 \t0.521033\n",
      "          xg  \t\t0.849206  \t0.854167 \t\t0.630704 \t0.623925\n",
      "          dt  \t\t0.702381  \t0.479052 \t\t0.482337 \t0.479975\n",
      "          rf  \t\t0.853175  \t0.864239 \t\t0.546546 \t0.594133\n",
      "        gbdt  \t\t0.853175  \t0.856578 \t\t0.573413 \t0.602268\n"
     ]
    }
   ],
   "source": [
    "funclib.run_baseline(X_train, Y_train, X_test, Y_test, type='multi')"
   ]
  },
  {
   "cell_type": "code",
   "execution_count": 12,
   "id": "c511a781-e6ad-4c0c-877d-376dd823ad52",
   "metadata": {},
   "outputs": [
    {
     "data": {
      "text/plain": [
       "['/home/shizhenkun/codebase/DMLF/model/multi_many.model']"
      ]
     },
     "execution_count": 12,
     "metadata": {},
     "output_type": "execute_result"
    }
   ],
   "source": [
    "groundtruth, predict, predictprob, model = funclib.xgmain(X_train, Y_train, X_test, Y_test, type='multi')\n",
    "joblib.dump(model, cfg.MODELDIR+'/multi_many.model')"
   ]
  },
  {
   "cell_type": "markdown",
   "id": "c954c640-0582-4f06-8dc0-ddb145e9d5c5",
   "metadata": {},
   "source": [
    "## 5. Integration"
   ]
  },
  {
   "cell_type": "markdown",
   "id": "c6c77518-8e16-4577-9703-62408d90bec6",
   "metadata": {},
   "source": [
    "### 5.1 sequence aligment"
   ]
  },
  {
   "cell_type": "code",
   "execution_count": 8,
   "id": "eb75db2e-c859-4476-ac69-121ef7820113",
   "metadata": {
    "collapsed": true,
    "jupyter": {
     "outputs_hidden": true
    },
    "tags": []
   },
   "outputs": [
    {
     "name": "stdout",
     "output_type": "stream",
     "text": [
      "Write finished\n",
      "Write finished\n",
      "diamond makedb --in /tmp/train.fasta -d /tmp/train.dmnd\n"
     ]
    },
    {
     "name": "stderr",
     "output_type": "stream",
     "text": [
      "diamond v2.0.8.146 (C) Max Planck Society for the Advancement of Science\n",
      "Documentation, support and updates available at http://www.diamondsearch.org\n",
      "\n",
      "#CPU threads: 80\n",
      "Scoring parameters: (Matrix=BLOSUM62 Lambda=0.267 K=0.041 Penalties=11/1)\n",
      "Database input file: /tmp/train.fasta\n",
      "Opening the database file...  [0.004s]\n",
      "Loading sequences...  [0.472s]\n",
      "Masking sequences...  [0.174s]\n",
      "Writing sequences...  [0.097s]\n",
      "Hashing sequences...  [0.027s]\n",
      "Loading sequences...  [0s]\n",
      "Writing trailer...  [0.001s]\n",
      "Closing the input file...  [0.002s]\n",
      "Closing the database file...  [0.024s]\n",
      "Database hash = d455115f7ab276d8f0c450236f13a30a\n",
      "Processed 222567 sequences, 93551643 letters.\n",
      "Total time = 0.806s\n"
     ]
    },
    {
     "name": "stdout",
     "output_type": "stream",
     "text": [
      "diamond blastp -d /tmp/train.dmnd  -q  /tmp/test.fasta -o /tmp/test_fasta_results.tsv -b5 -c1 -k 1 --quiet\n"
     ]
    }
   ],
   "source": [
    "res_data=funclib.getblast(train,test)\n",
    "res_data = res_data[['id', 'sseqid']].merge(train, left_on='sseqid',right_on='id', how='left')[['id_x','sseqid','functionCounts']]\n",
    "res_data =res_data.rename(columns={'id_x':'id','sseqid':'id_ref', 'functionCounts':'functionCounts_pred'})\n",
    "res_data = res_data.merge(test, on='id', how='left')[['id','functionCounts_pred','functionCounts']]"
   ]
  },
  {
   "cell_type": "code",
   "execution_count": 14,
   "id": "a19f1701-eef5-4d70-bedf-0d71c8999fdb",
   "metadata": {},
   "outputs": [
    {
     "data": {
      "text/html": [
       "<div>\n",
       "<style scoped>\n",
       "    .dataframe tbody tr th:only-of-type {\n",
       "        vertical-align: middle;\n",
       "    }\n",
       "\n",
       "    .dataframe tbody tr th {\n",
       "        vertical-align: top;\n",
       "    }\n",
       "\n",
       "    .dataframe thead th {\n",
       "        text-align: right;\n",
       "    }\n",
       "</style>\n",
       "<table border=\"1\" class=\"dataframe\">\n",
       "  <thead>\n",
       "    <tr style=\"text-align: right;\">\n",
       "      <th></th>\n",
       "      <th>id</th>\n",
       "      <th>functionCounts_pred</th>\n",
       "      <th>functionCounts</th>\n",
       "    </tr>\n",
       "  </thead>\n",
       "  <tbody>\n",
       "    <tr>\n",
       "      <th>0</th>\n",
       "      <td>Q5RF96</td>\n",
       "      <td>1</td>\n",
       "      <td>1</td>\n",
       "    </tr>\n",
       "    <tr>\n",
       "      <th>1</th>\n",
       "      <td>P9WIA9</td>\n",
       "      <td>1</td>\n",
       "      <td>1</td>\n",
       "    </tr>\n",
       "    <tr>\n",
       "      <th>2</th>\n",
       "      <td>H2E7Q7</td>\n",
       "      <td>1</td>\n",
       "      <td>1</td>\n",
       "    </tr>\n",
       "    <tr>\n",
       "      <th>3</th>\n",
       "      <td>E2JFG2</td>\n",
       "      <td>1</td>\n",
       "      <td>1</td>\n",
       "    </tr>\n",
       "    <tr>\n",
       "      <th>4</th>\n",
       "      <td>H2E7Q8</td>\n",
       "      <td>1</td>\n",
       "      <td>1</td>\n",
       "    </tr>\n",
       "    <tr>\n",
       "      <th>...</th>\n",
       "      <td>...</td>\n",
       "      <td>...</td>\n",
       "      <td>...</td>\n",
       "    </tr>\n",
       "    <tr>\n",
       "      <th>2756</th>\n",
       "      <td>Q753P9</td>\n",
       "      <td>1</td>\n",
       "      <td>2</td>\n",
       "    </tr>\n",
       "    <tr>\n",
       "      <th>2757</th>\n",
       "      <td>A0A068BGA5</td>\n",
       "      <td>2</td>\n",
       "      <td>1</td>\n",
       "    </tr>\n",
       "    <tr>\n",
       "      <th>2758</th>\n",
       "      <td>A0A2R6Q324</td>\n",
       "      <td>2</td>\n",
       "      <td>1</td>\n",
       "    </tr>\n",
       "    <tr>\n",
       "      <th>2759</th>\n",
       "      <td>Q6NRV0</td>\n",
       "      <td>1</td>\n",
       "      <td>1</td>\n",
       "    </tr>\n",
       "    <tr>\n",
       "      <th>2760</th>\n",
       "      <td>C5DLH0</td>\n",
       "      <td>1</td>\n",
       "      <td>1</td>\n",
       "    </tr>\n",
       "  </tbody>\n",
       "</table>\n",
       "<p>2761 rows × 3 columns</p>\n",
       "</div>"
      ],
      "text/plain": [
       "              id  functionCounts_pred  functionCounts\n",
       "0         Q5RF96                    1               1\n",
       "1         P9WIA9                    1               1\n",
       "2         H2E7Q7                    1               1\n",
       "3         E2JFG2                    1               1\n",
       "4         H2E7Q8                    1               1\n",
       "...          ...                  ...             ...\n",
       "2756      Q753P9                    1               2\n",
       "2757  A0A068BGA5                    2               1\n",
       "2758  A0A2R6Q324                    2               1\n",
       "2759      Q6NRV0                    1               1\n",
       "2760      C5DLH0                    1               1\n",
       "\n",
       "[2761 rows x 3 columns]"
      ]
     },
     "execution_count": 14,
     "metadata": {},
     "output_type": "execute_result"
    }
   ],
   "source": [
    "res_data"
   ]
  },
  {
   "cell_type": "code",
   "execution_count": 21,
   "id": "22f04c5e-d31e-4f26-9dc0-f63c819ba0a2",
   "metadata": {},
   "outputs": [],
   "source": [
    "aa=test.iloc[:,np.r_[0,2]].merge(res_data.iloc[:,np.r_[0,1]], on='id', how='left').fillna(0)"
   ]
  },
  {
   "cell_type": "code",
   "execution_count": 15,
   "id": "e3ac5013-e261-43bf-bdca-57301b5ff199",
   "metadata": {},
   "outputs": [
    {
     "name": "stdout",
     "output_type": "stream",
     "text": [
      "        ours  \t\t0.905469  \t0.582284 \t\t0.553278 \t0.560797\n"
     ]
    }
   ],
   "source": [
    "eva.caculateMetrix(groundtruth=res_data.functionCounts, predict=res_data.functionCounts_pred, baselineName='diamond', type='multi')"
   ]
  },
  {
   "cell_type": "code",
   "execution_count": 23,
   "id": "a8151a56-8b3f-4e7a-842c-f2246b401858",
   "metadata": {},
   "outputs": [
    {
     "name": "stdout",
     "output_type": "stream",
     "text": [
      "     diamond  \t\t0.756659  \t0.509499 \t\t0.585681 \t0.477800\n"
     ]
    }
   ],
   "source": [
    "eva.caculateMetrix(groundtruth=aa.functionCounts, predict=aa.functionCounts_pred, baselineName='diamond', type='multi')"
   ]
  },
  {
   "cell_type": "markdown",
   "id": "a98e139a-abe5-4ed4-9209-1e3066864006",
   "metadata": {},
   "source": [
    "### 5.2 Xgboost"
   ]
  },
  {
   "cell_type": "code",
   "execution_count": 9,
   "id": "29f2b2bc-11e8-4800-8ddd-d8410a1c5e9f",
   "metadata": {},
   "outputs": [],
   "source": [
    "X_test = np.array(test.iloc[:,3:])\n",
    "Y_test = np.array(test.functionCounts.astype('int')).flatten()\n",
    "\n",
    "model_s = joblib.load(cfg.MODELDIR+'/single_multi.model')\n",
    "model_m = joblib.load(cfg.MODELDIR+'/multi_many.model')"
   ]
  },
  {
   "cell_type": "code",
   "execution_count": 10,
   "id": "d41a84e0-8641-4c3e-96c1-7785ca2ac723",
   "metadata": {},
   "outputs": [],
   "source": [
    "pred_s=model_s.predict(X_test)\n",
    "pred_m=model_m.predict(X_test)"
   ]
  },
  {
   "cell_type": "markdown",
   "id": "c56327c5-8862-43a0-840b-90f41c352cef",
   "metadata": {},
   "source": [
    "### 5.3 Results integration"
   ]
  },
  {
   "cell_type": "code",
   "execution_count": 11,
   "id": "0ebc5ca0-7064-44e4-8760-4ef22102a2d5",
   "metadata": {},
   "outputs": [],
   "source": [
    "pred_final = test.iloc[:,np.r_[0,2]]\n",
    "pred_final = pred_final.merge(res_data, on='id', how='left')\n",
    "pred_final['pred_s']=1-pred_s\n",
    "pred_final['pred_m']=pred_m+2\n",
    "pred_final = pred_final.iloc[:,np.r_[0,1,2,4,5]]\n",
    "\n",
    "colnames=[  'id', 'functionCounts_groundtruth', 'functionCounts_blast', 'functionCounts_s', 'functionCounts_m' ]\n",
    "pred_final.columns = colnames\n",
    "\n",
    "def choose_functioncounts(blast, s,m):\n",
    "    if str(blast)!='nan':\n",
    "        return blast\n",
    "    if s ==1:\n",
    "        return 1\n",
    "    return m\n",
    "\n",
    "pred_final['functionCounts_dmlf'] = pred_final.apply(lambda x:choose_functioncounts(x.functionCounts_blast, x.functionCounts_s, x.functionCounts_m), axis=1)\n",
    "pred_final=pred_final.iloc[:,np.r_[0,1,5]]"
   ]
  },
  {
   "cell_type": "code",
   "execution_count": 81,
   "id": "fa9447c0-0b29-4c51-bcc5-833eab6d77f1",
   "metadata": {},
   "outputs": [
    {
     "name": "stdout",
     "output_type": "stream",
     "text": [
      "1\t2942/3052\n",
      "2\t48/183\n",
      "3\t31/53\n",
      "4\t2/6\n",
      "5\t0/2\n",
      "6\t5/7\n",
      "7\t1/1\n",
      "8\t0/0\n"
     ]
    }
   ],
   "source": [
    "for i in range(1,9):\n",
    "    right= len(pred_final[(pred_final.functionCounts_groundtruth==pred_final.functionCounts_dmlf) & (pred_final.functionCounts_groundtruth==i)])\n",
    "    total= len(pred_final[(pred_final.functionCounts_groundtruth==i)])\n",
    "    print(str(i)+'\\t'+str(right)+'/'+str(total))"
   ]
  },
  {
   "cell_type": "code",
   "execution_count": 12,
   "id": "0e88d9a8-a830-4e16-90bd-f3121ff6afbd",
   "metadata": {},
   "outputs": [
    {
     "data": {
      "text/html": [
       "<div>\n",
       "<style scoped>\n",
       "    .dataframe tbody tr th:only-of-type {\n",
       "        vertical-align: middle;\n",
       "    }\n",
       "\n",
       "    .dataframe tbody tr th {\n",
       "        vertical-align: top;\n",
       "    }\n",
       "\n",
       "    .dataframe thead th {\n",
       "        text-align: right;\n",
       "    }\n",
       "</style>\n",
       "<table border=\"1\" class=\"dataframe\">\n",
       "  <thead>\n",
       "    <tr style=\"text-align: right;\">\n",
       "      <th></th>\n",
       "      <th>id</th>\n",
       "      <th>functionCounts_groundtruth</th>\n",
       "      <th>functionCounts_dmlf</th>\n",
       "    </tr>\n",
       "  </thead>\n",
       "  <tbody>\n",
       "    <tr>\n",
       "      <th>0</th>\n",
       "      <td>Q5RF96</td>\n",
       "      <td>1</td>\n",
       "      <td>1.0</td>\n",
       "    </tr>\n",
       "    <tr>\n",
       "      <th>1</th>\n",
       "      <td>P9WIA9</td>\n",
       "      <td>1</td>\n",
       "      <td>1.0</td>\n",
       "    </tr>\n",
       "    <tr>\n",
       "      <th>2</th>\n",
       "      <td>H2E7Q7</td>\n",
       "      <td>1</td>\n",
       "      <td>1.0</td>\n",
       "    </tr>\n",
       "    <tr>\n",
       "      <th>3</th>\n",
       "      <td>A0A0D4BSN8</td>\n",
       "      <td>1</td>\n",
       "      <td>1.0</td>\n",
       "    </tr>\n",
       "    <tr>\n",
       "      <th>4</th>\n",
       "      <td>E2JFG2</td>\n",
       "      <td>1</td>\n",
       "      <td>1.0</td>\n",
       "    </tr>\n",
       "    <tr>\n",
       "      <th>...</th>\n",
       "      <td>...</td>\n",
       "      <td>...</td>\n",
       "      <td>...</td>\n",
       "    </tr>\n",
       "    <tr>\n",
       "      <th>3299</th>\n",
       "      <td>A0A2R6Q324</td>\n",
       "      <td>1</td>\n",
       "      <td>2.0</td>\n",
       "    </tr>\n",
       "    <tr>\n",
       "      <th>3300</th>\n",
       "      <td>Q6VE93</td>\n",
       "      <td>1</td>\n",
       "      <td>1.0</td>\n",
       "    </tr>\n",
       "    <tr>\n",
       "      <th>3301</th>\n",
       "      <td>A0A509AKI1</td>\n",
       "      <td>1</td>\n",
       "      <td>1.0</td>\n",
       "    </tr>\n",
       "    <tr>\n",
       "      <th>3302</th>\n",
       "      <td>Q6NRV0</td>\n",
       "      <td>1</td>\n",
       "      <td>1.0</td>\n",
       "    </tr>\n",
       "    <tr>\n",
       "      <th>3303</th>\n",
       "      <td>C5DLH0</td>\n",
       "      <td>1</td>\n",
       "      <td>1.0</td>\n",
       "    </tr>\n",
       "  </tbody>\n",
       "</table>\n",
       "<p>3304 rows × 3 columns</p>\n",
       "</div>"
      ],
      "text/plain": [
       "              id  functionCounts_groundtruth  functionCounts_dmlf\n",
       "0         Q5RF96                           1                  1.0\n",
       "1         P9WIA9                           1                  1.0\n",
       "2         H2E7Q7                           1                  1.0\n",
       "3     A0A0D4BSN8                           1                  1.0\n",
       "4         E2JFG2                           1                  1.0\n",
       "...          ...                         ...                  ...\n",
       "3299  A0A2R6Q324                           1                  2.0\n",
       "3300      Q6VE93                           1                  1.0\n",
       "3301  A0A509AKI1                           1                  1.0\n",
       "3302      Q6NRV0                           1                  1.0\n",
       "3303      C5DLH0                           1                  1.0\n",
       "\n",
       "[3304 rows x 3 columns]"
      ]
     },
     "execution_count": 12,
     "metadata": {},
     "output_type": "execute_result"
    }
   ],
   "source": [
    "pred_final"
   ]
  },
  {
   "cell_type": "code",
   "execution_count": 13,
   "id": "d72d91cf-1c78-4755-9e5d-03cef07aac08",
   "metadata": {},
   "outputs": [
    {
     "name": "stdout",
     "output_type": "stream",
     "text": [
      "        ours  \t\t0.917070  \t0.583702 \t\t0.552035 \t0.560549\n"
     ]
    }
   ],
   "source": [
    "eva.caculateMetrix(groundtruth=pred_final.functionCounts_groundtruth, predict=pred_final.functionCounts_dmlf, baselineName='ours', type='multi')"
   ]
  },
  {
   "cell_type": "code",
   "execution_count": null,
   "id": "959ec9f3-6fe3-47c5-844c-3f6f63c61dbb",
   "metadata": {},
   "outputs": [],
   "source": []
  },
  {
   "cell_type": "code",
   "execution_count": null,
   "id": "74a88f6c-e466-4aa1-ba10-2d6f32af6f8d",
   "metadata": {},
   "outputs": [],
   "source": []
  },
  {
   "cell_type": "code",
   "execution_count": 61,
   "id": "add6c8d4-b360-4cf3-a716-2dba149711a2",
   "metadata": {},
   "outputs": [],
   "source": []
  }
 ],
 "metadata": {
  "kernelspec": {
   "display_name": "py38",
   "language": "python",
   "name": "py38"
  },
  "language_info": {
   "codemirror_mode": {
    "name": "ipython",
    "version": 3
   },
   "file_extension": ".py",
   "mimetype": "text/x-python",
   "name": "python",
   "nbconvert_exporter": "python",
   "pygments_lexer": "ipython3",
   "version": "3.7.10"
  },
  "toc-autonumbering": false,
  "widgets": {
   "application/vnd.jupyter.widget-state+json": {
    "state": {},
    "version_major": 2,
    "version_minor": 0
   }
  }
 },
 "nbformat": 4,
 "nbformat_minor": 5
}
