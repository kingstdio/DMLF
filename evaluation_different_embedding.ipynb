{
 "cells": [
  {
   "cell_type": "markdown",
   "metadata": {},
   "source": [
    "## Evaluation different embedding methods\n",
    "### 1. Import packages"
   ]
  },
  {
   "cell_type": "code",
   "execution_count": 7,
   "metadata": {},
   "outputs": [],
   "source": [
    "import pandas as pd\n",
    "import numpy as np\n",
    "import config as cfg\n",
    "import benchmark_common as bcommon\n",
    "import benchmark_train as btrain\n",
    "from sklearn.model_selection import train_test_split\n",
    "import tools.funclib as funclib"
   ]
  },
  {
   "cell_type": "markdown",
   "metadata": {},
   "source": [
    "### 2. Loading data"
   ]
  },
  {
   "cell_type": "code",
   "execution_count": 8,
   "metadata": {},
   "outputs": [
    {
     "name": "stdout",
     "output_type": "stream",
     "text": [
      "step 1 loading task data\n"
     ]
    }
   ],
   "source": [
    "print('step 1 loading task data')\n",
    "data_task1_train = pd.read_feather(cfg.FILE_TASK1_TRAIN)\n",
    "data_task1_test_2020 = pd.read_feather(cfg.FILE_TASK1_TEST_2020)\n",
    "data_task1_test_2022 = pd.read_feather(cfg.FILE_TASK1_TEST_2022)"
   ]
  },
  {
   "cell_type": "code",
   "execution_count": 9,
   "metadata": {},
   "outputs": [
    {
     "name": "stdout",
     "output_type": "stream",
     "text": [
      "step 2: Loading features, embdding method=esm32\n",
      "step 3: train isEnzyme model\n",
      "knn \t\t0.922546 \t0.936865 \t\t0.911117 \t0.893765 \t0.914808 \t tp: 2953 fp: 199 fn: 351 tn: 3598\n",
      "knn \t\t0.917656 \t0.938159 \t\t0.900502 \t0.887498 \t0.912125 \t tp: 4536 fp: 299 fn: 575 tn: 5204\n"
     ]
    }
   ],
   "source": [
    "embd_method = 'esm32'\n",
    "print(f'step 2: Loading features, embdding method={embd_method}')\n",
    "feature_df = bcommon.load_data_embedding(embedding_type=embd_method)\n",
    "\n",
    "print('step 3: train isEnzyme model')\n",
    "task1_train_X, task1_train_Y = btrain.get_train_X_Y(traindata=data_task1_train, feature_bankfile=feature_df, task=1)\n",
    "task1_test_X_2020, task1_test_Y_2020 = btrain.get_train_X_Y(traindata=data_task1_test_2020, feature_bankfile=feature_df, task=1)\n",
    "task1_test_X_2022, task1_test_Y_2022 = btrain.get_train_X_Y(traindata=data_task1_test_2022, feature_bankfile=feature_df, task=1)\n",
    "\n",
    "t1_x_train, t1_x_vali, t1_y_train, t1_y_vali = train_test_split(task1_train_X,np.array(task1_train_Y).ravel(),test_size=cfg.VALIDATION_RATE,random_state=1)\n",
    "# t1_eval_set = [(t1_x_train, t1_y_train), (t1_x_vali, t1_y_vali), (task1_test_X_2020, task1_test_Y_2020)]\n",
    "\n",
    "# methods=['knn','lr', 'xg', 'dt', 'rf', 'gbdt']\n",
    "# # methods=['xg', 'dt', 'rf', 'gbdt']\n",
    "# for method in methods:\n",
    "#     funclib.evaluate_2(baslineName=method, X_train_std=t1_x_train, Y_train=t1_y_train, X_test_std=task1_test_X, Y_test=task1_test_Y, type='binary')\n",
    "\n",
    "funclib.evaluate_2(baslineName='knn', X_train_std=t1_x_train, Y_train=t1_y_train, X_test_std=task1_test_X_2020, Y_test=task1_test_Y_2020, type='binary')\n",
    "funclib.evaluate_2(baslineName='knn', X_train_std=t1_x_train, Y_train=t1_y_train, X_test_std=task1_test_X_2022, Y_test=task1_test_Y_2022, type='binary')"
   ]
  },
  {
   "cell_type": "markdown",
   "metadata": {},
   "source": [
    "### 3. Evaluation"
   ]
  },
  {
   "cell_type": "code",
   "execution_count": 3,
   "metadata": {},
   "outputs": [
    {
     "name": "stdout",
     "output_type": "stream",
     "text": [
      "step 2: Loading features, embdding method=unirep\n",
      "step 3: train isEnzyme model\n",
      "knn \t\t0.882325 \t0.889943 \t\t0.875662 \t0.862258 \t0.875882 \t tp: 4407 fp: 545 fn: 704 tn: 4958\n",
      "lr \t\t0.869324 \t0.899914 \t\t0.845418 \t0.819800 \t0.857991 \t tp: 4190 fp: 466 fn: 921 tn: 5037\n",
      "xg \t\t0.866403 \t0.914664 \t\t0.831521 \t0.796909 \t0.851736 \t tp: 4073 fp: 380 fn: 1038 tn: 5123\n",
      "dt \t\t0.819013 \t0.849781 \t\t0.795837 \t0.758169 \t0.801365 \t tp: 3875 fp: 685 fn: 1236 tn: 4818\n",
      "rf \t\t0.887319 \t0.933747 \t\t0.852975 \t0.824496 \t0.875727 \t tp: 4214 fp: 299 fn: 897 tn: 5204\n",
      "gbdt \t\t0.857076 \t0.911778 \t\t0.818880 \t0.778517 \t0.839894 \t tp: 3979 fp: 385 fn: 1132 tn: 5118\n",
      "step 2: Loading features, embdding method=esm0\n",
      "step 3: train isEnzyme model\n",
      "knn \t\t0.812983 \t0.797148 \t\t0.828539 \t0.820387 \t0.808601 \t tp: 4193 fp: 1067 fn: 918 tn: 4436\n",
      "lr \t\t0.760693 \t0.751320 \t\t0.769413 \t0.751908 \t0.751614 \t tp: 3843 fp: 1272 fn: 1268 tn: 4231\n",
      "xg \t\t0.819861 \t0.827565 \t\t0.813296 \t0.790648 \t0.808685 \t tp: 4041 fp: 842 fn: 1070 tn: 4661\n",
      "dt \t\t0.748634 \t0.752324 \t\t0.745540 \t0.712581 \t0.731913 \t tp: 3642 fp: 1199 fn: 1469 tn: 4304\n",
      "rf \t\t0.840682 \t0.868534 \t\t0.819049 \t0.788495 \t0.826582 \t tp: 4030 fp: 610 fn: 1081 tn: 4893\n",
      "gbdt \t\t0.823347 \t0.826737 \t\t0.820381 \t0.801017 \t0.813674 \t tp: 4094 fp: 858 fn: 1017 tn: 4645\n",
      "step 2: Loading features, embdding method=esm33\n",
      "step 3: train isEnzyme model\n",
      "knn \t\t0.917939 \t0.937474 \t\t0.901526 \t0.888867 \t0.912524 \t tp: 4543 fp: 303 fn: 568 tn: 5200\n",
      "lr \t\t0.904372 \t0.929710 \t\t0.883721 \t0.866954 \t0.897236 \t tp: 4431 fp: 335 fn: 680 tn: 5168\n",
      "xg \t\t0.876767 \t0.914180 \t\t0.848248 \t0.821170 \t0.865182 \t tp: 4197 fp: 394 fn: 914 tn: 5109\n",
      "dt \t\t0.810910 \t0.839309 \t\t0.789404 \t0.751125 \t0.792772 \t tp: 3839 fp: 735 fn: 1272 tn: 4768\n",
      "rf \t\t0.904372 \t0.963139 \t\t0.862403 \t0.833301 \t0.893528 \t tp: 4259 fp: 163 fn: 852 tn: 5340\n",
      "gbdt \t\t0.869700 \t0.913671 \t\t0.837263 \t0.805518 \t0.856192 \t tp: 4117 fp: 389 fn: 994 tn: 5114\n",
      "step 2: Loading features, embdding method=one-hot\n",
      "step 3: train isEnzyme model\n",
      "knn \t\t0.532787 \t0.726190 \t\t0.526464 \t0.047740 \t0.089591 \t tp: 244 fp: 92 fn: 4867 tn: 5411\n",
      "lr \t\t0.657999 \t0.635152 \t\t0.682376 \t0.680884 \t0.657224 \t tp: 3480 fp: 1999 fn: 1631 tn: 3504\n",
      "xg \t\t0.633786 \t0.660042 \t\t0.618999 \t0.493837 \t0.564969 \t tp: 2524 fp: 1300 fn: 2587 tn: 4203\n",
      "dt \t\t0.605804 \t0.602658 \t\t0.608132 \t0.532381 \t0.565344 \t tp: 2721 fp: 1794 fn: 2390 tn: 3709\n",
      "rf \t\t0.657434 \t0.688860 \t\t0.639141 \t0.526316 \t0.596717 \t tp: 2690 fp: 1215 fn: 2421 tn: 4288\n",
      "gbdt \t\t0.638496 \t0.656127 \t\t0.627487 \t0.523772 \t0.582526 \t tp: 2677 fp: 1403 fn: 2434 tn: 4100\n",
      "step 2: Loading features, embdding method=esm32\n",
      "step 3: train isEnzyme model\n",
      "knn \t\t0.917656 \t0.938159 \t\t0.900502 \t0.887498 \t0.912125 \t tp: 4536 fp: 299 fn: 575 tn: 5204\n",
      "lr \t\t0.907386 \t0.928394 \t\t0.889924 \t0.875171 \t0.900997 \t tp: 4473 fp: 345 fn: 638 tn: 5158\n",
      "xg \t\t0.878557 \t0.922788 \t\t0.845750 \t0.816083 \t0.866161 \t tp: 4171 fp: 349 fn: 940 tn: 5154\n",
      "dt \t\t0.821839 \t0.852606 \t\t0.798611 \t0.761690 \t0.804588 \t tp: 3893 fp: 673 fn: 1218 tn: 4830\n",
      "rf \t\t0.903335 \t0.964099 \t\t0.860293 \t0.830170 \t0.892136 \t tp: 4243 fp: 158 fn: 868 tn: 5345\n",
      "gbdt \t\t0.874882 \t0.915440 \t\t0.844415 \t0.815496 \t0.862583 \t tp: 4168 fp: 385 fn: 943 tn: 5118\n"
     ]
    }
   ],
   "source": [
    "EMBEDDING_METHODs = ['unirep', 'esm0', 'esm33', 'one-hot' , 'esm32']\n",
    "for embd_method in EMBEDDING_METHODs:\n",
    "    print(f'step 2: Loading features, embdding method={embd_method}')\n",
    "    feature_df = bcommon.load_data_embedding(embedding_type=embd_method)\n",
    "\n",
    "    print('step 3: train isEnzyme model')\n",
    "    task1_train_X, task1_train_Y = btrain.get_train_X_Y(traindata=data_task1_train, feature_bankfile=feature_df, task=1)\n",
    "    task1_test_X, task1_test_Y = btrain.get_train_X_Y(traindata=data_task1_test, feature_bankfile=feature_df, task=1)\n",
    "    t1_x_train, t1_x_vali, t1_y_train, t1_y_vali = train_test_split(task1_train_X,np.array(task1_train_Y).ravel(),test_size=cfg.VALIDATION_RATE,random_state=1)\n",
    "    t1_eval_set = [(t1_x_train, t1_y_train), (t1_x_vali, t1_y_vali), (task1_test_X, task1_test_Y)]\n",
    "\n",
    "    methods=['knn','lr', 'xg', 'dt', 'rf', 'gbdt']\n",
    "    # methods=['xg', 'dt', 'rf', 'gbdt']\n",
    "    for method in methods:\n",
    "        funclib.evaluate_2(baslineName=method, X_train_std=t1_x_train, Y_train=t1_y_train, X_test_std=task1_test_X, Y_test=task1_test_Y, type='binary')"
   ]
  },
  {
   "cell_type": "code",
   "execution_count": 4,
   "metadata": {},
   "outputs": [
    {
     "name": "stdout",
     "output_type": "stream",
     "text": [
      "step 2: Loading features, embdding method=unirep\n",
      "step 3: train isEnzyme model\n",
      "knn \t\t0.882325 \t0.889943 \t\t0.875662 \t0.862258 \t0.875882 \t tp: 4407 fp: 545 fn: 704 tn: 4958\n",
      "lr \t\t0.869324 \t0.899914 \t\t0.845418 \t0.819800 \t0.857991 \t tp: 4190 fp: 466 fn: 921 tn: 5037\n",
      "xg \t\t0.866403 \t0.914664 \t\t0.831521 \t0.796909 \t0.851736 \t tp: 4073 fp: 380 fn: 1038 tn: 5123\n",
      "dt \t\t0.815904 \t0.845329 \t\t0.793646 \t0.756016 \t0.798182 \t tp: 3864 fp: 707 fn: 1247 tn: 4796\n",
      "rf \t\t0.887319 \t0.933747 \t\t0.852975 \t0.824496 \t0.875727 \t tp: 4214 fp: 299 fn: 897 tn: 5204\n",
      "gbdt \t\t0.857076 \t0.911778 \t\t0.818880 \t0.778517 \t0.839894 \t tp: 3979 fp: 385 fn: 1132 tn: 5118\n",
      "step 2: Loading features, embdding method=esm0\n",
      "step 3: train isEnzyme model\n",
      "knn \t\t0.813360 \t0.797415 \t\t0.829036 \t0.820974 \t0.809023 \t tp: 4196 fp: 1066 fn: 915 tn: 4437\n",
      "lr \t\t0.760317 \t0.751027 \t\t0.768951 \t0.751321 \t0.751174 \t tp: 3840 fp: 1273 fn: 1271 tn: 4230\n",
      "xg \t\t0.821274 \t0.829034 \t\t0.814660 \t0.792213 \t0.810205 \t tp: 4049 fp: 835 fn: 1062 tn: 4668\n",
      "dt \t\t0.740531 \t0.744350 \t\t0.737351 \t0.702407 \t0.722770 \t tp: 3590 fp: 1233 fn: 1521 tn: 4270\n",
      "rf \t\t0.841342 \t0.869687 \t\t0.819368 \t0.788691 \t0.827211 \t tp: 4031 fp: 604 fn: 1080 tn: 4899\n",
      "gbdt \t\t0.820332 \t0.822984 \t\t0.818005 \t0.798670 \t0.810644 \t tp: 4082 fp: 878 fn: 1029 tn: 4625\n",
      "step 2: Loading features, embdding method=esm33\n",
      "step 3: train isEnzyme model\n",
      "knn \t\t0.813360 \t0.797415 \t\t0.829036 \t0.820974 \t0.809023 \t tp: 4196 fp: 1066 fn: 915 tn: 4437\n",
      "lr \t\t0.760317 \t0.751027 \t\t0.768951 \t0.751321 \t0.751174 \t tp: 3840 fp: 1273 fn: 1271 tn: 4230\n",
      "xg \t\t0.821274 \t0.829034 \t\t0.814660 \t0.792213 \t0.810205 \t tp: 4049 fp: 835 fn: 1062 tn: 4668\n",
      "dt \t\t0.743264 \t0.747819 \t\t0.739483 \t0.704363 \t0.725441 \t tp: 3600 fp: 1214 fn: 1511 tn: 4289\n",
      "rf \t\t0.841342 \t0.869687 \t\t0.819368 \t0.788691 \t0.827211 \t tp: 4031 fp: 604 fn: 1080 tn: 4899\n",
      "gbdt \t\t0.820332 \t0.822984 \t\t0.818005 \t0.798670 \t0.810644 \t tp: 4082 fp: 878 fn: 1029 tn: 4625\n",
      "step 2: Loading features, embdding method=one-hot\n",
      "step 3: train isEnzyme model\n",
      "knn \t\t0.532787 \t0.726190 \t\t0.526464 \t0.047740 \t0.089591 \t tp: 244 fp: 92 fn: 4867 tn: 5411\n",
      "lr \t\t0.657999 \t0.635152 \t\t0.682376 \t0.680884 \t0.657224 \t tp: 3480 fp: 1999 fn: 1631 tn: 3504\n",
      "xg \t\t0.633786 \t0.660042 \t\t0.618999 \t0.493837 \t0.564969 \t tp: 2524 fp: 1300 fn: 2587 tn: 4203\n",
      "dt \t\t0.610703 \t0.608850 \t\t0.612065 \t0.535707 \t0.569942 \t tp: 2738 fp: 1759 fn: 2373 tn: 3744\n",
      "rf \t\t0.657434 \t0.688860 \t\t0.639141 \t0.526316 \t0.596717 \t tp: 2690 fp: 1215 fn: 2421 tn: 4288\n",
      "gbdt \t\t0.638496 \t0.656127 \t\t0.627487 \t0.523772 \t0.582526 \t tp: 2677 fp: 1403 fn: 2434 tn: 4100\n",
      "step 2: Loading features, embdding method=esm32\n",
      "step 3: train isEnzyme model\n",
      "knn \t\t0.813360 \t0.797415 \t\t0.829036 \t0.820974 \t0.809023 \t tp: 4196 fp: 1066 fn: 915 tn: 4437\n",
      "lr \t\t0.760317 \t0.751027 \t\t0.768951 \t0.751321 \t0.751174 \t tp: 3840 fp: 1273 fn: 1271 tn: 4230\n",
      "xg \t\t0.821274 \t0.829034 \t\t0.814660 \t0.792213 \t0.810205 \t tp: 4049 fp: 835 fn: 1062 tn: 4668\n",
      "dt \t\t0.744300 \t0.746149 \t\t0.742733 \t0.710820 \t0.728056 \t tp: 3633 fp: 1236 fn: 1478 tn: 4267\n",
      "rf \t\t0.841342 \t0.869687 \t\t0.819368 \t0.788691 \t0.827211 \t tp: 4031 fp: 604 fn: 1080 tn: 4899\n",
      "gbdt \t\t0.820332 \t0.822984 \t\t0.818005 \t0.798670 \t0.810644 \t tp: 4082 fp: 878 fn: 1029 tn: 4625\n"
     ]
    }
   ],
   "source": [
    "EMBEDDING_METHODs = ['unirep', 'esm0', 'esm33', 'one-hot' , 'esm32']\n",
    "for embd_method in EMBEDDING_METHODs:\n",
    "    print(f'step 2: Loading features, embdding method={embd_method}')\n",
    "    feature_df = bcommon.load_data_embedding(embedding_type=embd_method)\n",
    "\n",
    "    print('step 3: train isEnzyme model')\n",
    "    task1_train_X, task1_train_Y = btrain.get_train_X_Y(traindata=data_task1_train, feature_bankfile=feature_df, task=1)\n",
    "    task1_test_X, task1_test_Y = btrain.get_train_X_Y(traindata=data_task1_test_2022, feature_bankfile=feature_df, task=1)\n",
    "    t1_x_train, t1_x_vali, t1_y_train, t1_y_vali = train_test_split(task1_train_X,np.array(task1_train_Y).ravel(),test_size=cfg.VALIDATION_RATE,random_state=1)\n",
    "    t1_eval_set = [(t1_x_train, t1_y_train), (t1_x_vali, t1_y_vali), (task1_test_X, task1_test_Y)]\n",
    "\n",
    "    methods=['knn','lr', 'xg', 'dt', 'rf', 'gbdt']\n",
    "    # methods=['xg', 'dt', 'rf', 'gbdt']\n",
    "    for method in methods:\n",
    "        funclib.evaluate_2(baslineName=method, X_train_std=t1_x_train, Y_train=t1_y_train, X_test_std=task1_test_X, Y_test=task1_test_Y, type='binary')"
   ]
  },
  {
   "cell_type": "code",
   "execution_count": null,
   "metadata": {},
   "outputs": [],
   "source": [
    "print(f'step 2: Loading features, embdding method={embd_method}')\n",
    "feature_df = bcommon.load_data_embedding(embedding_type=embd_method)\n",
    "\n",
    "print('step 3: train isEnzyme model')\n",
    "task1_train_X, task1_train_Y = btrain.get_train_X_Y(traindata=data_task1_train, feature_bankfile=feature_df, task=1)\n",
    "task1_test_X, task1_test_Y = btrain.get_train_X_Y(traindata=data_task1_test, feature_bankfile=feature_df, task=1)\n",
    "t1_x_train, t1_x_vali, t1_y_train, t1_y_vali = train_test_split(task1_train_X,np.array(task1_train_Y).ravel(),test_size=cfg.VALIDATION_RATE,random_state=1)\n",
    "t1_eval_set = [(t1_x_train, t1_y_train), (t1_x_vali, t1_y_vali), (task1_test_X, task1_test_Y)]\n",
    "\n",
    "methods=['knn','lr', 'xg', 'dt', 'rf', 'gbdt']\n",
    "# methods=['xg', 'dt', 'rf', 'gbdt']\n",
    "for method in methods:\n",
    "    funclib.evaluate_2(baslineName=method, X_train_std=t1_x_train, Y_train=t1_y_train, X_test_std=task1_test_X, Y_test=task1_test_Y, type='binary')"
   ]
  },
  {
   "cell_type": "code",
   "execution_count": null,
   "metadata": {},
   "outputs": [],
   "source": []
  },
  {
   "cell_type": "code",
   "execution_count": null,
   "metadata": {},
   "outputs": [],
   "source": []
  }
 ],
 "metadata": {
  "kernelspec": {
   "display_name": "Python 3 (ipykernel)",
   "language": "python",
   "name": "python3"
  },
  "language_info": {
   "codemirror_mode": {
    "name": "ipython",
    "version": 3
   },
   "file_extension": ".py",
   "mimetype": "text/x-python",
   "name": "python",
   "nbconvert_exporter": "python",
   "pygments_lexer": "ipython3",
   "version": "3.8.13"
  },
  "vscode": {
   "interpreter": {
    "hash": "01198cbd8e9354c2bdc2e2d750ceaa12955025c4f7059132aa2585625d50e356"
   }
  },
  "widgets": {
   "application/vnd.jupyter.widget-state+json": {
    "state": {},
    "version_major": 2,
    "version_minor": 0
   }
  }
 },
 "nbformat": 4,
 "nbformat_minor": 4
}
