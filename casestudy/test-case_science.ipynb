{
 "cells": [
  {
   "cell_type": "code",
   "execution_count": 1,
   "metadata": {},
   "outputs": [
    {
     "name": "stdout",
     "output_type": "stream",
     "text": [
      "INFO: Pandarallel will run on 52 workers.\n",
      "INFO: Pandarallel will use Memory file system to transfer data between the main process and workers.\n"
     ]
    }
   ],
   "source": [
    "import sys,os,re,joblib\n",
    "os.environ[\"TF_CPP_MIN_LOG_LEVEL\"] = \"2\"\n",
    "sys.path.append(\"../\")\n",
    "import tools.funclib as funclib\n",
    "import numpy as np\n",
    "import pandas as pd\n",
    "\n",
    "from keras.models import load_model\n",
    "from tools.Attention import Attention\n",
    "from tkinter import _flatten\n",
    "import config as cfg\n",
    "import benchmark_common as bcommon\n",
    "import tools.embedding_esm as esmebd\n",
    "\n",
    "from pandarallel import pandarallel \n",
    "pandarallel.initialize()\n",
    "\n",
    "%load_ext autoreload\n",
    "%autoreload 2"
   ]
  },
  {
   "attachments": {},
   "cell_type": "markdown",
   "metadata": {},
   "source": [
    "## 2. 读入数据"
   ]
  },
  {
   "cell_type": "code",
   "execution_count": 2,
   "metadata": {},
   "outputs": [
    {
     "data": {
      "text/html": [
       "<div>\n",
       "<style scoped>\n",
       "    .dataframe tbody tr th:only-of-type {\n",
       "        vertical-align: middle;\n",
       "    }\n",
       "\n",
       "    .dataframe tbody tr th {\n",
       "        vertical-align: top;\n",
       "    }\n",
       "\n",
       "    .dataframe thead th {\n",
       "        text-align: right;\n",
       "    }\n",
       "</style>\n",
       "<table border=\"1\" class=\"dataframe\">\n",
       "  <thead>\n",
       "    <tr style=\"text-align: right;\">\n",
       "      <th></th>\n",
       "      <th>id</th>\n",
       "      <th>ec</th>\n",
       "      <th>seq</th>\n",
       "    </tr>\n",
       "  </thead>\n",
       "  <tbody>\n",
       "    <tr>\n",
       "      <th>0</th>\n",
       "      <td>WP_063460136</td>\n",
       "      <td>5.3.1.7</td>\n",
       "      <td>MAIPPYPDFRSAAFLRQHLRATMAFYDPVATDASGGQFHFFLDDGT...</td>\n",
       "    </tr>\n",
       "    <tr>\n",
       "      <th>1</th>\n",
       "      <td>WP_063462980</td>\n",
       "      <td>4.2.1.43</td>\n",
       "      <td>VPTTFHEDGTLDLDSQKRCLDFMIDAGVDGVCILANFSEQFSLSDA...</td>\n",
       "    </tr>\n",
       "    <tr>\n",
       "      <th>2</th>\n",
       "      <td>WP_063462990</td>\n",
       "      <td>1.1.1.48</td>\n",
       "      <td>LIDCNIDMTQLFAPSSSSTDATGAPQGLAKFPSLQGRAVFVTGGGS...</td>\n",
       "    </tr>\n",
       "  </tbody>\n",
       "</table>\n",
       "</div>"
      ],
      "text/plain": [
       "             id        ec                                                seq\n",
       "0  WP_063460136   5.3.1.7  MAIPPYPDFRSAAFLRQHLRATMAFYDPVATDASGGQFHFFLDDGT...\n",
       "1  WP_063462980  4.2.1.43  VPTTFHEDGTLDLDSQKRCLDFMIDAGVDGVCILANFSEQFSLSDA...\n",
       "2  WP_063462990  1.1.1.48  LIDCNIDMTQLFAPSSSSTDATGAPQGLAKFPSLQGRAVFVTGGGS..."
      ]
     },
     "execution_count": 2,
     "metadata": {},
     "output_type": "execute_result"
    }
   ],
   "source": [
    "data_new = pd.read_csv('/home/shizhenkun/codebase/DMLF/data/case_science/new.csv', sep='\\t').rename(columns={'Entry': 'id', 'EC number':'ec', 'Sequence':'seq'})\n",
    "data_price = pd.read_csv('/home/shizhenkun/codebase/DMLF/data/case_science/price.csv', sep='\\t').rename(columns={'Entry': 'id', 'EC number':'ec', 'Sequence':'seq'})\n",
    "data_price.head(3)"
   ]
  },
  {
   "attachments": {},
   "cell_type": "markdown",
   "metadata": {},
   "source": [
    "## 3. 写入fasta"
   ]
  },
  {
   "cell_type": "code",
   "execution_count": 4,
   "metadata": {},
   "outputs": [
    {
     "name": "stdout",
     "output_type": "stream",
     "text": [
      "Write finished\n"
     ]
    }
   ],
   "source": [
    "funclib.table2fasta(table=data_price, file_out='/home/shizhenkun/codebase/DMLF/data/case_science/price.fasta')\n",
    "funclib.table2fasta(table=new, file_out='/home/shizhenkun/codebase/DMLF/data/case_science/new.fasta')"
   ]
  },
  {
   "attachments": {},
   "cell_type": "markdown",
   "metadata": {},
   "source": [
    "## 4 运行预测"
   ]
  },
  {
   "cell_type": "code",
   "execution_count": null,
   "metadata": {},
   "outputs": [],
   "source": [
    "! python production.py -i /home/shizhenkun/codebase/DMLF/data/case_science/new.fasta -o /home/shizhenkun/codebase/DMLF/results/case_science/new_res.tsv -mode r -topk 20\n",
    "! python production.py -i /home/shizhenkun/codebase/DMLF/data/case_science/price.fasta -o /home/shizhenkun/codebase/DMLF/results/case_science/price_res.tsv -mode r -topk 20\n"
   ]
  },
  {
   "attachments": {},
   "cell_type": "markdown",
   "metadata": {},
   "source": [
    "## 5. 读入预测结果"
   ]
  },
  {
   "cell_type": "code",
   "execution_count": 6,
   "metadata": {},
   "outputs": [],
   "source": [
    "new_res= pd.read_csv('/home/shizhenkun/codebase/DMLF/results/case_science/new_res.tsv', sep='\\t')\n",
    "price_res = pd.read_csv('/home/shizhenkun/codebase/DMLF/results/case_science/price_res.tsv', sep='\\t')"
   ]
  },
  {
   "attachments": {},
   "cell_type": "markdown",
   "metadata": {},
   "source": [
    "## 6. 分析结果"
   ]
  },
  {
   "cell_type": "code",
   "execution_count": 9,
   "metadata": {},
   "outputs": [],
   "source": [
    "data_new.merge( new_res, how='left', on='id').to_excel('/home/shizhenkun/codebase/DMLF/results/case_science/new_res_r.xlsx', index=None)"
   ]
  },
  {
   "cell_type": "code",
   "execution_count": 10,
   "metadata": {},
   "outputs": [],
   "source": [
    "data_price.merge(price_res, how='left' , on='id').to_excel('/home/shizhenkun/codebase/DMLF/results/case_science/price_res_r.xlsx', index=None)"
   ]
  }
 ],
 "metadata": {
  "kernelspec": {
   "display_name": "DMLF",
   "language": "python",
   "name": "python3"
  },
  "language_info": {
   "codemirror_mode": {
    "name": "ipython",
    "version": 3
   },
   "file_extension": ".py",
   "mimetype": "text/x-python",
   "name": "python",
   "nbconvert_exporter": "python",
   "pygments_lexer": "ipython3",
   "version": "3.8.15"
  },
  "orig_nbformat": 4
 },
 "nbformat": 4,
 "nbformat_minor": 2
}
