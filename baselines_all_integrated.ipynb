{
 "cells": [
  {
   "cell_type": "code",
   "execution_count": 1,
   "metadata": {},
   "outputs": [
    {
     "name": "stdout",
     "output_type": "stream",
     "text": [
      "INFO: Pandarallel will run on 52 workers.\n",
      "INFO: Pandarallel will use Memory file system to transfer data between the main process and workers.\n"
     ]
    }
   ],
   "source": [
    "'''\n",
    "Author: Zhenkun Shi\n",
    "Date: 2022-11-18 07:49:11\n",
    "LastEditors: Zhenkun Shi\n",
    "LastEditTime: 2022-11-18 09:56:36\n",
    "FilePath: /DMLF/baselines_all_integrated.ipynb\n",
    "Description: \n",
    "\n",
    "Copyright (c) 2022 by tibd, All Rights Reserved. \n",
    "'''\n",
    "import pandas as pd\n",
    "import numpy as np\n",
    "import joblib, os,time, argparse\n",
    "import benchmark_common as bcommon\n",
    "import config as cfg\n",
    "import benchmark_test as btest\n",
    "import benchmark_train as btrain\n",
    "import benchmark_evaluation as eva\n",
    "import tools.funclib as funclib\n",
    "import tools.embedding_esm as esmebd\n",
    "from tqdm import tqdm\n",
    "from pandarallel import pandarallel #  import pandaralle\n",
    "pandarallel.initialize() \n",
    "\n",
    "%load_ext autoreload\n",
    "%autoreload 2"
   ]
  },
  {
   "cell_type": "code",
   "execution_count": 2,
   "metadata": {},
   "outputs": [
    {
     "name": "stdout",
     "output_type": "stream",
     "text": [
      "step 1 loading task data\n"
     ]
    }
   ],
   "source": [
    "print('step 1 loading task data')\n",
    "\n",
    "data_task1_train = pd.read_feather(cfg.FILE_TASK1_TRAIN)\n",
    "data_task2_train = pd.read_feather(cfg.FILE_TASK2_TRAIN)\n",
    "data_task3_train = pd.read_feather(cfg.FILE_TASK3_TRAIN)\n",
    "\n",
    "\n",
    "# task1_test\n",
    "data_task1_test_2019 = pd.read_feather(cfg.FILE_TASK1_TEST_2019)\n",
    "data_task1_test_2020 = pd.read_feather(cfg.FILE_TASK1_TEST_2020)\n",
    "data_task1_test_2021 = pd.read_feather(cfg.FILE_TASK1_TEST_2021)\n",
    "data_task1_test_2022 = pd.read_feather(cfg.FILE_TASK1_TEST_2022)\n",
    "data_t1_all_set = pd.concat([data_task1_test_2019,data_task1_test_2020,data_task1_test_2021,data_task1_test_2022])\n",
    "data_t1_all_set = data_t1_all_set.drop_duplicates().reset_index(drop=True)\n",
    "\n",
    "\n",
    "# task2_test\n",
    "data_task2_test_2019 = pd.read_feather(cfg.FILE_TASK2_TEST_2019)\n",
    "data_task2_test_2020 = pd.read_feather(cfg.FILE_TASK2_TEST_2020)\n",
    "data_task2_test_2021 = pd.read_feather(cfg.FILE_TASK2_TEST_2021)\n",
    "data_task2_test_2022 = pd.read_feather(cfg.FILE_TASK2_TEST_2022)\n",
    "data_t2_all_set = pd.concat([data_task2_test_2019,data_task2_test_2020,data_task2_test_2021,data_task2_test_2022])\n",
    "data_t2_all_set = data_t2_all_set.drop_duplicates().reset_index(drop=True)\n",
    "\n",
    "\n",
    "# task3_test\n",
    "data_task3_test_2019 = pd.read_feather(cfg.FILE_TASK3_TEST_2019)\n",
    "data_task3_test_2020 = pd.read_feather(cfg.FILE_TASK3_TEST_2020)\n",
    "data_task3_test_2021 = pd.read_feather(cfg.FILE_TASK3_TEST_2021)\n",
    "data_task3_test_2022 = pd.read_feather(cfg.FILE_TASK3_TEST_2022)\n",
    "data_t3_all_set = pd.concat([data_task3_test_2019,data_task3_test_2020,data_task3_test_2021,data_task3_test_2022])\n",
    "data_t3_all_set = data_t3_all_set.drop_duplicates().reset_index(drop=True)\n",
    "\n"
   ]
  },
  {
   "cell_type": "code",
   "execution_count": 3,
   "metadata": {},
   "outputs": [
    {
     "data": {
      "text/html": [
       "<div>\n",
       "<style scoped>\n",
       "    .dataframe tbody tr th:only-of-type {\n",
       "        vertical-align: middle;\n",
       "    }\n",
       "\n",
       "    .dataframe tbody tr th {\n",
       "        vertical-align: top;\n",
       "    }\n",
       "\n",
       "    .dataframe thead th {\n",
       "        text-align: right;\n",
       "    }\n",
       "</style>\n",
       "<table border=\"1\" class=\"dataframe\">\n",
       "  <thead>\n",
       "    <tr style=\"text-align: right;\">\n",
       "      <th></th>\n",
       "      <th>id</th>\n",
       "      <th>seq</th>\n",
       "      <th>ec_number</th>\n",
       "    </tr>\n",
       "  </thead>\n",
       "  <tbody>\n",
       "    <tr>\n",
       "      <th>0</th>\n",
       "      <td>P9WG69</td>\n",
       "      <td>MTTSVIVAGARTPIGKLMGSLKDFSASELGAIAIKGALEKANVPAS...</td>\n",
       "      <td>2.3.1.9</td>\n",
       "    </tr>\n",
       "    <tr>\n",
       "      <th>1</th>\n",
       "      <td>P9WI52</td>\n",
       "      <td>MAERAPRGEVAVMVAVQSALVDRPGMLATARGLSHFGEHCIGWLIL...</td>\n",
       "      <td>3.1.3.-</td>\n",
       "    </tr>\n",
       "    <tr>\n",
       "      <th>2</th>\n",
       "      <td>P9WQ38</td>\n",
       "      <td>MRALHVPAGSATALLLPALQRVLGGSDPALVAVPTQHESLLGALRV...</td>\n",
       "      <td>6.2.1.26</td>\n",
       "    </tr>\n",
       "    <tr>\n",
       "      <th>3</th>\n",
       "      <td>P9WIA9</td>\n",
       "      <td>DAGVSWKVYRNKTLGPISSVLTYGSLVTSFKQSADPRSDLVRFGVA...</td>\n",
       "      <td>3.1.4.3</td>\n",
       "    </tr>\n",
       "    <tr>\n",
       "      <th>4</th>\n",
       "      <td>D8GR70</td>\n",
       "      <td>MASYLTLFISAVVVNNYVLTRFLGLCIFFGVSKNLNASVGMGMAVT...</td>\n",
       "      <td>7.1.1.-</td>\n",
       "    </tr>\n",
       "    <tr>\n",
       "      <th>...</th>\n",
       "      <td>...</td>\n",
       "      <td>...</td>\n",
       "      <td>...</td>\n",
       "    </tr>\n",
       "    <tr>\n",
       "      <th>5106</th>\n",
       "      <td>A2WLP4</td>\n",
       "      <td>MVSAAAGWAAPAFAVAAVVIWVVLCGELLRRRRRGAGSGKGDAAAA...</td>\n",
       "      <td>1.14.14.-</td>\n",
       "    </tr>\n",
       "    <tr>\n",
       "      <th>5107</th>\n",
       "      <td>A0A250YGJ5</td>\n",
       "      <td>MSVNYAAGLSPYADKGKCGLPEIFDPPEELERKVWELARLVRQSSN...</td>\n",
       "      <td>2.4.2.-,2.3.1.286</td>\n",
       "    </tr>\n",
       "    <tr>\n",
       "      <th>5108</th>\n",
       "      <td>A0A2K5TU92</td>\n",
       "      <td>MSVNYAAGLSPYADKGKCGLPEIFDPPEELERKVWELARLVWQSSH...</td>\n",
       "      <td>2.4.2.-,2.3.1.286</td>\n",
       "    </tr>\n",
       "    <tr>\n",
       "      <th>5109</th>\n",
       "      <td>A0A3R0A696</td>\n",
       "      <td>MKHWKKMAASLIAISTMVAVVPTTYAMESEDSQPQTTDTATVQTTK...</td>\n",
       "      <td>3.2.1.55</td>\n",
       "    </tr>\n",
       "    <tr>\n",
       "      <th>5110</th>\n",
       "      <td>P0DV26</td>\n",
       "      <td>MSIKNLYKNLNDEMGSISKRRKNNNISFNKSTFDSHAMDALNTSFE...</td>\n",
       "      <td>4.6.1.6</td>\n",
       "    </tr>\n",
       "  </tbody>\n",
       "</table>\n",
       "<p>5111 rows × 3 columns</p>\n",
       "</div>"
      ],
      "text/plain": [
       "              id                                                seq  \\\n",
       "0         P9WG69  MTTSVIVAGARTPIGKLMGSLKDFSASELGAIAIKGALEKANVPAS...   \n",
       "1         P9WI52  MAERAPRGEVAVMVAVQSALVDRPGMLATARGLSHFGEHCIGWLIL...   \n",
       "2         P9WQ38  MRALHVPAGSATALLLPALQRVLGGSDPALVAVPTQHESLLGALRV...   \n",
       "3         P9WIA9  DAGVSWKVYRNKTLGPISSVLTYGSLVTSFKQSADPRSDLVRFGVA...   \n",
       "4         D8GR70  MASYLTLFISAVVVNNYVLTRFLGLCIFFGVSKNLNASVGMGMAVT...   \n",
       "...          ...                                                ...   \n",
       "5106      A2WLP4  MVSAAAGWAAPAFAVAAVVIWVVLCGELLRRRRRGAGSGKGDAAAA...   \n",
       "5107  A0A250YGJ5  MSVNYAAGLSPYADKGKCGLPEIFDPPEELERKVWELARLVRQSSN...   \n",
       "5108  A0A2K5TU92  MSVNYAAGLSPYADKGKCGLPEIFDPPEELERKVWELARLVWQSSH...   \n",
       "5109  A0A3R0A696  MKHWKKMAASLIAISTMVAVVPTTYAMESEDSQPQTTDTATVQTTK...   \n",
       "5110      P0DV26  MSIKNLYKNLNDEMGSISKRRKNNNISFNKSTFDSHAMDALNTSFE...   \n",
       "\n",
       "              ec_number  \n",
       "0               2.3.1.9  \n",
       "1               3.1.3.-  \n",
       "2              6.2.1.26  \n",
       "3               3.1.4.3  \n",
       "4               7.1.1.-  \n",
       "...                 ...  \n",
       "5106          1.14.14.-  \n",
       "5107  2.4.2.-,2.3.1.286  \n",
       "5108  2.4.2.-,2.3.1.286  \n",
       "5109           3.2.1.55  \n",
       "5110            4.6.1.6  \n",
       "\n",
       "[5111 rows x 3 columns]"
      ]
     },
     "execution_count": 3,
     "metadata": {},
     "output_type": "execute_result"
    }
   ],
   "source": [
    "data_task3_test_2022"
   ]
  },
  {
   "cell_type": "markdown",
   "metadata": {},
   "source": [
    "## 1. DIAMOND"
   ]
  },
  {
   "cell_type": "code",
   "execution_count": 24,
   "metadata": {},
   "outputs": [
    {
     "name": "stdout",
     "output_type": "stream",
     "text": [
      "Write finished\n",
      "Write finished\n",
      "diamond makedb --in /tmp/train.fasta -d /tmp/train.dmnd --quiet\n",
      "diamond blastp -d /tmp/train.dmnd  -q  /tmp/test.fasta -o /tmp/test_fasta_results.tsv -b5 -c1 -k 1 --quiet\n",
      "task1:\n",
      "----------------\n",
      "baslineName \t\t accuracy \t precision(PPV) \t NPV \t\t recall \t f1 \t\t \t confusion Matrix\n",
      "Diamond \t\t0.687866 \t0.613793 \t\t0.776959 \t0.767977 \t0.682283 \t tp: 801 fp: 504 fn: 242 tn: 843\n",
      "\n",
      "task2:\n",
      "----------------\n",
      "Write finished\n",
      "Write finished\n",
      "diamond makedb --in /tmp/train.fasta -d /tmp/train.dmnd --quiet\n",
      "diamond blastp -d /tmp/train.dmnd  -q  /tmp/test.fasta -o /tmp/test_fasta_results.tsv -b5 -c1 -k 1 --quiet\n",
      " baslineName \t\t accuracy \t precision-macro \t recall-macro \t f1-macro\n",
      "     Diamond  \t\t0.761266  \t0.492834 \t\t0.798186 \t0.474657\n",
      "Write finished\n",
      "Write finished\n",
      "diamond makedb --in /tmp/train.fasta -d /tmp/train.dmnd --quiet\n",
      "diamond blastp -d /tmp/train.dmnd  -q  /tmp/test.fasta -o /tmp/test_fasta_results.tsv -b5 -c1 -k 1 --quiet\n",
      "\n",
      "task3:\n",
      "----------------\n",
      " baslineName \t\t accuracy \t precision-macro \t recall-macro \t f1-macro\n",
      "     Diamond  \t\t0.485139  \t0.665860 \t\t0.571319 \t0.290580\n"
     ]
    }
   ],
   "source": [
    "TESTingSET1 = data_task1_test_2019\n",
    "TESTingSET2 = data_task2_test_2019\n",
    "TESTingSET3 = data_task3_test_2019\n",
    "\n",
    "diamond_task1 = funclib.getblast(train=data_task1_train[['id','seq']], test=TESTingSET1[['id','seq']])\n",
    "\n",
    "res_task1_diamond =diamond_task1[['id','sseqid']].merge(data_task1_train[['id','isenzyme']], how='left', left_on='sseqid', right_on='id')\n",
    "res_task1_diamond = res_task1_diamond[['id_x', 'isenzyme']].rename(columns={'id_x':'id','isenzyme':'isenzyme_pred'})\n",
    "res_task1_diamond = TESTingSET1.merge(res_task1_diamond, how='left', on='id')\n",
    "res_task1_diamond['isenzyme_pred_full']=res_task1_diamond.apply(lambda x : x.isenzyme_pred if (str(x.isenzyme_pred)!='nan') else ( True if x.isenzyme==False else False)  , axis=1)\n",
    "print('task1:\\n----------------')\n",
    "print('baslineName', '\\t\\t', 'accuracy','\\t', 'precision(PPV) \\t NPV \\t\\t', 'recall','\\t', 'f1', '\\t\\t', '\\t confusion Matrix')\n",
    "eva.caculateMetrix(groundtruth=res_task1_diamond.isenzyme, predict=res_task1_diamond.isenzyme_pred_full, baselineName='Diamond', type='binary')\n",
    "\n",
    "print('\\ntask2:\\n----------------')\n",
    "\n",
    "diamond_task2 = funclib.getblast(train=data_task2_train[['id','seq']], test=TESTingSET2[['id','seq']])\n",
    "res_task2_diamond = diamond_task2[['id','sseqid']].merge(data_task2_train[['id','functionCounts']], how='left', left_on='sseqid', right_on='id')\n",
    "res_task2_diamond = res_task2_diamond[['id_x', 'functionCounts']].rename(columns={'id_x':'id','functionCounts':'functionCounts_diamond'})\n",
    "res_task2_diamond = TESTingSET2.merge( res_task2_diamond, on='id', how='left')\n",
    "res_task2_diamond = res_task2_diamond.fillna(-1)\n",
    "print('%12s'%'baslineName', '\\t\\t', 'accuracy','\\t', 'precision-macro \\t', 'recall-macro','\\t', 'f1-macro')\n",
    "eva.caculateMetrix(groundtruth=res_task2_diamond.functionCounts, predict=res_task2_diamond.functionCounts_diamond, baselineName='Diamond', type='multi')\n",
    "\n",
    "diamond_task3 = funclib.getblast(train=data_task3_train[['id','seq']], test=TESTingSET3[['id','seq']])\n",
    "res_task3_diamond = diamond_task3[['id','sseqid']].merge(data_task3_train[['id','ec_number']], how='left', left_on='sseqid', right_on='id')\n",
    "res_task3_diamond = res_task3_diamond[['id_x', 'ec_number']].rename(columns={'id_x':'id','ec_number':'ec_number_diamond'})\n",
    "res_task3_diamond = TESTingSET3.merge( res_task3_diamond, on='id', how='left')\n",
    "res_task3_diamond = res_task3_diamond.fillna('-')\n",
    "print('\\ntask3:\\n----------------')\n",
    "print('%12s'%'baslineName', '\\t\\t', 'accuracy','\\t', 'precision-macro \\t', 'recall-macro','\\t', 'f1-macro')\n",
    "eva.caculateMetrix(groundtruth=res_task3_diamond.ec_number, predict=res_task3_diamond.ec_number_diamond, baselineName='Diamond', type='multi')\n"
   ]
  },
  {
   "cell_type": "markdown",
   "metadata": {},
   "source": [
    "## 2. ECPred"
   ]
  },
  {
   "cell_type": "code",
   "execution_count": 32,
   "metadata": {},
   "outputs": [],
   "source": [
    "res_ecpred = pd.read_csv(f'{cfg.RESULTSDIR}ecpred/ecpred.txt', sep='\\t', header=0)\n",
    "res_ecpred['isemzyme_ecpred'] = ''\n",
    "with pd.option_context('mode.chained_assignment', None):\n",
    "    res_ecpred.isemzyme_ecpred[res_ecpred['EC Number']=='non Enzyme'] = False\n",
    "    res_ecpred.isemzyme_ecpred[res_ecpred['EC Number']!='non Enzyme'] = True\n",
    "    \n",
    "res_ecpred.columns = ['id','ec_ecpred', 'conf', 'isemzyme_ecpred']\n",
    "res_ecpred = res_ecpred.iloc[:,np.r_[0,1,3]]\n",
    "res_ecpred['functionCounts_ecpred'] = res_ecpred.ec_ecpred.apply(lambda x :len(str(x).split(',')))\n"
   ]
  },
  {
   "cell_type": "code",
   "execution_count": 4,
   "metadata": {},
   "outputs": [
    {
     "data": {
      "text/html": [
       "<div>\n",
       "<style scoped>\n",
       "    .dataframe tbody tr th:only-of-type {\n",
       "        vertical-align: middle;\n",
       "    }\n",
       "\n",
       "    .dataframe tbody tr th {\n",
       "        vertical-align: top;\n",
       "    }\n",
       "\n",
       "    .dataframe thead th {\n",
       "        text-align: right;\n",
       "    }\n",
       "</style>\n",
       "<table border=\"1\" class=\"dataframe\">\n",
       "  <thead>\n",
       "    <tr style=\"text-align: right;\">\n",
       "      <th></th>\n",
       "      <th>id</th>\n",
       "      <th>seq</th>\n",
       "      <th>isenzyme</th>\n",
       "    </tr>\n",
       "  </thead>\n",
       "  <tbody>\n",
       "    <tr>\n",
       "      <th>0</th>\n",
       "      <td>P0C250</td>\n",
       "      <td>MGKLTILVLVAAVLLSTQVMVQGDGDQPADRNAVRRDDNPGGTRGR...</td>\n",
       "      <td>False</td>\n",
       "    </tr>\n",
       "    <tr>\n",
       "      <th>1</th>\n",
       "      <td>B3EWG0</td>\n",
       "      <td>MVRAVVATLLVVLVVASCVSAQLNFSPGWGKRAAAGGEGTGMHPPA...</td>\n",
       "      <td>False</td>\n",
       "    </tr>\n",
       "    <tr>\n",
       "      <th>2</th>\n",
       "      <td>P0DMW3</td>\n",
       "      <td>MAPAAAPSSLAVRASSPAATPTSYGVFCKGLSRTLLAFFELAWQLR...</td>\n",
       "      <td>False</td>\n",
       "    </tr>\n",
       "    <tr>\n",
       "      <th>3</th>\n",
       "      <td>A0A023IWI6</td>\n",
       "      <td>MSDINATRLPIWGIGCDPCVGDEVTALLTRGEA</td>\n",
       "      <td>False</td>\n",
       "    </tr>\n",
       "    <tr>\n",
       "      <th>4</th>\n",
       "      <td>Q7JV70</td>\n",
       "      <td>MTQMSDEQFRIFIETIKSLGPIKEEPPSKGSFSNCTVRFSGQRDHD...</td>\n",
       "      <td>False</td>\n",
       "    </tr>\n",
       "    <tr>\n",
       "      <th>...</th>\n",
       "      <td>...</td>\n",
       "      <td>...</td>\n",
       "      <td>...</td>\n",
       "    </tr>\n",
       "    <tr>\n",
       "      <th>10724</th>\n",
       "      <td>A0A2K5TU92</td>\n",
       "      <td>MSVNYAAGLSPYADKGKCGLPEIFDPPEELERKVWELARLVWQSSH...</td>\n",
       "      <td>True</td>\n",
       "    </tr>\n",
       "    <tr>\n",
       "      <th>10725</th>\n",
       "      <td>A0A3R0A696</td>\n",
       "      <td>MKHWKKMAASLIAISTMVAVVPTTYAMESEDSQPQTTDTATVQTTK...</td>\n",
       "      <td>True</td>\n",
       "    </tr>\n",
       "    <tr>\n",
       "      <th>10726</th>\n",
       "      <td>Q5ZV91</td>\n",
       "      <td>MDEIKKDDELSQWLSTYGTITAERILGRYNISLPQDEILEAINIPS...</td>\n",
       "      <td>False</td>\n",
       "    </tr>\n",
       "    <tr>\n",
       "      <th>10727</th>\n",
       "      <td>M1H607</td>\n",
       "      <td>MDAIKKKMQAMKLEKDDAMDRADTLEQQNKEANIRAEKAEEEVHNL...</td>\n",
       "      <td>False</td>\n",
       "    </tr>\n",
       "    <tr>\n",
       "      <th>10728</th>\n",
       "      <td>P0DV26</td>\n",
       "      <td>MSIKNLYKNLNDEMGSISKRRKNNNISFNKSTFDSHAMDALNTSFE...</td>\n",
       "      <td>True</td>\n",
       "    </tr>\n",
       "  </tbody>\n",
       "</table>\n",
       "<p>10729 rows × 3 columns</p>\n",
       "</div>"
      ],
      "text/plain": [
       "               id                                                seq  isenzyme\n",
       "0          P0C250  MGKLTILVLVAAVLLSTQVMVQGDGDQPADRNAVRRDDNPGGTRGR...     False\n",
       "1          B3EWG0  MVRAVVATLLVVLVVASCVSAQLNFSPGWGKRAAAGGEGTGMHPPA...     False\n",
       "2          P0DMW3  MAPAAAPSSLAVRASSPAATPTSYGVFCKGLSRTLLAFFELAWQLR...     False\n",
       "3      A0A023IWI6                  MSDINATRLPIWGIGCDPCVGDEVTALLTRGEA     False\n",
       "4          Q7JV70  MTQMSDEQFRIFIETIKSLGPIKEEPPSKGSFSNCTVRFSGQRDHD...     False\n",
       "...           ...                                                ...       ...\n",
       "10724  A0A2K5TU92  MSVNYAAGLSPYADKGKCGLPEIFDPPEELERKVWELARLVWQSSH...      True\n",
       "10725  A0A3R0A696  MKHWKKMAASLIAISTMVAVVPTTYAMESEDSQPQTTDTATVQTTK...      True\n",
       "10726      Q5ZV91  MDEIKKDDELSQWLSTYGTITAERILGRYNISLPQDEILEAINIPS...     False\n",
       "10727      M1H607  MDAIKKKMQAMKLEKDDAMDRADTLEQQNKEANIRAEKAEEEVHNL...     False\n",
       "10728      P0DV26  MSIKNLYKNLNDEMGSISKRRKNNNISFNKSTFDSHAMDALNTSFE...      True\n",
       "\n",
       "[10729 rows x 3 columns]"
      ]
     },
     "execution_count": 4,
     "metadata": {},
     "output_type": "execute_result"
    }
   ],
   "source": [
    "data_t1_all_set"
   ]
  },
  {
   "cell_type": "code",
   "execution_count": 31,
   "metadata": {},
   "outputs": [
    {
     "name": "stdout",
     "output_type": "stream",
     "text": [
      "Write finished\n"
     ]
    }
   ],
   "source": [
    "# need_ecpred = data_t1_all_set[~data_t1_all_set.id.isin(res_ecpred.id)].reset_index(drop=True)\n",
    "# funclib.table2fasta(table=need_ecpred[['id', 'seq']], file_out=f'{cfg.RESULTSDIR}ecpred/needecpred.fasta')\n",
    "# funclib.table2fasta(table=data_t1_all_set[['id', 'seq']], file_out=f'{cfg.DATADIR}datasets/task3/test19-22-all-integrated.fasta')"
   ]
  },
  {
   "cell_type": "code",
   "execution_count": 5,
   "metadata": {},
   "outputs": [
    {
     "name": "stdout",
     "output_type": "stream",
     "text": [
      "Write finished\n"
     ]
    }
   ],
   "source": []
  },
  {
   "cell_type": "code",
   "execution_count": 6,
   "metadata": {},
   "outputs": [
    {
     "data": {
      "text/plain": [
       "'/home/shizhenkun/codebase/DMLF/data/datasets/task3/test19-22-all-integrated.fasta'"
      ]
     },
     "execution_count": 6,
     "metadata": {},
     "output_type": "execute_result"
    }
   ],
   "source": [
    "\n",
    "\n"
   ]
  },
  {
   "cell_type": "code",
   "execution_count": 38,
   "metadata": {},
   "outputs": [
    {
     "name": "stdout",
     "output_type": "stream",
     "text": [
      "task1:\n",
      "----------------\n",
      "baslineName \t accuracy \t precision(PPV) \t NPV \t\t recall \t f1 \t\t \t confusion Matrix\n",
      "ecpred \t\t0.802431 \t0.752768 \t\t0.866079 \t0.878106 \t0.810620 \t tp: 4488 fp: 1474 fn: 623 tn: 4029\n",
      "\n",
      "task2:\n",
      "----------------\n",
      " baslineName \t\t accuracy \t precision-macro \t recall-macro \t f1-macro\n",
      "      ecpred  \t\t0.907650  \t0.878964 \t\t0.221817 \t0.105732\n",
      "\n",
      "task3:\n",
      "----------------\n",
      " baslineName \t\t accuracy \t precision-macro \t recall-macro \t f1-macro\n",
      "      ecpred  \t\t0.234983  \t0.855195 \t\t0.162045 \t0.082022\n"
     ]
    }
   ],
   "source": [
    "\n",
    "TESTingSET1 = data_task1_test_2022\n",
    "TESTingSET2 = data_task2_test_2022\n",
    "TESTingSET3 = data_task3_test_2022\n",
    "\n",
    "res_task1_ecpred = TESTingSET1.merge(res_ecpred, how='left', on='id')\n",
    "res_task1_ecpred = res_task1_ecpred.drop_duplicates().reset_index(drop=True)\n",
    "res_task1_ecpred.isemzyme_ecpred = res_task1_ecpred.apply(lambda x: x.isemzyme_ecpred if str(x.isemzyme_ecpred)!='nan'  else (True if x.isenzyme == False else False), axis=1)\n",
    "res_task1_ecpred.isemzyme_ecpred = res_task1_ecpred.apply(lambda x: x.isemzyme_ecpred if x.ec_ecpred!='no Prediction' else (True if x.isenzyme == False else False), axis=1)\n",
    "print('task1:\\n----------------')\n",
    "print('baslineName', '\\t', 'accuracy','\\t', 'precision(PPV) \\t NPV \\t\\t', 'recall','\\t', 'f1', '\\t\\t', '\\t confusion Matrix')\n",
    "eva.caculateMetrix(groundtruth=res_task1_ecpred.isenzyme, predict=res_task1_ecpred.isemzyme_ecpred, baselineName='ecpred', type='binary')\n",
    "\n",
    "print('\\ntask2:\\n----------------')\n",
    "res_task2_ecpred = TESTingSET2.merge(res_ecpred, on='id', how='left')\n",
    "res_task2_ecpred = res_task2_ecpred.drop_duplicates().reset_index(drop=True)\n",
    "res_task2_ecpred = res_task2_ecpred.fillna(-1)\n",
    "print('%12s'%'baslineName', '\\t\\t', 'accuracy','\\t', 'precision-macro \\t', 'recall-macro','\\t', 'f1-macro')\n",
    "eva.caculateMetrix(groundtruth=res_task2_ecpred.functionCounts, predict=res_task2_ecpred.functionCounts_ecpred, baselineName='ecpred', type='multi')\n",
    "\n",
    "\n",
    "\n",
    "\n",
    "res_task3_ecpred = TESTingSET3.merge(res_ecpred, on='id', how='left')\n",
    "res_task3_ecpred = res_task3_ecpred.drop_duplicates().reset_index(drop=True)\n",
    "res_task3_ecpred = res_task3_ecpred.fillna('-')\n",
    "print('\\ntask3:\\n----------------')\n",
    "print('%12s'%'baslineName', '\\t\\t', 'accuracy','\\t', 'precision-macro \\t', 'recall-macro','\\t', 'f1-macro')\n",
    "eva.caculateMetrix(groundtruth=res_task3_ecpred.ec_number, predict=res_task3_ecpred.ec_ecpred, baselineName='ecpred', type='multi')"
   ]
  },
  {
   "cell_type": "markdown",
   "metadata": {},
   "source": [
    "## 3. DeepEC"
   ]
  },
  {
   "cell_type": "code",
   "execution_count": 40,
   "metadata": {},
   "outputs": [
    {
     "name": "stdout",
     "output_type": "stream",
     "text": [
      "Write finished\n"
     ]
    }
   ],
   "source": [
    "funclib.table2fasta(table=data_t1_all_set[['id', 'seq']], file_out=f'{cfg.DATADIR}/datasets/task1/test_19_22.fasta')"
   ]
  },
  {
   "cell_type": "code",
   "execution_count": 44,
   "metadata": {},
   "outputs": [
    {
     "name": "stdout",
     "output_type": "stream",
     "text": [
      "task1:\n",
      "----------------\n",
      "baslineName \t accuracy \t precision(PPV) \t NPV \t\t recall \t f1 \t\t \t confusion Matrix\n",
      "deepec \t\t0.648954 \t0.928571 \t\t0.618030 \t0.211889 \t0.345043 \t tp: 221 fp: 17 fn: 822 tn: 1330\n",
      "\n",
      "task2:\n",
      "----------------\n",
      " baslineName \t\t accuracy \t precision-macro \t recall-macro \t f1-macro\n",
      "      deepec  \t\t0.931927  \t0.513686 \t\t0.251799 \t0.249803\n",
      "\n",
      "task3:\n",
      "----------------\n",
      " baslineName \t\t accuracy \t precision-macro \t recall-macro \t f1-macro\n",
      "      deepec  \t\t0.099712  \t0.813587 \t\t0.302516 \t0.133120\n"
     ]
    }
   ],
   "source": [
    "# !conda activate deepec\n",
    "\n",
    "# !python ./baselines/deepec/deepec.py -i ./datasets/task1/test.fasta -o ./results/deepec/\n",
    "\n",
    "TESTingSET1 = data_task1_test_2019\n",
    "TESTingSET2 = data_task2_test_2019\n",
    "TESTingSET3 = data_task3_test_2019\n",
    "\n",
    "res_deepec = pd.read_csv(cfg.FILE_DEEPEC_RESULTS, sep='\\t',names=['id', 'ec_number'], header=0 )\n",
    "res_deepec.ec_number=res_deepec.apply(lambda x: x['ec_number'].replace('EC:',''), axis=1)\n",
    "res_deepec.columns = ['id','ec_deepec']\n",
    "\n",
    "res = []\n",
    "for index, group in  res_deepec.groupby('id'):\n",
    "    if len(group)==1:\n",
    "        res = res + [[group.id.values[0], group.ec_deepec.values[0]]]\n",
    "    else:\n",
    "        ecs_str = ','.join(group.ec_deepec.values)\n",
    "        res = res +[[group.id.values[0],ecs_str]] \n",
    "res_deepec = pd.DataFrame(res, columns=['id', 'ec_deepec'])\n",
    "\n",
    "\n",
    "res_deepec_task1=TESTingSET1.merge(res_deepec, on='id', how='left')\n",
    "res_deepec_task1['isenzyme_pred']=res_deepec_task1.ec_deepec.apply(lambda x: True if str(x)!='nan' else False)\n",
    "\n",
    "print('task1:\\n----------------')\n",
    "print('baslineName', '\\t', 'accuracy','\\t', 'precision(PPV) \\t NPV \\t\\t', 'recall','\\t', 'f1', '\\t\\t', '\\t confusion Matrix')\n",
    "eva.caculateMetrix(groundtruth=res_deepec_task1.isenzyme, predict=res_deepec_task1.isenzyme_pred, baselineName='deepec', type='binary')\n",
    "\n",
    "print('\\ntask2:\\n----------------')\n",
    "\n",
    "res_deepec_task2=TESTingSET2.merge(res_deepec, on='id', how='left')\n",
    "res_deepec_task2=res_deepec_task2.fillna('-')\n",
    "res_deepec_task2['functionCounts_deepec'] =res_deepec_task2.ec_deepec.apply(lambda x: len(x.split(',')))\n",
    "\n",
    "print('%12s'%'baslineName', '\\t\\t', 'accuracy','\\t', 'precision-macro \\t', 'recall-macro','\\t', 'f1-macro')\n",
    "eva.caculateMetrix(groundtruth=res_deepec_task2.functionCounts, predict=res_deepec_task2.functionCounts_deepec, baselineName='deepec', type='multi')\n",
    "\n",
    "print('\\ntask3:\\n----------------')\n",
    "res_deepec_task3 = TESTingSET3.merge(res_deepec, on='id', how='left')\n",
    "res_deepec_task3=res_deepec_task3.fillna('-')\n",
    "print('%12s'%'baslineName', '\\t\\t', 'accuracy','\\t', 'precision-macro \\t', 'recall-macro','\\t', 'f1-macro')\n",
    "eva.caculateMetrix(groundtruth=res_deepec_task3.ec_number, predict=res_deepec_task3.ec_deepec, baselineName='deepec', type='multi')"
   ]
  },
  {
   "cell_type": "markdown",
   "metadata": {},
   "source": [
    "## 4. CatFam"
   ]
  },
  {
   "cell_type": "code",
   "execution_count": 41,
   "metadata": {},
   "outputs": [
    {
     "name": "stdout",
     "output_type": "stream",
     "text": [
      "task1:\n",
      "----------------\n",
      "baslineName \t accuracy \t precision(PPV) \t NPV \t\t recall \t f1 \t\t \t confusion Matrix\n",
      "catfam \t\t0.618828 \t0.902439 \t\t0.597934 \t0.141898 \t0.245236 \t tp: 148 fp: 16 fn: 895 tn: 1331\n",
      "\n",
      "task2:\n",
      "----------------\n",
      " baslineName \t\t accuracy \t precision-macro \t recall-macro \t f1-macro\n",
      "      catfam  \t\t0.936721  \t0.491561 \t\t0.540142 \t0.228278\n",
      "\n",
      "task3:\n",
      "----------------\n",
      " baslineName \t\t accuracy \t precision-macro \t recall-macro \t f1-macro\n",
      "      catfam  \t\t0.066155  \t0.885195 \t\t0.204399 \t0.099246\n"
     ]
    }
   ],
   "source": [
    "TESTingSET1 = data_task1_test_2019\n",
    "TESTingSET2 = data_task2_test_2019\n",
    "TESTingSET3 = data_task3_test_2019\n",
    "\n",
    "res_catfam = pd.read_csv(cfg.RESULTSDIR+'catfam/catfam.txt', sep='\\t', names=['id', 'ec_catfam'])\n",
    "res = []\n",
    "for index, group in  res_catfam.groupby('id'):\n",
    "    if len(group)==1:\n",
    "        res = res + [[group.id.values[0], group.ec_catfam.values[0]]]\n",
    "    else:\n",
    "        ecs_str = ','.join(group.ec_catfam.values)\n",
    "        res = res +[[group.id.values[0],ecs_str]] \n",
    "res_catfam = pd.DataFrame(res, columns=['id', 'ec_catfam'])\n",
    "res_catfam = res_catfam.fillna('-')\n",
    "res_catfam['isenzyme_catfam']=res_catfam.ec_catfam.apply(lambda x: True if str(x)!='-' else False)\n",
    "res_catfam['functionCounts_catfam'] = res_catfam.ec_catfam.apply(lambda x :len(str(x).split(',')))\n",
    "\n",
    "print('task1:\\n----------------')\n",
    "res_catfam_task1=TESTingSET1.merge(res_catfam, on='id', how='left')\n",
    "res_catfam_task1.isenzyme_catfam = res_catfam_task1.isenzyme_catfam.fillna(False)\n",
    "# res_catfam_task1\n",
    "print('baslineName', '\\t', 'accuracy','\\t', 'precision(PPV) \\t NPV \\t\\t', 'recall','\\t', 'f1', '\\t\\t', '\\t confusion Matrix')\n",
    "eva.caculateMetrix(groundtruth=res_catfam_task1.isenzyme, predict=res_catfam_task1.isenzyme_catfam, baselineName='catfam', type='binary')\n",
    "\n",
    "print('\\ntask2:\\n----------------')\n",
    "res_catfam_task2=TESTingSET2.merge(res_catfam, on='id', how='left')\n",
    "res_catfam_task2.functionCounts_catfam = res_catfam_task2.functionCounts_catfam.fillna(0)\n",
    "print('%12s'%'baslineName', '\\t\\t', 'accuracy','\\t', 'precision-macro \\t', 'recall-macro','\\t', 'f1-macro')\n",
    "eva.caculateMetrix(groundtruth=res_catfam_task2.functionCounts, predict=res_catfam_task2.functionCounts_catfam, baselineName='catfam', type='multi')\n",
    "\n",
    "print('\\ntask3:\\n----------------')\n",
    "print('%12s'%'baslineName', '\\t\\t', 'accuracy','\\t', 'precision-macro \\t', 'recall-macro','\\t', 'f1-macro')\n",
    "res_catfam_task3=TESTingSET3.merge(res_catfam, on='id', how='left')\n",
    "res_catfam_task3.ec_catfam = res_catfam_task3.ec_catfam.fillna('-')\n",
    "eva.caculateMetrix(groundtruth=res_catfam_task3.ec_number, predict=res_catfam_task3.ec_catfam, baselineName='catfam', type='multi')"
   ]
  },
  {
   "cell_type": "markdown",
   "metadata": {},
   "source": [
    "## 5. PRIAM"
   ]
  },
  {
   "cell_type": "code",
   "execution_count": 12,
   "metadata": {},
   "outputs": [
    {
     "name": "stdout",
     "output_type": "stream",
     "text": [
      "task1:\n",
      "----------------\n",
      "baslineName \t accuracy \t precision(PPV) \t NPV \t\t recall \t f1 \t\t \t confusion Matrix\n",
      "priam \t\t0.747315 \t0.678001 \t\t0.872065 \t0.905107 \t0.775264 \t tp: 4626 fp: 2197 fn: 485 tn: 3306\n",
      "\n",
      "task2:\n",
      "----------------\n",
      " baslineName \t\t accuracy \t precision-macro \t recall-macro \t f1-macro\n",
      "       priam  \t\t0.132655  \t0.009457 \t\t0.930938 \t0.003176\n",
      "\n",
      "task3:\n",
      "----------------\n",
      " baslineName \t\t accuracy \t precision-macro \t recall-macro \t f1-macro\n",
      "       priam  \t\t0.045197  \t0.250036 \t\t0.752838 \t0.014141\n"
     ]
    }
   ],
   "source": [
    "# ！java -Xmx50G -jar ../baselines/priam/PRIAM_search.jar -p /home/shizhenkun/codebase/DMLF/baselines/priam/PRIAM_JAN18 -i /home/shizhenkun/codebase/DMLF/data/gu_bang.fasta -o /home/shizhenkun/codebase/DMLF/results/case_gubang/priam --bp /home/shizhenkun/downloads/blast-2.2.26/bin --np 78\n",
    "res_priam = eva.load_praim_res(resfile=cfg.RESULTSDIR+'priam/PRIAM_20221011103347/ANNOTATION/sequenceECs.txt')\n",
    "\n",
    "TESTingSET1 = data_task1_test_2022\n",
    "TESTingSET2 = data_task2_test_2022\n",
    "TESTingSET3 = data_task3_test_2022\n",
    "\n",
    "\n",
    "res_priam['isenzyme_priam'] = res_priam.ec_priam.apply(lambda x: True if str(x)!='nan' else False)\n",
    "res_priam['functionCounts_priam'] = res_priam.ec_priam.apply(lambda x :len(str(x).split(',')))\n",
    "\n",
    "print('task1:\\n----------------')\n",
    "res_priam_task1=TESTingSET1.merge(res_priam, on='id', how='left')\n",
    "# res_priam_task1['isenzyme_priam']=res_priam_task1.apply(lambda x: x.isenzyme_priam if x.isenzyme_priam==True else (False if x.isenzyme else True), axis=1)\n",
    "res_priam_task1.isenzyme_priam = res_priam_task1.isenzyme_priam.fillna(False)\n",
    "print('baslineName', '\\t', 'accuracy','\\t', 'precision(PPV) \\t NPV \\t\\t', 'recall','\\t', 'f1', '\\t\\t', '\\t confusion Matrix')\n",
    "eva.caculateMetrix(groundtruth=res_priam_task1.isenzyme, predict=res_priam_task1.isenzyme_priam, baselineName='priam', type='binary')\n",
    "\n",
    "print('\\ntask2:\\n----------------')\n",
    "res_priam_task2=TESTingSET2.merge(res_priam, on='id', how='left')\n",
    "res_priam_task2.functionCounts_priam = res_priam_task2.functionCounts_priam.fillna(0)\n",
    "print('%12s'%'baslineName', '\\t\\t', 'accuracy','\\t', 'precision-macro \\t', 'recall-macro','\\t', 'f1-macro')\n",
    "eva.caculateMetrix(groundtruth=res_priam_task2.functionCounts, predict=res_priam_task2.functionCounts_priam, baselineName='priam', type='multi')\n",
    "\n",
    "print('\\ntask3:\\n----------------')\n",
    "res_priam_task3=TESTingSET3.merge(res_priam, on='id', how='left')\n",
    "res_priam_task3.ec_priam = res_priam_task3.ec_priam.fillna('-')\n",
    "print('%12s'%'baslineName', '\\t\\t', 'accuracy','\\t', 'precision-macro \\t', 'recall-macro','\\t', 'f1-macro')\n",
    "eva.caculateMetrix(groundtruth=res_priam_task3.ec_number, predict=res_priam_task3.ec_priam, baselineName='priam', type='multi')\n"
   ]
  },
  {
   "cell_type": "code",
   "execution_count": 7,
   "metadata": {},
   "outputs": [
    {
     "data": {
      "text/plain": [
       "'/home/shizhenkun/codebase/DMLF/data/datasets/task3/test19-22-all-integrated.fasta'"
      ]
     },
     "execution_count": 7,
     "metadata": {},
     "output_type": "execute_result"
    }
   ],
   "source": [
    "f'{cfg.DATADIR}datasets/task3/test19-22-all-integrated.fasta'"
   ]
  },
  {
   "cell_type": "code",
   "execution_count": null,
   "metadata": {},
   "outputs": [],
   "source": [
    "java -jar /home/shizhenkun/codebase/DMLF/baselines/ECPred/ECPred.jar blast /home/shizhenkun/codebase/DMLF/data/datasets/task1/test.fasta /home/shizhenkun/codebase/DMLF/baselines/ECPred/ /home/shizhenkun/codebase/DMLF/results/ecpred\n",
    "\n",
    "java -Xmx128G -jar /home/shizhenkun/codebase/DMLF/baselines/priam/PRIAM_search.jar -p /home/shizhenkun/codebase/DMLF/baselines/priam/PRIAM_JAN18 -i /home/shizhenkun/codebase/DMLF/data/datasets/task3/test19-22-all-integrated.fasta -o /home/shizhenkun/codebase/DMLF/results/priam --blast_path /home/shizhenkun/downloads/blast-2.2.13/bin -np 100"
   ]
  },
  {
   "cell_type": "code",
   "execution_count": 3,
   "metadata": {},
   "outputs": [
    {
     "name": "stdout",
     "output_type": "stream",
     "text": [
      "step 1 loading task data\n",
      "step 2: Loading features, embdding method=esm32\n"
     ]
    }
   ],
   "source": [
    "EMBEDDING_METHOD = 'esm32'\n",
    "print('step 1 loading task data')\n",
    "\n",
    "data_task1_train = pd.read_feather(cfg.FILE_TASK1_TRAIN)\n",
    "data_task2_train = pd.read_feather(cfg.FILE_TASK2_TRAIN)\n",
    "print(f'step 2: Loading features, embdding method={EMBEDDING_METHOD}')\n",
    "feature_df = bcommon.load_data_embedding(embedding_type=EMBEDDING_METHOD)"
   ]
  },
  {
   "cell_type": "code",
   "execution_count": null,
   "metadata": {},
   "outputs": [],
   "source": []
  },
  {
   "cell_type": "code",
   "execution_count": 4,
   "metadata": {},
   "outputs": [
    {
     "name": "stdout",
     "output_type": "stream",
     "text": [
      "step 3: train isEnzyme model\n"
     ]
    }
   ],
   "source": [
    "print('step 3: train isEnzyme model')\n",
    "task1_train_X, task1_train_Y = btrain.get_train_X_Y(traindata=data_task1_train, feature_bankfile=feature_df, task=1)\n",
    "task1_test_X, task1_test_Y = btrain.get_train_X_Y(traindata=data_task1_test, feature_bankfile=feature_df, task=1)\n",
    "t1_x_train, t1_x_vali, t1_y_train, t1_y_vali = train_test_split(task1_train_X,np.array(task1_train_Y).ravel(),test_size=cfg.VALIDATION_RATE,random_state=1)\n",
    "t1_eval_set = [(t1_x_train, t1_y_train), (t1_x_vali, t1_y_vali), (task1_test_X, task1_test_Y)]"
   ]
  },
  {
   "cell_type": "code",
   "execution_count": 15,
   "metadata": {},
   "outputs": [
    {
     "name": "stdout",
     "output_type": "stream",
     "text": [
      "[0]\tvalidation_0-auc:0.84186\tvalidation_1-auc:0.84140\tvalidation_2-auc:0.86341\n",
      "[100]\tvalidation_0-auc:0.88185\tvalidation_1-auc:0.88011\tvalidation_2-auc:0.89027\n",
      "[200]\tvalidation_0-auc:0.89308\tvalidation_1-auc:0.89064\tvalidation_2-auc:0.89717\n",
      "[300]\tvalidation_0-auc:0.90176\tvalidation_1-auc:0.89837\tvalidation_2-auc:0.89980\n",
      "[400]\tvalidation_0-auc:0.90862\tvalidation_1-auc:0.90446\tvalidation_2-auc:0.90188\n",
      "[500]\tvalidation_0-auc:0.91398\tvalidation_1-auc:0.90909\tvalidation_2-auc:0.90341\n",
      "[600]\tvalidation_0-auc:0.91817\tvalidation_1-auc:0.91262\tvalidation_2-auc:0.90431\n",
      "[700]\tvalidation_0-auc:0.92168\tvalidation_1-auc:0.91545\tvalidation_2-auc:0.90477\n",
      "[800]\tvalidation_0-auc:0.92471\tvalidation_1-auc:0.91784\tvalidation_2-auc:0.90520\n",
      "[900]\tvalidation_0-auc:0.92737\tvalidation_1-auc:0.91989\tvalidation_2-auc:0.90554\n",
      "[999]\tvalidation_0-auc:0.92986\tvalidation_1-auc:0.92179\tvalidation_2-auc:0.90590\n"
     ]
    }
   ],
   "source": [
    "cfg.TRAIN_ISENZYME_LEARNING_STEPS = 1000\n",
    "\n",
    "\n",
    "\n",
    "model = XGBClassifier(\n",
    "    objective='binary:logistic', \n",
    "    random_state=13, \n",
    "    use_label_encoder=False, \n",
    "    n_jobs=-2, \n",
    "    eval_metric='auc',\n",
    "    max_depth=6,\n",
    "    n_estimators= cfg.TRAIN_ISENZYME_LEARNING_STEPS,\n",
    "    tree_method = 'gpu_hist',\n",
    "    learning_rate = 0.01,\n",
    "    gpu_id=0\n",
    "    )\n",
    "\n",
    "# print(model)\n",
    "# model.fit(X, Y.ravel())\n",
    "history = model.fit(t1_x_train, t1_y_train,  eval_set=t1_eval_set, verbose=100)"
   ]
  },
  {
   "cell_type": "code",
   "execution_count": 5,
   "metadata": {},
   "outputs": [
    {
     "name": "stdout",
     "output_type": "stream",
     "text": [
      "gbdt \t\t0.820332 \t0.822984 \t\t0.818005 \t0.798670 \t0.810644 \t tp: 4082 fp: 878 fn: 1029 tn: 4625\n"
     ]
    }
   ],
   "source": [
    "methods=[ 'gbdt']\n",
    "for method in methods:\n",
    "    funclib.evaluate_2(baslineName=method, X_train_std=t1_x_train, Y_train=t1_y_train, X_test_std=task1_test_X, Y_test=task1_test_Y, type='binary')"
   ]
  },
  {
   "cell_type": "code",
   "execution_count": 12,
   "metadata": {},
   "outputs": [
    {
     "data": {
      "text/plain": [
       "array([0, 0, 0, ..., 0, 0, 1])"
      ]
     },
     "execution_count": 12,
     "metadata": {},
     "output_type": "execute_result"
    }
   ],
   "source": [
    "task1_test_Y.values"
   ]
  },
  {
   "cell_type": "code",
   "execution_count": 87,
   "metadata": {},
   "outputs": [],
   "source": [
    "sprot2022 = pd.read_csv(f'{cfg.DIR_UNIPROT}sprot2022.tsv', sep='\\t',header=0) #读入文件\n",
    "eclist = list(set(_flatten([item.split(',') for item in list(set(sprot2022.ec_number))])))"
   ]
  },
  {
   "cell_type": "code",
   "execution_count": 90,
   "metadata": {},
   "outputs": [
    {
     "data": {
      "text/plain": [
       "5570"
      ]
     },
     "execution_count": 90,
     "metadata": {},
     "output_type": "execute_result"
    }
   ],
   "source": [
    "len(set([item.strip() for item in eclist]))"
   ]
  },
  {
   "cell_type": "code",
   "execution_count": 6,
   "metadata": {},
   "outputs": [],
   "source": [
    "from tkinter import _flatten"
   ]
  },
  {
   "cell_type": "code",
   "execution_count": 67,
   "metadata": {},
   "outputs": [],
   "source": [
    "def get_first_digit(eclist):\n",
    "    res =  list(set([item.split('.')[0] for item in eclist]))\n",
    "    if len(res)==1:\n",
    "        return res[0]\n",
    "    else:\n",
    "        return ','.join(res)\n",
    "\n",
    "data_task3_train = pd.read_feather(cfg.FILE_TASK3_TRAIN)\n",
    "data_task3_test_22 = pd.read_feather(cfg.FILE_TASK3_TEST_2022)\n",
    "data_task3_test_20 = pd.read_feather(cfg.FILE_TASK3_TEST_2020)\n",
    "\n",
    "\n",
    "data_task3_train['ecl1']=data_task3_train.ec_number.apply(lambda x : x.split('.')[0] if len(list(set(x.split(','))))==1 else get_first_digit(list(set(x.split(',')))))\n",
    "data_task3_test_20['ecl1']=data_task3_test_20.ec_number.apply(lambda x : x.split('.')[0] if len(list(set(x.split(','))))==1 else get_first_digit(list(set(x.split(',')))))\n",
    "data_task3_test_22['ecl1']=data_task3_test_22.ec_number.apply(lambda x : x.split('.')[0] if len(list(set(x.split(','))))==1 else get_first_digit(list(set(x.split(',')))))\n"
   ]
  },
  {
   "cell_type": "code",
   "execution_count": 68,
   "metadata": {},
   "outputs": [
    {
     "name": "stdout",
     "output_type": "stream",
     "text": [
      "34169\t1065\t1615\n",
      "79570\t1009\t1567\n",
      "56749\t676\t989\n",
      "20747\t346\t608\n",
      "11927\t108\t184\n",
      "25254\t156\t244\n",
      "0\t57\t83\n"
     ]
    }
   ],
   "source": [
    "for i in range(1,8):\n",
    "    i_t = len(data_task3_train[data_task3_train.ecl1.str.contains(str(i))])\n",
    "    i_20 = len(data_task3_test_20[data_task3_test_20.ecl1.str.contains(str(i))])\n",
    "    i_22 = len(data_task3_test_22[data_task3_test_22.ecl1.str.contains(str(i))])\n",
    "    \n",
    "    print(f'{i_t}\\t{i_20}\\t{i_22}')"
   ]
  },
  {
   "cell_type": "code",
   "execution_count": 70,
   "metadata": {},
   "outputs": [],
   "source": [
    "\n",
    "ec_task3_train = _flatten([item.split(',') for item in list(set(data_task3_train.ec_number))])\n",
    "ec_task3_test_20 = _flatten([item.split(',') for item in list(set(data_task3_test_20.ec_number))])\n",
    "ec_task3_test_22 = _flatten([item.split(',') for item in list(set(data_task3_test_22.ec_number))])\n",
    "\n"
   ]
  },
  {
   "cell_type": "code",
   "execution_count": 74,
   "metadata": {},
   "outputs": [
    {
     "data": {
      "text/plain": [
       "6715"
      ]
     },
     "execution_count": 74,
     "metadata": {},
     "output_type": "execute_result"
    }
   ],
   "source": [
    "len(ec_task3_train)"
   ]
  },
  {
   "cell_type": "code",
   "execution_count": 82,
   "metadata": {},
   "outputs": [],
   "source": [
    "pd.DataFrame({'ec':ec_task3_train}).to_csv(cfg.RESULTSDIR+'ec_train.tsv', index=None, header=None)\n",
    "pd.DataFrame({'ec':ec_task3_test_20}).to_csv(cfg.RESULTSDIR+'ec_test20.tsv', index=None, header=None)\n",
    "pd.DataFrame({'ec':ec_task3_test_22}).to_csv(cfg.RESULTSDIR+'ec_test22.tsv', index=None, header=None)\n"
   ]
  },
  {
   "cell_type": "code",
   "execution_count": 83,
   "metadata": {},
   "outputs": [],
   "source": [
    "\n",
    "\n"
   ]
  },
  {
   "cell_type": "code",
   "execution_count": null,
   "metadata": {},
   "outputs": [],
   "source": []
  },
  {
   "cell_type": "code",
   "execution_count": null,
   "metadata": {},
   "outputs": [],
   "source": []
  }
 ],
 "metadata": {
  "kernelspec": {
   "display_name": "dmlf",
   "language": "python",
   "name": "python3"
  },
  "language_info": {
   "codemirror_mode": {
    "name": "ipython",
    "version": 3
   },
   "file_extension": ".py",
   "mimetype": "text/x-python",
   "name": "python",
   "nbconvert_exporter": "python",
   "pygments_lexer": "ipython3",
   "version": "3.8.13"
  },
  "vscode": {
   "interpreter": {
    "hash": "01198cbd8e9354c2bdc2e2d750ceaa12955025c4f7059132aa2585625d50e356"
   }
  },
  "widgets": {
   "application/vnd.jupyter.widget-state+json": {
    "state": {},
    "version_major": 2,
    "version_minor": 0
   }
  }
 },
 "nbformat": 4,
 "nbformat_minor": 4
}
