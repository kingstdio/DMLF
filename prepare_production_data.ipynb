{
 "cells": [
  {
   "attachments": {},
   "cell_type": "markdown",
   "id": "2287d9df-a1b8-4fc7-8373-01ab1721225d",
   "metadata": {},
   "source": [
    "# Prepare Production Data For Web-Service\n",
    "\n",
    "> author: Shizhenkun   \n",
    "> email: zhenkun.shi@tib.cas.cn   \n",
    "> date: 2023-02-02  "
   ]
  },
  {
   "cell_type": "markdown",
   "id": "6c6db9dd-5c89-423e-8131-b2e5b4c01618",
   "metadata": {},
   "source": [
    "## 1. Import packages"
   ]
  },
  {
   "cell_type": "code",
   "execution_count": 1,
   "id": "8fd276ba-aec4-4edf-a2d1-682a15233476",
   "metadata": {
    "tags": []
   },
   "outputs": [
    {
     "name": "stdout",
     "output_type": "stream",
     "text": [
      "INFO: Pandarallel will run on 52 workers.\n",
      "INFO: Pandarallel will use Memory file system to transfer data between the main process and workers.\n"
     ]
    }
   ],
   "source": [
    "import numpy as np\n",
    "import pandas as pd\n",
    "from tqdm import tqdm\n",
    "import config as cfg\n",
    "from functools import reduce\n",
    "\n",
    "from tools import filetool as ftool\n",
    "from tools import exact_ec_from_uniprot as exactec\n",
    "from tools import funclib\n",
    "from tools import minitools as mtool\n",
    "from tools import embedding_esm as esmebd\n",
    "from tools import embdding_onehot as onehotebd\n",
    "\n",
    "from pandarallel import pandarallel # 导入pandaralle\n",
    "pandarallel.initialize(progress_bar=False)\n",
    "\n",
    "\n",
    "%load_ext autoreload\n",
    "%autoreload 2"
   ]
  },
  {
   "cell_type": "markdown",
   "id": "901557a4-c496-4608-84e2-3306f6a322e3",
   "metadata": {},
   "source": [
    "## 2. Download latest from unisprot"
   ]
  },
  {
   "cell_type": "code",
   "execution_count": 2,
   "id": "243413dd-4ce6-40ea-a441-34b313aab6dc",
   "metadata": {
    "tags": []
   },
   "outputs": [
    {
     "name": "stdout",
     "output_type": "stream",
     "text": [
      "wget -q https://ftp.uniprot.org/pub/databases/uniprot/current_release/knowledgebase/complete/uniprot_sprot.dat.gz -O /home/shizhenkun/codebase/DMLF/data/uniprot/uniprot_sprot_leatest.dat.gz\n"
     ]
    }
   ],
   "source": [
    "# download location cfg.FILE_SPROT_LATEST\n",
    "ftool.wget(download_url=cfg.URL_SPROT_LATEST, save_file=cfg.FILE_SPROT_LATEST)"
   ]
  },
  {
   "cell_type": "markdown",
   "id": "c10cb9c0-94bc-4525-9795-1b818a977c69",
   "metadata": {},
   "source": [
    "## 3. Extract records from rawdata"
   ]
  },
  {
   "cell_type": "code",
   "execution_count": 3,
   "id": "616bc8ba-6902-4b66-884a-fce91b6041bb",
   "metadata": {
    "tags": []
   },
   "outputs": [
    {
     "name": "stderr",
     "output_type": "stream",
     "text": [
      "568744it [03:47, 2499.02it/s]"
     ]
    },
    {
     "name": "stdout",
     "output_type": "stream",
     "text": [
      "finished use time 227.108 s\n"
     ]
    },
    {
     "name": "stderr",
     "output_type": "stream",
     "text": [
      "\n"
     ]
    }
   ],
   "source": [
    "exactec.run_exact_task(infile=cfg.FILE_SPROT_LATEST, outfile=f'{cfg.DIR_UNIPROT}sprot_latest.tsv')"
   ]
  },
  {
   "cell_type": "markdown",
   "id": "4b0f9da8-aad5-40aa-bb31-3fef682bd971",
   "metadata": {},
   "source": [
    "## 4. Preprocessing"
   ]
  },
  {
   "cell_type": "code",
   "execution_count": 5,
   "id": "1f90d9b3-f19d-4767-8d78-d54605b49971",
   "metadata": {},
   "outputs": [
    {
     "data": {
      "text/html": [
       "<div>\n",
       "<style scoped>\n",
       "    .dataframe tbody tr th:only-of-type {\n",
       "        vertical-align: middle;\n",
       "    }\n",
       "\n",
       "    .dataframe tbody tr th {\n",
       "        vertical-align: top;\n",
       "    }\n",
       "\n",
       "    .dataframe thead th {\n",
       "        text-align: right;\n",
       "    }\n",
       "</style>\n",
       "<table border=\"1\" class=\"dataframe\">\n",
       "  <thead>\n",
       "    <tr style=\"text-align: right;\">\n",
       "      <th></th>\n",
       "      <th>id</th>\n",
       "      <th>isenzyme</th>\n",
       "      <th>isMultiFunctional</th>\n",
       "      <th>functionCounts</th>\n",
       "      <th>ec_number</th>\n",
       "      <th>ec_specific_level</th>\n",
       "      <th>seq</th>\n",
       "      <th>seqlength</th>\n",
       "    </tr>\n",
       "  </thead>\n",
       "  <tbody>\n",
       "    <tr>\n",
       "      <th>0</th>\n",
       "      <td>P02762</td>\n",
       "      <td>False</td>\n",
       "      <td>False</td>\n",
       "      <td>0</td>\n",
       "      <td>-</td>\n",
       "      <td>0</td>\n",
       "      <td>MKMLLLLCLGLTLVCVHAEEASSTGRNFNVEKINGEWHTIILASDK...</td>\n",
       "      <td>180</td>\n",
       "    </tr>\n",
       "    <tr>\n",
       "      <th>1</th>\n",
       "      <td>P58773</td>\n",
       "      <td>False</td>\n",
       "      <td>False</td>\n",
       "      <td>0</td>\n",
       "      <td>-</td>\n",
       "      <td>0</td>\n",
       "      <td>MDAIKKKMQMLKLDKENALDRAEQAEADKKAAEERSKQLEDELVAL...</td>\n",
       "      <td>284</td>\n",
       "    </tr>\n",
       "    <tr>\n",
       "      <th>2</th>\n",
       "      <td>P68925</td>\n",
       "      <td>False</td>\n",
       "      <td>False</td>\n",
       "      <td>0</td>\n",
       "      <td>-</td>\n",
       "      <td>0</td>\n",
       "      <td>MKNGFYATYRSKNKGKDKRSINLSVFLNSLLADNHHLQVGSNYLYI...</td>\n",
       "      <td>279</td>\n",
       "    </tr>\n",
       "  </tbody>\n",
       "</table>\n",
       "</div>"
      ],
      "text/plain": [
       "       id  isenzyme  isMultiFunctional  functionCounts ec_number  \\\n",
       "0  P02762     False              False               0         -   \n",
       "1  P58773     False              False               0         -   \n",
       "2  P68925     False              False               0         -   \n",
       "\n",
       "   ec_specific_level                                                seq  \\\n",
       "0                  0  MKMLLLLCLGLTLVCVHAEEASSTGRNFNVEKINGEWHTIILASDK...   \n",
       "1                  0  MDAIKKKMQMLKLDKENALDRAEQAEADKKAAEERSKQLEDELVAL...   \n",
       "2                  0  MKNGFYATYRSKNKGKDKRSINLSVFLNSLLADNHHLQVGSNYLYI...   \n",
       "\n",
       "   seqlength  \n",
       "0        180  \n",
       "1        284  \n",
       "2        279  "
      ]
     },
     "execution_count": 5,
     "metadata": {},
     "output_type": "execute_result"
    }
   ],
   "source": [
    "#加载数据并转换时间格式\n",
    "sprot_latest = pd.read_csv(f'{cfg.DIR_UNIPROT}sprot_latest.tsv', sep='\\t',header=0) #读入文件\n",
    "sprot_latest = mtool.convert_DF_dateTime(inputdf = sprot_latest)\n",
    "\n",
    "# 6.1 Drop Duplicates\n",
    "sprot_latest.drop_duplicates(subset=['seq'], keep='first', inplace=True)\n",
    "sprot_latest.reset_index(drop=True, inplace=True)\n",
    "\n",
    "sprot_latest = sprot_latest.iloc[:,np.r_[0,2:7,10:12]]\n",
    "\n",
    "# Trim string\n",
    "with pd.option_context('mode.chained_assignment', None):\n",
    "    sprot_latest.ec_number = sprot_latest.ec_number.parallel_apply(lambda x : str(x).strip()) #ec trim\n",
    "    sprot_latest.seq = sprot_latest.seq.parallel_apply(lambda x : str(x).strip()) #seq trim\n",
    "\n",
    "\n",
    "#format EC numbers\n",
    "sprot_latest['ec_number'] = sprot_latest.ec_number.parallel_apply(lambda x: mtool.format_ec(x))\n",
    "sprot_latest['ec_number'] = sprot_latest.ec_number.parallel_apply(lambda x: mtool.specific_ecs(x)) #按最高级别指定EC\n",
    "sprot_latest['functionCounts'] = sprot_latest.ec_number.parallel_apply(lambda x: 0 if x=='-'  else len(x.split(',')))\n",
    "\n",
    "#save file\n",
    "sprot_latest.to_feather(cfg.DIR_UNIPROT + 'sprot_latest.feather')\n",
    "\n",
    "sprot_latest.head(3)"
   ]
  },
  {
   "cell_type": "markdown",
   "id": "39035c66-814a-43cc-84dc-38a6cecc56fb",
   "metadata": {},
   "source": [
    "## 5 Update Feature Bank\n",
    "### 5.1 Load Exsiting Features"
   ]
  },
  {
   "cell_type": "code",
   "execution_count": 26,
   "id": "d760b165-ad48-47d7-8ac4-6defbc0a905f",
   "metadata": {},
   "outputs": [],
   "source": [
    "# load data\n",
    "sprot_latest = pd.read_feather(cfg.DIR_UNIPROT + 'sprot_latest.feather')\n",
    "\n",
    "# load features\n",
    "if ftool.isfileExists(cfg.FILE_FEATURE_ESM0):\n",
    "    feature_esm0 = pd.read_feather(cfg.FILE_FEATURE_ESM0)\n",
    "    feature_esm32 = pd.read_feather(cfg.FILE_FEATURE_ESM32)\n",
    "    feature_esm33 = pd.read_feather(cfg.FILE_FEATURE_ESM33)\n",
    "    feature_unirep = pd.read_feather(cfg.FILE_FEATURE_UNIREP)\n",
    "    feature_onehot = pd.read_feather(cfg.FILE_FEATURE_ONEHOT)\n",
    "    #caculate embedding list\n",
    "    needesm = sprot_latest[~sprot_latest.id.isin(list(set(feature_esm33.id)))]\n",
    "    needunirep = sprot_latest[~sprot_latest.id.isin(list(set(feature_unirep.id)))]\n",
    "    needonehot = sprot_latest[~sprot_latest.id.isin(list(set(feature_onehot.id)))]\n",
    "else:\n",
    "    needesm = sprot_latest\n",
    "    needunirep = sprot_latest\n",
    "    needonehot = sprot_latest"
   ]
  },
  {
   "cell_type": "markdown",
   "id": "b308e065-d78e-4c12-9240-a37defcc1ed3",
   "metadata": {},
   "source": [
    "### 5.2 ESM embedding "
   ]
  },
  {
   "cell_type": "code",
   "execution_count": 9,
   "id": "11dfec1f-9f3b-4f9d-a8f5-ade60e9735cf",
   "metadata": {},
   "outputs": [
    {
     "name": "stderr",
     "output_type": "stream",
     "text": [
      "100%|██████████| 1963/1963 [19:21<00:00,  1.69it/s]\n"
     ]
    }
   ],
   "source": [
    "# !pip install fair-esm\n",
    "if len(needesm)>0:\n",
    "    tr_rep0, tr_rep32, tr_rep33 = esmebd.get_rep_multi_sequence(sequences=needesm, model='esm1b_t33_650M_UR50S',seqthres=1022)\n",
    "    #merge existing\n",
    "    feature_esm0 = pd.concat([feature_esm0, tr_rep0], axis=0).reset_index(drop=True)\n",
    "    feature_esm32 = pd.concat([feature_esm0, tr_rep32], axis=0).reset_index(drop=True)\n",
    "    feature_esm33 = pd.concat([feature_esm0, tr_rep33], axis=0).reset_index(drop=True)\n",
    "\n",
    "    #save\n",
    "    feature_esm0.to_feather(cfg.FILE_FEATURE_ESM0)\n",
    "    feature_esm32.to_feather(cfg.FILE_FEATURE_ESM32)\n",
    "    feature_esm33.to_feather(cfg.FILE_FEATURE_ESM33)"
   ]
  },
  {
   "cell_type": "markdown",
   "id": "fce624e8-d909-42cb-9073-87851c8d2baa",
   "metadata": {},
   "source": [
    "### 5.3 Unirep Embedding"
   ]
  },
  {
   "cell_type": "code",
   "execution_count": 15,
   "id": "80a11a0a-7b83-4c7f-a2b8-ede6953cdae9",
   "metadata": {},
   "outputs": [
    {
     "name": "stderr",
     "output_type": "stream",
     "text": [
      "No GPU/TPU found, falling back to CPU. (Set TF_CPP_MIN_LOG_LEVEL=0 and rerun for more info.)\n",
      "100%|██████████| 6/6 [36:29<00:00, 364.92s/it]"
     ]
    },
    {
     "name": "stdout",
     "output_type": "stream",
     "text": [
      "length not match\n"
     ]
    },
    {
     "name": "stderr",
     "output_type": "stream",
     "text": [
      "\n"
     ]
    }
   ],
   "source": [
    "if len(needunirep) > 0:\n",
    "    from tools import embedding_unirep as unirep\n",
    "    tr_unirep = unirep.getunirep(needunirep, 200)\n",
    "\n",
    "    feature_unirep = pd.concat([feature_unirep, tr_unirep],axis=0).reset_index(drop=True)\n",
    "    feature_unirep.to_feather(cfg.FILE_FEATURE_UNIREP)"
   ]
  },
  {
   "cell_type": "markdown",
   "id": "62886463",
   "metadata": {},
   "source": [
    "### 5.4 One-hot"
   ]
  },
  {
   "cell_type": "code",
   "execution_count": 19,
   "id": "bc27bd23",
   "metadata": {},
   "outputs": [],
   "source": [
    "if len(needonehot) > 0:\n",
    "    tr_onehot = onehotebd.get_onehot(sequences=needonehot, padding=True, padding_window=1500)\n",
    "    feature_onehot = pd.concat([feature_onehot, tr_onehot],axis=0).reset_index(drop=True)\n",
    "    feature_onehot.to_feather(cfg.FILE_FEATURE_ONEHOT)"
   ]
  },
  {
   "cell_type": "markdown",
   "id": "cc38ac17-51d7-4025-8d79-88e972e45f91",
   "metadata": {},
   "source": [
    "## 6. Build production datasets"
   ]
  },
  {
   "cell_type": "code",
   "execution_count": 34,
   "id": "a84e607d-6882-4a78-95f4-f58327a7bcea",
   "metadata": {},
   "outputs": [],
   "source": [
    "# task1\n",
    "task1 = sprot_latest.iloc[:,np.r_[0,7,1]]\n",
    "task1.to_feather(cfg.DIR_DATASETS + 'production/task1.feather')\n",
    "\n",
    "#task2\n",
    "task2 = sprot_latest[sprot_latest.functionCounts >0].reset_index(drop=True)\n",
    "task2 = task2.iloc[:,np.r_[0,7,3]]\n",
    "task2.to_feather(cfg.DIR_DATASETS + 'production/task2.feather')\n",
    "\n",
    "#task3\n",
    "task3 = sprot_latest[sprot_latest.functionCounts >0].reset_index(drop=True)\n",
    "task3 = task3.iloc[:,np.r_[0,7,4]]\n",
    "task3.to_feather(cfg.DIR_DATASETS + 'production/task3.feather')"
   ]
  }
 ],
 "metadata": {
  "kernelspec": {
   "display_name": "DMLF",
   "language": "python",
   "name": "python3"
  },
  "language_info": {
   "codemirror_mode": {
    "name": "ipython",
    "version": 3
   },
   "file_extension": ".py",
   "mimetype": "text/x-python",
   "name": "python",
   "nbconvert_exporter": "python",
   "pygments_lexer": "ipython3",
   "version": "3.8.15"
  },
  "toc-autonumbering": false,
  "toc-showmarkdowntxt": false,
  "toc-showtags": false,
  "vscode": {
   "interpreter": {
    "hash": "6b0f740237ba4768c544d9b9677983e49b45ca1230fda464ede0b93eba99c7d2"
   }
  },
  "widgets": {
   "application/vnd.jupyter.widget-state+json": {
    "state": {},
    "version_major": 2,
    "version_minor": 0
   }
  }
 },
 "nbformat": 4,
 "nbformat_minor": 5
}
